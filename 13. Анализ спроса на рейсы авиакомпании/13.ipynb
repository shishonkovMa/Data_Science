{
 "cells": [
  {
   "cell_type": "markdown",
   "metadata": {
    "toc": true
   },
   "source": [
    "<h1>Содержание<span class=\"tocSkip\"></span></h1>\n",
    "<div class=\"toc\"><ul class=\"toc-item\"><li><span><a href=\"#Аналитика\" data-toc-modified-id=\"Аналитика-1\"><span class=\"toc-item-num\">1&nbsp;&nbsp;</span>Аналитика</a></span></li><li><span><a href=\"#Чек-лист-проверки\" data-toc-modified-id=\"Чек-лист-проверки-2\"><span class=\"toc-item-num\">2&nbsp;&nbsp;</span>Чек-лист проверки</a></span></li></ul></div>"
   ]
  },
  {
   "cell_type": "markdown",
   "metadata": {},
   "source": [
    "# Спрос на рейсы авиакомпании"
   ]
  },
  {
   "cell_type": "markdown",
   "metadata": {},
   "source": [
    "Необходимо изучить базу данных и проанализировать спрос пассажиров на рейсы в города, где проходят крупнейшие культурные фестивали."
   ]
  },
  {
   "cell_type": "markdown",
   "metadata": {},
   "source": [
    "У нас есть файлы с результатами SQL-запросов.\n",
    "\n",
    "**query_1.csv** — результат первого запроса. В нём содержится такая информация:\n",
    "\n",
    "- *model* — **модель самолета;\n",
    "- *flights_amount* — количество рейсов для каждой модели самолетов *model* в сентябре 2018 года.\n",
    "\n",
    "**query_3.csv** — результат третьего запроса. В нём содержится такая информация:\n",
    "\n",
    "- *city* — город;\n",
    "- *average_flights* — среднее количество рейсов, прибывающих в город (*city*) за день в сентябре 2018 года.\n",
    "\n",
    " Для этих двух наборов данных нужно:\n",
    "\n",
    "- импортировать файлы;\n",
    "- изучить данные в них;\n",
    "- проверить типы данных на корректность;\n",
    "- выбрать топ-10 городов по количеству рейсов;\n",
    "- построить графики: модели самолётов и количество рейсов, города и количество рейсов, топ-10 городов и количество рейсов;\n",
    "- сделать выводы по каждому из графиков, пояснить результат.\n"
   ]
  },
  {
   "cell_type": "markdown",
   "metadata": {},
   "source": [
    "## Аналитика"
   ]
  },
  {
   "cell_type": "markdown",
   "metadata": {},
   "source": [
    "Загрузим все необходимые библиотеки и импортируем данные"
   ]
  },
  {
   "cell_type": "code",
   "execution_count": 1,
   "metadata": {
    "scrolled": true
   },
   "outputs": [],
   "source": [
    "from pyspark.sql import SparkSession\n",
    "import pandas as pd\n",
    "import matplotlib.pyplot as plt\n",
    "\n",
    "kolvo_reis_po_model = pd.read_csv('/datasets/query_1.csv')\n",
    "sr_kolvo_reis_za_den = pd.read_csv('/datasets/query_3.csv')"
   ]
  },
  {
   "cell_type": "markdown",
   "metadata": {},
   "source": [
    "Посмотрим на наши данные"
   ]
  },
  {
   "cell_type": "code",
   "execution_count": 2,
   "metadata": {},
   "outputs": [
    {
     "data": {
      "text/html": [
       "<div>\n",
       "<style scoped>\n",
       "    .dataframe tbody tr th:only-of-type {\n",
       "        vertical-align: middle;\n",
       "    }\n",
       "\n",
       "    .dataframe tbody tr th {\n",
       "        vertical-align: top;\n",
       "    }\n",
       "\n",
       "    .dataframe thead th {\n",
       "        text-align: right;\n",
       "    }\n",
       "</style>\n",
       "<table border=\"1\" class=\"dataframe\">\n",
       "  <thead>\n",
       "    <tr style=\"text-align: right;\">\n",
       "      <th></th>\n",
       "      <th>model</th>\n",
       "      <th>flights_amount</th>\n",
       "    </tr>\n",
       "  </thead>\n",
       "  <tbody>\n",
       "    <tr>\n",
       "      <td>0</td>\n",
       "      <td>Airbus A319-100</td>\n",
       "      <td>607</td>\n",
       "    </tr>\n",
       "    <tr>\n",
       "      <td>1</td>\n",
       "      <td>Airbus A321-200</td>\n",
       "      <td>960</td>\n",
       "    </tr>\n",
       "    <tr>\n",
       "      <td>2</td>\n",
       "      <td>Boeing 737-300</td>\n",
       "      <td>630</td>\n",
       "    </tr>\n",
       "    <tr>\n",
       "      <td>3</td>\n",
       "      <td>Boeing 767-300</td>\n",
       "      <td>600</td>\n",
       "    </tr>\n",
       "    <tr>\n",
       "      <td>4</td>\n",
       "      <td>Boeing 777-300</td>\n",
       "      <td>300</td>\n",
       "    </tr>\n",
       "    <tr>\n",
       "      <td>5</td>\n",
       "      <td>Bombardier CRJ-200</td>\n",
       "      <td>4446</td>\n",
       "    </tr>\n",
       "    <tr>\n",
       "      <td>6</td>\n",
       "      <td>Cessna 208 Caravan</td>\n",
       "      <td>4557</td>\n",
       "    </tr>\n",
       "    <tr>\n",
       "      <td>7</td>\n",
       "      <td>Sukhoi SuperJet-100</td>\n",
       "      <td>4185</td>\n",
       "    </tr>\n",
       "  </tbody>\n",
       "</table>\n",
       "</div>"
      ],
      "text/plain": [
       "                 model  flights_amount\n",
       "0      Airbus A319-100             607\n",
       "1      Airbus A321-200             960\n",
       "2       Boeing 737-300             630\n",
       "3       Boeing 767-300             600\n",
       "4       Boeing 777-300             300\n",
       "5   Bombardier CRJ-200            4446\n",
       "6   Cessna 208 Caravan            4557\n",
       "7  Sukhoi SuperJet-100            4185"
      ]
     },
     "metadata": {},
     "output_type": "display_data"
    },
    {
     "name": "stdout",
     "output_type": "stream",
     "text": [
      "<class 'pandas.core.frame.DataFrame'>\n",
      "RangeIndex: 8 entries, 0 to 7\n",
      "Data columns (total 2 columns):\n",
      "model             8 non-null object\n",
      "flights_amount    8 non-null int64\n",
      "dtypes: int64(1), object(1)\n",
      "memory usage: 256.0+ bytes\n"
     ]
    },
    {
     "data": {
      "text/plain": [
       "None"
      ]
     },
     "metadata": {},
     "output_type": "display_data"
    },
    {
     "data": {
      "text/html": [
       "<div>\n",
       "<style scoped>\n",
       "    .dataframe tbody tr th:only-of-type {\n",
       "        vertical-align: middle;\n",
       "    }\n",
       "\n",
       "    .dataframe tbody tr th {\n",
       "        vertical-align: top;\n",
       "    }\n",
       "\n",
       "    .dataframe thead th {\n",
       "        text-align: right;\n",
       "    }\n",
       "</style>\n",
       "<table border=\"1\" class=\"dataframe\">\n",
       "  <thead>\n",
       "    <tr style=\"text-align: right;\">\n",
       "      <th></th>\n",
       "      <th>flights_amount</th>\n",
       "    </tr>\n",
       "  </thead>\n",
       "  <tbody>\n",
       "    <tr>\n",
       "      <td>count</td>\n",
       "      <td>8.000000</td>\n",
       "    </tr>\n",
       "    <tr>\n",
       "      <td>mean</td>\n",
       "      <td>2035.625000</td>\n",
       "    </tr>\n",
       "    <tr>\n",
       "      <td>std</td>\n",
       "      <td>1965.203947</td>\n",
       "    </tr>\n",
       "    <tr>\n",
       "      <td>min</td>\n",
       "      <td>300.000000</td>\n",
       "    </tr>\n",
       "    <tr>\n",
       "      <td>25%</td>\n",
       "      <td>605.250000</td>\n",
       "    </tr>\n",
       "    <tr>\n",
       "      <td>50%</td>\n",
       "      <td>795.000000</td>\n",
       "    </tr>\n",
       "    <tr>\n",
       "      <td>75%</td>\n",
       "      <td>4250.250000</td>\n",
       "    </tr>\n",
       "    <tr>\n",
       "      <td>max</td>\n",
       "      <td>4557.000000</td>\n",
       "    </tr>\n",
       "  </tbody>\n",
       "</table>\n",
       "</div>"
      ],
      "text/plain": [
       "       flights_amount\n",
       "count        8.000000\n",
       "mean      2035.625000\n",
       "std       1965.203947\n",
       "min        300.000000\n",
       "25%        605.250000\n",
       "50%        795.000000\n",
       "75%       4250.250000\n",
       "max       4557.000000"
      ]
     },
     "metadata": {},
     "output_type": "display_data"
    }
   ],
   "source": [
    "display(kolvo_reis_po_model)\n",
    "display(kolvo_reis_po_model.info())\n",
    "display(kolvo_reis_po_model.describe())"
   ]
  },
  {
   "cell_type": "markdown",
   "metadata": {},
   "source": [
    "Посмотрим второй файл"
   ]
  },
  {
   "cell_type": "code",
   "execution_count": 3,
   "metadata": {},
   "outputs": [
    {
     "data": {
      "text/html": [
       "<div>\n",
       "<style scoped>\n",
       "    .dataframe tbody tr th:only-of-type {\n",
       "        vertical-align: middle;\n",
       "    }\n",
       "\n",
       "    .dataframe tbody tr th {\n",
       "        vertical-align: top;\n",
       "    }\n",
       "\n",
       "    .dataframe thead th {\n",
       "        text-align: right;\n",
       "    }\n",
       "</style>\n",
       "<table border=\"1\" class=\"dataframe\">\n",
       "  <thead>\n",
       "    <tr style=\"text-align: right;\">\n",
       "      <th></th>\n",
       "      <th>city</th>\n",
       "      <th>average_flights</th>\n",
       "    </tr>\n",
       "  </thead>\n",
       "  <tbody>\n",
       "    <tr>\n",
       "      <td>0</td>\n",
       "      <td>Абакан</td>\n",
       "      <td>3.870968</td>\n",
       "    </tr>\n",
       "    <tr>\n",
       "      <td>1</td>\n",
       "      <td>Анадырь</td>\n",
       "      <td>1.000000</td>\n",
       "    </tr>\n",
       "    <tr>\n",
       "      <td>2</td>\n",
       "      <td>Анапа</td>\n",
       "      <td>2.161290</td>\n",
       "    </tr>\n",
       "    <tr>\n",
       "      <td>3</td>\n",
       "      <td>Архангельск</td>\n",
       "      <td>5.354839</td>\n",
       "    </tr>\n",
       "    <tr>\n",
       "      <td>4</td>\n",
       "      <td>Астрахань</td>\n",
       "      <td>2.451613</td>\n",
       "    </tr>\n",
       "    <tr>\n",
       "      <td>...</td>\n",
       "      <td>...</td>\n",
       "      <td>...</td>\n",
       "    </tr>\n",
       "    <tr>\n",
       "      <td>96</td>\n",
       "      <td>Чита</td>\n",
       "      <td>1.580645</td>\n",
       "    </tr>\n",
       "    <tr>\n",
       "      <td>97</td>\n",
       "      <td>Элиста</td>\n",
       "      <td>4.870968</td>\n",
       "    </tr>\n",
       "    <tr>\n",
       "      <td>98</td>\n",
       "      <td>Южно-Сахалинск</td>\n",
       "      <td>4.290323</td>\n",
       "    </tr>\n",
       "    <tr>\n",
       "      <td>99</td>\n",
       "      <td>Якутск</td>\n",
       "      <td>2.741935</td>\n",
       "    </tr>\n",
       "    <tr>\n",
       "      <td>100</td>\n",
       "      <td>Ярославль</td>\n",
       "      <td>1.322581</td>\n",
       "    </tr>\n",
       "  </tbody>\n",
       "</table>\n",
       "<p>101 rows × 2 columns</p>\n",
       "</div>"
      ],
      "text/plain": [
       "               city  average_flights\n",
       "0            Абакан         3.870968\n",
       "1           Анадырь         1.000000\n",
       "2             Анапа         2.161290\n",
       "3       Архангельск         5.354839\n",
       "4         Астрахань         2.451613\n",
       "..              ...              ...\n",
       "96             Чита         1.580645\n",
       "97           Элиста         4.870968\n",
       "98   Южно-Сахалинск         4.290323\n",
       "99           Якутск         2.741935\n",
       "100       Ярославль         1.322581\n",
       "\n",
       "[101 rows x 2 columns]"
      ]
     },
     "metadata": {},
     "output_type": "display_data"
    },
    {
     "name": "stdout",
     "output_type": "stream",
     "text": [
      "<class 'pandas.core.frame.DataFrame'>\n",
      "RangeIndex: 101 entries, 0 to 100\n",
      "Data columns (total 2 columns):\n",
      "city               101 non-null object\n",
      "average_flights    101 non-null float64\n",
      "dtypes: float64(1), object(1)\n",
      "memory usage: 1.7+ KB\n"
     ]
    },
    {
     "data": {
      "text/plain": [
       "None"
      ]
     },
     "metadata": {},
     "output_type": "display_data"
    },
    {
     "data": {
      "text/html": [
       "<div>\n",
       "<style scoped>\n",
       "    .dataframe tbody tr th:only-of-type {\n",
       "        vertical-align: middle;\n",
       "    }\n",
       "\n",
       "    .dataframe tbody tr th {\n",
       "        vertical-align: top;\n",
       "    }\n",
       "\n",
       "    .dataframe thead th {\n",
       "        text-align: right;\n",
       "    }\n",
       "</style>\n",
       "<table border=\"1\" class=\"dataframe\">\n",
       "  <thead>\n",
       "    <tr style=\"text-align: right;\">\n",
       "      <th></th>\n",
       "      <th>average_flights</th>\n",
       "    </tr>\n",
       "  </thead>\n",
       "  <tbody>\n",
       "    <tr>\n",
       "      <td>count</td>\n",
       "      <td>101.000000</td>\n",
       "    </tr>\n",
       "    <tr>\n",
       "      <td>mean</td>\n",
       "      <td>5.494189</td>\n",
       "    </tr>\n",
       "    <tr>\n",
       "      <td>std</td>\n",
       "      <td>13.119790</td>\n",
       "    </tr>\n",
       "    <tr>\n",
       "      <td>min</td>\n",
       "      <td>1.000000</td>\n",
       "    </tr>\n",
       "    <tr>\n",
       "      <td>25%</td>\n",
       "      <td>2.000000</td>\n",
       "    </tr>\n",
       "    <tr>\n",
       "      <td>50%</td>\n",
       "      <td>3.000000</td>\n",
       "    </tr>\n",
       "    <tr>\n",
       "      <td>75%</td>\n",
       "      <td>5.870968</td>\n",
       "    </tr>\n",
       "    <tr>\n",
       "      <td>max</td>\n",
       "      <td>129.774194</td>\n",
       "    </tr>\n",
       "  </tbody>\n",
       "</table>\n",
       "</div>"
      ],
      "text/plain": [
       "       average_flights\n",
       "count       101.000000\n",
       "mean          5.494189\n",
       "std          13.119790\n",
       "min           1.000000\n",
       "25%           2.000000\n",
       "50%           3.000000\n",
       "75%           5.870968\n",
       "max         129.774194"
      ]
     },
     "metadata": {},
     "output_type": "display_data"
    }
   ],
   "source": [
    "display(sr_kolvo_reis_za_den)\n",
    "display(sr_kolvo_reis_za_den.info())\n",
    "display(sr_kolvo_reis_za_den.describe())"
   ]
  },
  {
   "cell_type": "markdown",
   "metadata": {},
   "source": [
    "Типы данных корректны, отражают действительные значения."
   ]
  },
  {
   "cell_type": "markdown",
   "metadata": {},
   "source": [
    "Выберем топ-10 городов по количеству рейсов"
   ]
  },
  {
   "cell_type": "code",
   "execution_count": 4,
   "metadata": {},
   "outputs": [],
   "source": [
    "top_10 = sr_kolvo_reis_za_den.sort_values(by = 'average_flights', ascending = 'True').tail(10)"
   ]
  },
  {
   "cell_type": "markdown",
   "metadata": {},
   "source": [
    "Здесь почему-то не сработал метод обратной сортировки. Т.е. \"ascending = 'False'\"."
   ]
  },
  {
   "cell_type": "markdown",
   "metadata": {},
   "source": [
    "А так, получили список 10 городов, в которые самолеты летают чаще всего."
   ]
  },
  {
   "cell_type": "markdown",
   "metadata": {},
   "source": [
    "Теперь построим следующие графики: \n",
    " - модели самолётов и количество рейсов, \n",
    " - города и количество рейсов, \n",
    " - топ-10 городов и количество рейсов."
   ]
  },
  {
   "cell_type": "code",
   "execution_count": 5,
   "metadata": {},
   "outputs": [
    {
     "data": {
      "image/png": "[encoded data removed]",
      "text/plain": [
       "<Figure size 576x432 with 1 Axes>"
      ]
     },
     "metadata": {
      "needs_background": "light"
     },
     "output_type": "display_data"
    },
    {
     "data": {
      "image/png": "[encoded data removed]",
      "text/plain": [
       "<Figure size 1296x432 with 1 Axes>"
      ]
     },
     "metadata": {
      "needs_background": "light"
     },
     "output_type": "display_data"
    },
    {
     "data": {
      "image/png": "[encoded data removed]",
      "text/plain": [
       "<Figure size 576x432 with 1 Axes>"
      ]
     },
     "metadata": {
      "needs_background": "light"
     },
     "output_type": "display_data"
    }
   ],
   "source": [
    "a1 = kolvo_reis_po_model.plot(kind = 'bar', y = 'flights_amount', grid = True, x = 'model', figsize = (8,6))\n",
    "a1.set_title('Модели самолетов и количество рейсов')\n",
    "plt.show()\n",
    "\n",
    "a2 = sr_kolvo_reis_za_den.plot(kind = 'bar', y = 'average_flights', grid = True, figsize = (18,6), x = 'city')\n",
    "a2.set_title('Города и количество рейсов')\n",
    "plt.show()\n",
    "\n",
    "a3 = top_10.plot(kind = 'bar', y = 'average_flights', grid = True, x = 'city', figsize = (8,6))\n",
    "a3.set_title('Топ-10 городов и количество рейсов')\n",
    "plt.show()"
   ]
  },
  {
   "cell_type": "markdown",
   "metadata": {},
   "source": [
    "Выводы напрашиваются следующие:\n",
    " - Среди моделей явно выделяющихся на фоне остальных, совершавших полеты в сентябре 2018, являются: Bombardier CRJ-200, Cessna 208 Caravan, Sukhoi SuperJet-100\t4185. Все они совершили более 4тыс. полетов. В то время, как у других моделей численность полетов колеблется в диапазоне от 300 до 960;\n",
    " - Среднее количество полетов за день в разных городах сильно отличается. Где-то этот показатель равен 1 (так, например в г.Анадырь), а где-то почти 130 (г.Москва);\n",
    " - Города, в которые чаще всего ежедневно залетали самолеты в сентябре 2018, следующие: Ульяновск, Сочи, Брянск, Пермь, Ростов-на-Дону, Екатеринбург, Красноярск, Новосибирск, Санкт-Петербург, Москва. Среди них 7 городов-миллионников. Также стоит отдать должное столице РФ, ведь именно этот город принимает бОльшее количество самолетов в день, по сравнению с другими. На втором месте идет Санкт-Петербург, а на третьем - Новосибирск.\n",
    " \n",
    "Отсюда можно сделать предположение, что скорее всего именно в Москве проходило больше всего фестивалей, поскольку спрос пассажиров на рейсы в этом направлении был наиболее высокий."
   ]
  }
 ],
 "metadata": {
  "ExecuteTimeLog": [
   {
    "duration": 2388,
    "start_time": "2021-07-04T11:26:55.144Z"
   },
   {
    "duration": 1703,
    "start_time": "2021-07-04T11:28:07.068Z"
   },
   {
    "duration": 1848,
    "start_time": "2021-07-04T11:28:24.306Z"
   },
   {
    "duration": 1614,
    "start_time": "2021-07-04T11:30:57.450Z"
   },
   {
    "duration": 554,
    "start_time": "2021-07-04T11:32:58.854Z"
   },
   {
    "duration": 1653,
    "start_time": "2021-07-04T11:33:47.999Z"
   },
   {
    "duration": 1688,
    "start_time": "2021-07-04T11:34:18.489Z"
   },
   {
    "duration": 1642,
    "start_time": "2021-07-04T11:34:50.418Z"
   },
   {
    "duration": 1672,
    "start_time": "2021-07-04T11:35:09.058Z"
   },
   {
    "duration": 1592,
    "start_time": "2021-07-04T11:35:48.115Z"
   },
   {
    "duration": 1652,
    "start_time": "2021-07-04T11:39:19.138Z"
   },
   {
    "duration": 1623,
    "start_time": "2021-07-04T11:39:33.021Z"
   },
   {
    "duration": 1784,
    "start_time": "2021-07-04T11:40:09.711Z"
   },
   {
    "duration": 302,
    "start_time": "2021-07-04T11:40:23.799Z"
   },
   {
    "duration": 313,
    "start_time": "2021-07-04T11:40:36.158Z"
   },
   {
    "duration": 216,
    "start_time": "2021-07-04T11:40:57.115Z"
   },
   {
    "duration": 1597,
    "start_time": "2021-07-04T11:43:47.346Z"
   },
   {
    "duration": 2264,
    "start_time": "2021-07-04T11:43:55.179Z"
   },
   {
    "duration": 215,
    "start_time": "2021-07-04T11:44:35.148Z"
   },
   {
    "duration": 1760,
    "start_time": "2021-07-04T11:51:47.164Z"
   },
   {
    "duration": 370,
    "start_time": "2021-07-04T12:00:23.313Z"
   },
   {
    "duration": 14207,
    "start_time": "2021-07-04T12:01:31.955Z"
   },
   {
    "duration": 685,
    "start_time": "2021-07-04T12:03:18.892Z"
   },
   {
    "duration": 261,
    "start_time": "2021-07-04T12:05:33.337Z"
   },
   {
    "duration": 375,
    "start_time": "2021-07-04T12:06:05.561Z"
   },
   {
    "duration": 376,
    "start_time": "2021-07-04T12:07:35.555Z"
   },
   {
    "duration": 440,
    "start_time": "2021-07-04T12:07:51.518Z"
   },
   {
    "duration": 420,
    "start_time": "2021-07-04T12:10:59.737Z"
   },
   {
    "duration": 256,
    "start_time": "2021-07-04T12:12:33.994Z"
   },
   {
    "duration": 264,
    "start_time": "2021-07-04T12:13:18.824Z"
   },
   {
    "duration": 407,
    "start_time": "2021-07-04T12:13:39.026Z"
   },
   {
    "duration": 380,
    "start_time": "2021-07-04T12:13:56.717Z"
   },
   {
    "duration": 431,
    "start_time": "2021-07-04T12:14:42.780Z"
   },
   {
    "duration": 374,
    "start_time": "2021-07-04T12:14:54.282Z"
   },
   {
    "duration": 239,
    "start_time": "2021-07-04T12:15:03.767Z"
   },
   {
    "duration": 566,
    "start_time": "2021-07-04T12:15:09.861Z"
   },
   {
    "duration": 73,
    "start_time": "2021-07-04T12:15:17.184Z"
   },
   {
    "duration": 241,
    "start_time": "2021-07-04T12:15:20.050Z"
   },
   {
    "duration": 221,
    "start_time": "2021-07-04T12:16:14.632Z"
   },
   {
    "duration": 442,
    "start_time": "2021-07-04T12:16:23.569Z"
   },
   {
    "duration": 250,
    "start_time": "2021-07-04T12:16:34.940Z"
   },
   {
    "duration": 835,
    "start_time": "2021-07-04T12:17:15.210Z"
   },
   {
    "duration": 458,
    "start_time": "2021-07-04T12:17:24.231Z"
   },
   {
    "duration": 361,
    "start_time": "2021-07-04T12:20:44.227Z"
   },
   {
    "duration": 388,
    "start_time": "2021-07-04T12:20:56.680Z"
   },
   {
    "duration": 450,
    "start_time": "2021-07-04T12:21:33.841Z"
   },
   {
    "duration": 431,
    "start_time": "2021-07-04T12:22:35.233Z"
   },
   {
    "duration": 250,
    "start_time": "2021-07-04T12:22:59.390Z"
   },
   {
    "duration": 1097,
    "start_time": "2021-07-04T12:23:12.198Z"
   },
   {
    "duration": 376,
    "start_time": "2021-07-04T12:28:47.093Z"
   },
   {
    "duration": 245,
    "start_time": "2021-07-04T12:34:16.148Z"
   },
   {
    "duration": 216,
    "start_time": "2021-07-04T12:34:33.887Z"
   },
   {
    "duration": 373,
    "start_time": "2021-07-04T12:34:42.108Z"
   },
   {
    "duration": 384,
    "start_time": "2021-07-04T12:35:24.101Z"
   },
   {
    "duration": 393,
    "start_time": "2021-07-04T12:35:34.258Z"
   },
   {
    "duration": 18352,
    "start_time": "2021-07-04T14:28:04.074Z"
   },
   {
    "duration": 19325,
    "start_time": "2021-07-04T14:30:57.380Z"
   },
   {
    "duration": 22,
    "start_time": "2021-07-04T15:39:09.161Z"
   },
   {
    "duration": 36,
    "start_time": "2021-07-04T15:39:44.870Z"
   },
   {
    "duration": 20,
    "start_time": "2021-07-04T15:51:10.693Z"
   },
   {
    "duration": 14,
    "start_time": "2021-07-04T15:51:39.990Z"
   },
   {
    "duration": 250,
    "start_time": "2021-07-04T15:51:56.007Z"
   },
   {
    "duration": 271,
    "start_time": "2021-07-04T15:52:02.371Z"
   },
   {
    "duration": 272,
    "start_time": "2021-07-04T15:52:19.057Z"
   },
   {
    "duration": 278,
    "start_time": "2021-07-04T15:52:22.451Z"
   },
   {
    "duration": 9,
    "start_time": "2021-07-04T15:52:41.267Z"
   },
   {
    "duration": 14,
    "start_time": "2021-07-04T15:52:54.557Z"
   },
   {
    "duration": 14,
    "start_time": "2021-07-04T15:52:59.973Z"
   },
   {
    "duration": 15,
    "start_time": "2021-07-04T15:53:05.498Z"
   },
   {
    "duration": 13,
    "start_time": "2021-07-04T15:53:12.468Z"
   },
   {
    "duration": 13,
    "start_time": "2021-07-04T15:53:21.632Z"
   },
   {
    "duration": 37,
    "start_time": "2021-07-04T15:54:26.529Z"
   },
   {
    "duration": 34,
    "start_time": "2021-07-04T15:54:52.549Z"
   },
   {
    "duration": 22,
    "start_time": "2021-07-04T15:55:46.799Z"
   },
   {
    "duration": 37,
    "start_time": "2021-07-04T15:57:30.164Z"
   },
   {
    "duration": 44,
    "start_time": "2021-07-04T16:20:51.066Z"
   },
   {
    "duration": 37,
    "start_time": "2021-07-04T16:21:09.448Z"
   },
   {
    "duration": 267,
    "start_time": "2021-07-04T16:26:46.428Z"
   },
   {
    "duration": 495,
    "start_time": "2021-07-04T16:26:52.581Z"
   },
   {
    "duration": 16,
    "start_time": "2021-07-04T16:28:56.450Z"
   },
   {
    "duration": 16,
    "start_time": "2021-07-04T16:29:02.330Z"
   },
   {
    "duration": 18,
    "start_time": "2021-07-04T16:29:16.848Z"
   },
   {
    "duration": 16,
    "start_time": "2021-07-04T16:29:30.934Z"
   },
   {
    "duration": 16,
    "start_time": "2021-07-04T16:45:51.486Z"
   },
   {
    "duration": 6,
    "start_time": "2021-07-04T16:46:16.278Z"
   },
   {
    "duration": 939,
    "start_time": "2021-07-04T16:48:22.529Z"
   },
   {
    "duration": 39,
    "start_time": "2021-07-04T16:48:23.470Z"
   },
   {
    "duration": 56,
    "start_time": "2021-07-04T16:48:23.515Z"
   },
   {
    "duration": 5,
    "start_time": "2021-07-04T16:48:23.574Z"
   },
   {
    "duration": 22,
    "start_time": "2021-07-04T16:48:23.581Z"
   },
   {
    "duration": 15,
    "start_time": "2021-07-04T16:48:41.018Z"
   },
   {
    "duration": 13,
    "start_time": "2021-07-04T16:49:04.677Z"
   },
   {
    "duration": 363,
    "start_time": "2021-07-04T16:49:14.829Z"
   },
   {
    "duration": 12,
    "start_time": "2021-07-04T16:49:31.583Z"
   },
   {
    "duration": 83,
    "start_time": "2021-07-04T16:56:07.484Z"
   },
   {
    "duration": 680,
    "start_time": "2021-07-04T16:56:21.413Z"
   },
   {
    "duration": 580,
    "start_time": "2021-07-04T16:57:45.605Z"
   },
   {
    "duration": 325,
    "start_time": "2021-07-04T16:59:42.994Z"
   },
   {
    "duration": 292,
    "start_time": "2021-07-04T16:59:55.580Z"
   },
   {
    "duration": 554,
    "start_time": "2021-07-04T17:00:52.003Z"
   },
   {
    "duration": 730,
    "start_time": "2021-07-04T17:00:59.697Z"
   },
   {
    "duration": 743,
    "start_time": "2021-07-04T17:01:12.811Z"
   },
   {
    "duration": 740,
    "start_time": "2021-07-04T17:01:19.818Z"
   },
   {
    "duration": 752,
    "start_time": "2021-07-04T17:02:30.954Z"
   },
   {
    "duration": 1058,
    "start_time": "2021-07-04T17:03:10.527Z"
   },
   {
    "duration": 43,
    "start_time": "2021-07-04T17:03:11.588Z"
   },
   {
    "duration": 46,
    "start_time": "2021-07-04T17:03:11.635Z"
   },
   {
    "duration": 11,
    "start_time": "2021-07-04T17:03:11.684Z"
   },
   {
    "duration": 696,
    "start_time": "2021-07-04T17:03:11.699Z"
   },
   {
    "duration": 309,
    "start_time": "2021-07-04T17:03:45.049Z"
   },
   {
    "duration": 1099,
    "start_time": "2021-07-04T17:06:10.684Z"
   },
   {
    "duration": 34,
    "start_time": "2021-07-04T17:06:11.786Z"
   },
   {
    "duration": 38,
    "start_time": "2021-07-04T17:06:11.824Z"
   },
   {
    "duration": 5,
    "start_time": "2021-07-04T17:06:11.865Z"
   },
   {
    "duration": 8578,
    "start_time": "2021-07-04T17:06:11.873Z"
   },
   {
    "duration": 2344,
    "start_time": "2021-07-04T17:07:20.354Z"
   },
   {
    "duration": 2447,
    "start_time": "2021-07-04T17:07:40.251Z"
   },
   {
    "duration": 512,
    "start_time": "2021-07-04T17:08:47.756Z"
   },
   {
    "duration": 2507,
    "start_time": "2021-07-04T17:09:57.394Z"
   },
   {
    "duration": 2552,
    "start_time": "2021-07-04T17:10:08.356Z"
   },
   {
    "duration": 92,
    "start_time": "2021-07-04T17:10:40.825Z"
   },
   {
    "duration": 3042,
    "start_time": "2021-07-04T17:10:51.397Z"
   },
   {
    "duration": 3141,
    "start_time": "2021-07-04T17:11:22.617Z"
   },
   {
    "duration": 3474,
    "start_time": "2021-07-04T17:11:36.966Z"
   },
   {
    "duration": 1047,
    "start_time": "2021-07-04T17:31:54.688Z"
   },
   {
    "duration": 33,
    "start_time": "2021-07-04T17:31:55.737Z"
   },
   {
    "duration": 34,
    "start_time": "2021-07-04T17:31:55.773Z"
   },
   {
    "duration": 6,
    "start_time": "2021-07-04T17:31:55.809Z"
   },
   {
    "duration": 3227,
    "start_time": "2021-07-04T17:31:55.854Z"
   },
   {
    "duration": 1956,
    "start_time": "2021-07-04T17:35:01.325Z"
   },
   {
    "duration": 995,
    "start_time": "2021-07-04T17:37:18.146Z"
   },
   {
    "duration": 34,
    "start_time": "2021-07-04T17:37:19.144Z"
   },
   {
    "duration": 36,
    "start_time": "2021-07-04T17:37:19.181Z"
   },
   {
    "duration": 6,
    "start_time": "2021-07-04T17:37:19.257Z"
   },
   {
    "duration": 3201,
    "start_time": "2021-07-04T17:37:19.266Z"
   },
   {
    "duration": 13874,
    "start_time": "2021-07-04T18:07:36.735Z"
   },
   {
    "duration": 103,
    "start_time": "2021-07-04T18:07:50.618Z"
   },
   {
    "duration": 103,
    "start_time": "2021-07-04T18:07:50.723Z"
   },
   {
    "duration": 6,
    "start_time": "2021-07-04T18:07:50.828Z"
   },
   {
    "duration": 11181,
    "start_time": "2021-07-04T18:07:50.837Z"
   }
  ],
  "kernelspec": {
   "display_name": "Python 3",
   "language": "python",
   "name": "python3"
  },
  "language_info": {
   "codemirror_mode": {
    "name": "ipython",
    "version": 3
   },
   "file_extension": ".py",
   "mimetype": "text/x-python",
   "name": "python",
   "nbconvert_exporter": "python",
   "pygments_lexer": "ipython3",
   "version": "3.7.10"
  },
  "toc": {
   "base_numbering": 1,
   "nav_menu": {},
   "number_sections": true,
   "sideBar": true,
   "skip_h1_title": true,
   "title_cell": "Содержание",
   "title_sidebar": "Contents",
   "toc_cell": true,
   "toc_position": {
    "height": "calc(100% - 180px)",
    "left": "10px",
    "top": "150px",
    "width": "234.594px"
   },
   "toc_section_display": true,
   "toc_window_display": false
  }
 },
 "nbformat": 4,
 "nbformat_minor": 2
}
