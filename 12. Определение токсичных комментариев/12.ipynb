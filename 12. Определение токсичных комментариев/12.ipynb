{
 "cells": [
  {
   "cell_type": "markdown",
   "metadata": {
    "toc": true
   },
   "source": [
    "<h1>Содержание<span class=\"tocSkip\"></span></h1>\n",
    "<li><span><a href=\"#Подготовка\" data-toc-modified-id=\"Подготовка-1\"><span class=\"toc-item-num\">1&nbsp;&nbsp;</span>Подготовка</a></span></li><li><span><a href=\"#Обучение\" data-toc-modified-id=\"Обучение-2\"><span class=\"toc-item-num\">2&nbsp;&nbsp;</span>Обучение</a></span><ul class=\"toc-item\"><li><span><a href=\"#Логистическая-регрессия\" data-toc-modified-id=\"Логистическая-регрессия-2.1\"><span class=\"toc-item-num\">2.1&nbsp;&nbsp;</span>Логистическая регрессия</a></span></li><li><span><a href=\"#Дерево-решений\" data-toc-modified-id=\"Дерево-решений-2.2\"><span class=\"toc-item-num\">2.2&nbsp;&nbsp;</span>Дерево решений</a></span></li><li><span><a href=\"#Случайный-лес\" data-toc-modified-id=\"Случайный-лес-2.3\"><span class=\"toc-item-num\">2.3&nbsp;&nbsp;</span>Случайный лес</a></span></li><li><span><a href=\"#CatBoostClassifier\" data-toc-modified-id=\"CatBoostClassifier-2.4\"><span class=\"toc-item-num\">2.4&nbsp;&nbsp;</span>CatBoostClassifier</a></span></li></ul></li><li><span><a href=\"#Выводы\" data-toc-modified-id=\"Выводы-3\"><span class=\"toc-item-num\">3&nbsp;&nbsp;</span>Выводы</a>"
   ]
  },
  {
   "cell_type": "markdown",
   "metadata": {},
   "source": [
    "# Проект для интернет-магазина"
   ]
  },
  {
   "cell_type": "markdown",
   "metadata": {},
   "source": [
    "Создается новый сервис, в котором пользователи могут редактировать и дополнять описания товаров, как в вики-сообществах. То есть клиенты предлагают свои правки и комментируют изменения других. Магазину нужен инструмент, который будет искать токсичные комментарии и отправлять их на модерацию. \n",
    "\n",
    "Необходимо обучить модель классифицировать комментарии на позитивные и негативные. В нашем распоряжении набор данных с разметкой о токсичности правок.\n",
    "\n",
    "\n",
    "**Этапы выполнения проекта**\n",
    "\n",
    "1. Загрузим и подготовим данные.\n",
    "2. Обучим разные модели. \n",
    "3. Сделаем выводы.\n",
    "\n",
    "\n",
    "**Описание данных**\n",
    "\n",
    "Столбец *text* в нём содержит текст комментария, а *toxic* — целевой признак."
   ]
  },
  {
   "cell_type": "markdown",
   "metadata": {},
   "source": [
    "## Подготовка"
   ]
  },
  {
   "cell_type": "markdown",
   "metadata": {},
   "source": [
    "Загрузим все используемые библиотеки"
   ]
  },
  {
   "cell_type": "code",
   "execution_count": 1,
   "metadata": {},
   "outputs": [],
   "source": [
    "import pandas as pd\n",
    "import numpy as np\n",
    "import re\n",
    "from pymystem3 import Mystem\n",
    "from nltk.stem import WordNetLemmatizer\n",
    "from sklearn.model_selection import train_test_split, cross_val_score, GridSearchCV\n",
    "from sklearn.metrics import f1_score, make_scorer\n",
    "from sklearn.feature_extraction.text import TfidfVectorizer\n",
    "from nltk.corpus import stopwords\n",
    "import nltk\n",
    "from nltk.corpus import wordnet\n",
    "from sklearn.tree import DecisionTreeClassifier\n",
    "from sklearn.ensemble import RandomForestClassifier \n",
    "from sklearn.linear_model import LogisticRegression\n",
    "from catboost import CatBoostClassifier\n",
    "\n",
    "import warnings\n",
    "warnings.filterwarnings('ignore')"
   ]
  },
  {
   "cell_type": "code",
   "execution_count": 2,
   "metadata": {},
   "outputs": [],
   "source": [
    "data = pd.read_csv('/datasets/toxic_comments.csv')"
   ]
  },
  {
   "cell_type": "markdown",
   "metadata": {},
   "source": [
    "Посмотрим на наши данные"
   ]
  },
  {
   "cell_type": "code",
   "execution_count": 3,
   "metadata": {},
   "outputs": [
    {
     "data": {
      "text/html": [
       "<div>\n",
       "<style scoped>\n",
       "    .dataframe tbody tr th:only-of-type {\n",
       "        vertical-align: middle;\n",
       "    }\n",
       "\n",
       "    .dataframe tbody tr th {\n",
       "        vertical-align: top;\n",
       "    }\n",
       "\n",
       "    .dataframe thead th {\n",
       "        text-align: right;\n",
       "    }\n",
       "</style>\n",
       "<table border=\"1\" class=\"dataframe\">\n",
       "  <thead>\n",
       "    <tr style=\"text-align: right;\">\n",
       "      <th></th>\n",
       "      <th>text</th>\n",
       "      <th>toxic</th>\n",
       "    </tr>\n",
       "  </thead>\n",
       "  <tbody>\n",
       "    <tr>\n",
       "      <td>0</td>\n",
       "      <td>Explanation\\nWhy the edits made under my usern...</td>\n",
       "      <td>0</td>\n",
       "    </tr>\n",
       "    <tr>\n",
       "      <td>1</td>\n",
       "      <td>D'aww! He matches this background colour I'm s...</td>\n",
       "      <td>0</td>\n",
       "    </tr>\n",
       "    <tr>\n",
       "      <td>2</td>\n",
       "      <td>Hey man, I'm really not trying to edit war. It...</td>\n",
       "      <td>0</td>\n",
       "    </tr>\n",
       "    <tr>\n",
       "      <td>3</td>\n",
       "      <td>\"\\nMore\\nI can't make any real suggestions on ...</td>\n",
       "      <td>0</td>\n",
       "    </tr>\n",
       "    <tr>\n",
       "      <td>4</td>\n",
       "      <td>You, sir, are my hero. Any chance you remember...</td>\n",
       "      <td>0</td>\n",
       "    </tr>\n",
       "    <tr>\n",
       "      <td>...</td>\n",
       "      <td>...</td>\n",
       "      <td>...</td>\n",
       "    </tr>\n",
       "    <tr>\n",
       "      <td>159566</td>\n",
       "      <td>\":::::And for the second time of asking, when ...</td>\n",
       "      <td>0</td>\n",
       "    </tr>\n",
       "    <tr>\n",
       "      <td>159567</td>\n",
       "      <td>You should be ashamed of yourself \\n\\nThat is ...</td>\n",
       "      <td>0</td>\n",
       "    </tr>\n",
       "    <tr>\n",
       "      <td>159568</td>\n",
       "      <td>Spitzer \\n\\nUmm, theres no actual article for ...</td>\n",
       "      <td>0</td>\n",
       "    </tr>\n",
       "    <tr>\n",
       "      <td>159569</td>\n",
       "      <td>And it looks like it was actually you who put ...</td>\n",
       "      <td>0</td>\n",
       "    </tr>\n",
       "    <tr>\n",
       "      <td>159570</td>\n",
       "      <td>\"\\nAnd ... I really don't think you understand...</td>\n",
       "      <td>0</td>\n",
       "    </tr>\n",
       "  </tbody>\n",
       "</table>\n",
       "<p>159571 rows × 2 columns</p>\n",
       "</div>"
      ],
      "text/plain": [
       "                                                     text  toxic\n",
       "0       Explanation\\nWhy the edits made under my usern...      0\n",
       "1       D'aww! He matches this background colour I'm s...      0\n",
       "2       Hey man, I'm really not trying to edit war. It...      0\n",
       "3       \"\\nMore\\nI can't make any real suggestions on ...      0\n",
       "4       You, sir, are my hero. Any chance you remember...      0\n",
       "...                                                   ...    ...\n",
       "159566  \":::::And for the second time of asking, when ...      0\n",
       "159567  You should be ashamed of yourself \\n\\nThat is ...      0\n",
       "159568  Spitzer \\n\\nUmm, theres no actual article for ...      0\n",
       "159569  And it looks like it was actually you who put ...      0\n",
       "159570  \"\\nAnd ... I really don't think you understand...      0\n",
       "\n",
       "[159571 rows x 2 columns]"
      ]
     },
     "execution_count": 3,
     "metadata": {},
     "output_type": "execute_result"
    }
   ],
   "source": [
    "data"
   ]
  },
  {
   "cell_type": "markdown",
   "metadata": {},
   "source": [
    "Проверим на наличие дубликатов."
   ]
  },
  {
   "cell_type": "code",
   "execution_count": 4,
   "metadata": {},
   "outputs": [
    {
     "data": {
      "text/plain": [
       "False    159571\n",
       "dtype: int64"
      ]
     },
     "execution_count": 4,
     "metadata": {},
     "output_type": "execute_result"
    }
   ],
   "source": [
    "data.duplicated().value_counts()"
   ]
  },
  {
   "cell_type": "markdown",
   "metadata": {},
   "source": [
    "Узнаем, есть какое соотношение отрицательных и положительных отзывов"
   ]
  },
  {
   "cell_type": "code",
   "execution_count": 5,
   "metadata": {},
   "outputs": [
    {
     "data": {
      "text/plain": [
       "0    0.898321\n",
       "1    0.101679\n",
       "Name: toxic, dtype: float64"
      ]
     },
     "execution_count": 5,
     "metadata": {},
     "output_type": "execute_result"
    }
   ],
   "source": [
    "class_frequency = pd.Series(data['toxic']).value_counts(normalize = 2 / len(pd.Series(data['toxic'])))\n",
    "class_frequency"
   ]
  },
  {
   "cell_type": "markdown",
   "metadata": {},
   "source": [
    "Чтож, дубликаты отсутствуют, а положительных отзывов наблюдается только 10%.<br>\n",
    "Чтобы эффективно обучить модель, в пункте деления на выборки задействуем параметр \"stratify\" для равномерного разделения на два кластера (наблюдения класса 0 и наблюдения класса 1)."
   ]
  },
  {
   "cell_type": "markdown",
   "metadata": {},
   "source": [
    "Теперь займемся предобработкой данных.<br>"
   ]
  },
  {
   "cell_type": "markdown",
   "metadata": {},
   "source": [
    "Очистим текст"
   ]
  },
  {
   "cell_type": "code",
   "execution_count": 6,
   "metadata": {},
   "outputs": [
    {
     "data": {
      "text/html": [
       "<div>\n",
       "<style scoped>\n",
       "    .dataframe tbody tr th:only-of-type {\n",
       "        vertical-align: middle;\n",
       "    }\n",
       "\n",
       "    .dataframe tbody tr th {\n",
       "        vertical-align: top;\n",
       "    }\n",
       "\n",
       "    .dataframe thead th {\n",
       "        text-align: right;\n",
       "    }\n",
       "</style>\n",
       "<table border=\"1\" class=\"dataframe\">\n",
       "  <thead>\n",
       "    <tr style=\"text-align: right;\">\n",
       "      <th></th>\n",
       "      <th>text</th>\n",
       "      <th>toxic</th>\n",
       "      <th>clear</th>\n",
       "    </tr>\n",
       "  </thead>\n",
       "  <tbody>\n",
       "    <tr>\n",
       "      <td>0</td>\n",
       "      <td>Explanation\\nWhy the edits made under my usern...</td>\n",
       "      <td>0</td>\n",
       "      <td>Explanation Why the edits made under my userna...</td>\n",
       "    </tr>\n",
       "    <tr>\n",
       "      <td>1</td>\n",
       "      <td>D'aww! He matches this background colour I'm s...</td>\n",
       "      <td>0</td>\n",
       "      <td>D aww He matches this background colour I m se...</td>\n",
       "    </tr>\n",
       "    <tr>\n",
       "      <td>2</td>\n",
       "      <td>Hey man, I'm really not trying to edit war. It...</td>\n",
       "      <td>0</td>\n",
       "      <td>Hey man I m really not trying to edit war It s...</td>\n",
       "    </tr>\n",
       "    <tr>\n",
       "      <td>3</td>\n",
       "      <td>\"\\nMore\\nI can't make any real suggestions on ...</td>\n",
       "      <td>0</td>\n",
       "      <td>More I can t make any real suggestions on impr...</td>\n",
       "    </tr>\n",
       "    <tr>\n",
       "      <td>4</td>\n",
       "      <td>You, sir, are my hero. Any chance you remember...</td>\n",
       "      <td>0</td>\n",
       "      <td>You sir are my hero Any chance you remember wh...</td>\n",
       "    </tr>\n",
       "    <tr>\n",
       "      <td>...</td>\n",
       "      <td>...</td>\n",
       "      <td>...</td>\n",
       "      <td>...</td>\n",
       "    </tr>\n",
       "    <tr>\n",
       "      <td>159566</td>\n",
       "      <td>\":::::And for the second time of asking, when ...</td>\n",
       "      <td>0</td>\n",
       "      <td>And for the second time of asking when your vi...</td>\n",
       "    </tr>\n",
       "    <tr>\n",
       "      <td>159567</td>\n",
       "      <td>You should be ashamed of yourself \\n\\nThat is ...</td>\n",
       "      <td>0</td>\n",
       "      <td>You should be ashamed of yourself That is a ho...</td>\n",
       "    </tr>\n",
       "    <tr>\n",
       "      <td>159568</td>\n",
       "      <td>Spitzer \\n\\nUmm, theres no actual article for ...</td>\n",
       "      <td>0</td>\n",
       "      <td>Spitzer Umm theres no actual article for prost...</td>\n",
       "    </tr>\n",
       "    <tr>\n",
       "      <td>159569</td>\n",
       "      <td>And it looks like it was actually you who put ...</td>\n",
       "      <td>0</td>\n",
       "      <td>And it looks like it was actually you who put ...</td>\n",
       "    </tr>\n",
       "    <tr>\n",
       "      <td>159570</td>\n",
       "      <td>\"\\nAnd ... I really don't think you understand...</td>\n",
       "      <td>0</td>\n",
       "      <td>And I really don t think you understand I came...</td>\n",
       "    </tr>\n",
       "  </tbody>\n",
       "</table>\n",
       "<p>159571 rows × 3 columns</p>\n",
       "</div>"
      ],
      "text/plain": [
       "                                                     text  toxic  \\\n",
       "0       Explanation\\nWhy the edits made under my usern...      0   \n",
       "1       D'aww! He matches this background colour I'm s...      0   \n",
       "2       Hey man, I'm really not trying to edit war. It...      0   \n",
       "3       \"\\nMore\\nI can't make any real suggestions on ...      0   \n",
       "4       You, sir, are my hero. Any chance you remember...      0   \n",
       "...                                                   ...    ...   \n",
       "159566  \":::::And for the second time of asking, when ...      0   \n",
       "159567  You should be ashamed of yourself \\n\\nThat is ...      0   \n",
       "159568  Spitzer \\n\\nUmm, theres no actual article for ...      0   \n",
       "159569  And it looks like it was actually you who put ...      0   \n",
       "159570  \"\\nAnd ... I really don't think you understand...      0   \n",
       "\n",
       "                                                    clear  \n",
       "0       Explanation Why the edits made under my userna...  \n",
       "1       D aww He matches this background colour I m se...  \n",
       "2       Hey man I m really not trying to edit war It s...  \n",
       "3       More I can t make any real suggestions on impr...  \n",
       "4       You sir are my hero Any chance you remember wh...  \n",
       "...                                                   ...  \n",
       "159566  And for the second time of asking when your vi...  \n",
       "159567  You should be ashamed of yourself That is a ho...  \n",
       "159568  Spitzer Umm theres no actual article for prost...  \n",
       "159569  And it looks like it was actually you who put ...  \n",
       "159570  And I really don t think you understand I came...  \n",
       "\n",
       "[159571 rows x 3 columns]"
      ]
     },
     "execution_count": 6,
     "metadata": {},
     "output_type": "execute_result"
    }
   ],
   "source": [
    "otziv = []\n",
    "for i in data['text']:\n",
    "    clear = re.sub(r'[^a-zA-Z0-9 ]', ' ', i)\n",
    "    otziv.append(' '.join(clear.split()))\n",
    "    \n",
    "data['clear'] = otziv\n",
    "\n",
    "data"
   ]
  },
  {
   "cell_type": "markdown",
   "metadata": {},
   "source": [
    "Т.к. для обучения 159,5 тыс. строк - слишком большое количество, сделаем sample из 80 тыс.строк"
   ]
  },
  {
   "cell_type": "code",
   "execution_count": 7,
   "metadata": {},
   "outputs": [],
   "source": [
    "sample = 80000\n",
    "corpus = data.sample(n = sample, random_state = 1234).reset_index(drop=True)"
   ]
  },
  {
   "cell_type": "markdown",
   "metadata": {},
   "source": [
    "Проведем лемматизацию текста при помощи \"WordNetLemmatizer\""
   ]
  },
  {
   "cell_type": "code",
   "execution_count": 8,
   "metadata": {},
   "outputs": [
    {
     "data": {
      "text/html": [
       "<div>\n",
       "<style scoped>\n",
       "    .dataframe tbody tr th:only-of-type {\n",
       "        vertical-align: middle;\n",
       "    }\n",
       "\n",
       "    .dataframe tbody tr th {\n",
       "        vertical-align: top;\n",
       "    }\n",
       "\n",
       "    .dataframe thead th {\n",
       "        text-align: right;\n",
       "    }\n",
       "</style>\n",
       "<table border=\"1\" class=\"dataframe\">\n",
       "  <thead>\n",
       "    <tr style=\"text-align: right;\">\n",
       "      <th></th>\n",
       "      <th>text</th>\n",
       "      <th>toxic</th>\n",
       "      <th>clear</th>\n",
       "      <th>lemm_text</th>\n",
       "    </tr>\n",
       "  </thead>\n",
       "  <tbody>\n",
       "    <tr>\n",
       "      <td>0</td>\n",
       "      <td>\"\\n\\nYour latest edit has again had to be remo...</td>\n",
       "      <td>0</td>\n",
       "      <td>Your latest edit has again had to be removed a...</td>\n",
       "      <td>Your latest edit ha again had to be removed an...</td>\n",
       "    </tr>\n",
       "    <tr>\n",
       "      <td>1</td>\n",
       "      <td>\"\\n\\nWorks for me. BaStun not BaTsun \"</td>\n",
       "      <td>0</td>\n",
       "      <td>Works for me BaStun not BaTsun</td>\n",
       "      <td>Works for me BaStun not BaTsun</td>\n",
       "    </tr>\n",
       "    <tr>\n",
       "      <td>2</td>\n",
       "      <td>List of newspapers in India by readership\\n\\nT...</td>\n",
       "      <td>0</td>\n",
       "      <td>List of newspapers in India by readership This...</td>\n",
       "      <td>List of newspaper in India by readership This ...</td>\n",
       "    </tr>\n",
       "    <tr>\n",
       "      <td>3</td>\n",
       "      <td>Happy New Years\\nCheers )</td>\n",
       "      <td>0</td>\n",
       "      <td>Happy New Years Cheers</td>\n",
       "      <td>Happy New Years Cheers</td>\n",
       "    </tr>\n",
       "    <tr>\n",
       "      <td>4</td>\n",
       "      <td>Photos \\nSouthwestern’s official website has m...</td>\n",
       "      <td>0</td>\n",
       "      <td>Photos Southwestern s official website has man...</td>\n",
       "      <td>Photos Southwestern s official website ha many...</td>\n",
       "    </tr>\n",
       "    <tr>\n",
       "      <td>...</td>\n",
       "      <td>...</td>\n",
       "      <td>...</td>\n",
       "      <td>...</td>\n",
       "      <td>...</td>\n",
       "    </tr>\n",
       "    <tr>\n",
       "      <td>79995</td>\n",
       "      <td>The way of the force....very one-sided? \\n\\nHa...</td>\n",
       "      <td>0</td>\n",
       "      <td>The way of the force very one sided Have you e...</td>\n",
       "      <td>The way of the force very one sided Have you e...</td>\n",
       "    </tr>\n",
       "    <tr>\n",
       "      <td>79996</td>\n",
       "      <td>\"\\n\\n thanks for your help.  I agree that \"\"he...</td>\n",
       "      <td>0</td>\n",
       "      <td>thanks for your help I agree that he may be fa...</td>\n",
       "      <td>thanks for your help I agree that he may be fa...</td>\n",
       "    </tr>\n",
       "    <tr>\n",
       "      <td>79997</td>\n",
       "      <td>I've added a couple of articles about the game...</td>\n",
       "      <td>0</td>\n",
       "      <td>I ve added a couple of articles about the game...</td>\n",
       "      <td>I ve added a couple of article about the game ...</td>\n",
       "    </tr>\n",
       "    <tr>\n",
       "      <td>79998</td>\n",
       "      <td>\"\\n\\nWhen was the last time you got laid, \"\"Sc...</td>\n",
       "      <td>0</td>\n",
       "      <td>When was the last time you got laid Scientizzl...</td>\n",
       "      <td>When wa the last time you got laid Scientizzle...</td>\n",
       "    </tr>\n",
       "    <tr>\n",
       "      <td>79999</td>\n",
       "      <td>I dispute that there was a personal attack - i...</td>\n",
       "      <td>0</td>\n",
       "      <td>I dispute that there was a personal attack it ...</td>\n",
       "      <td>I dispute that there wa a personal attack it w...</td>\n",
       "    </tr>\n",
       "  </tbody>\n",
       "</table>\n",
       "<p>80000 rows × 4 columns</p>\n",
       "</div>"
      ],
      "text/plain": [
       "                                                    text  toxic  \\\n",
       "0      \"\\n\\nYour latest edit has again had to be remo...      0   \n",
       "1                 \"\\n\\nWorks for me. BaStun not BaTsun \"      0   \n",
       "2      List of newspapers in India by readership\\n\\nT...      0   \n",
       "3                              Happy New Years\\nCheers )      0   \n",
       "4      Photos \\nSouthwestern’s official website has m...      0   \n",
       "...                                                  ...    ...   \n",
       "79995  The way of the force....very one-sided? \\n\\nHa...      0   \n",
       "79996  \"\\n\\n thanks for your help.  I agree that \"\"he...      0   \n",
       "79997  I've added a couple of articles about the game...      0   \n",
       "79998  \"\\n\\nWhen was the last time you got laid, \"\"Sc...      0   \n",
       "79999  I dispute that there was a personal attack - i...      0   \n",
       "\n",
       "                                                   clear  \\\n",
       "0      Your latest edit has again had to be removed a...   \n",
       "1                         Works for me BaStun not BaTsun   \n",
       "2      List of newspapers in India by readership This...   \n",
       "3                                 Happy New Years Cheers   \n",
       "4      Photos Southwestern s official website has man...   \n",
       "...                                                  ...   \n",
       "79995  The way of the force very one sided Have you e...   \n",
       "79996  thanks for your help I agree that he may be fa...   \n",
       "79997  I ve added a couple of articles about the game...   \n",
       "79998  When was the last time you got laid Scientizzl...   \n",
       "79999  I dispute that there was a personal attack it ...   \n",
       "\n",
       "                                               lemm_text  \n",
       "0      Your latest edit ha again had to be removed an...  \n",
       "1                         Works for me BaStun not BaTsun  \n",
       "2      List of newspaper in India by readership This ...  \n",
       "3                                 Happy New Years Cheers  \n",
       "4      Photos Southwestern s official website ha many...  \n",
       "...                                                  ...  \n",
       "79995  The way of the force very one sided Have you e...  \n",
       "79996  thanks for your help I agree that he may be fa...  \n",
       "79997  I ve added a couple of article about the game ...  \n",
       "79998  When wa the last time you got laid Scientizzle...  \n",
       "79999  I dispute that there wa a personal attack it w...  \n",
       "\n",
       "[80000 rows x 4 columns]"
      ]
     },
     "execution_count": 8,
     "metadata": {},
     "output_type": "execute_result"
    }
   ],
   "source": [
    "m = WordNetLemmatizer()\n",
    "\n",
    "def lemma(corpus):\n",
    "    corpus_new = []\n",
    "    for sentence in corpus:\n",
    "        word_list = nltk.word_tokenize(sentence)\n",
    "        corpus_new.append(' '.join([m.lemmatize(w) for w in word_list]))\n",
    "    return corpus_new\n",
    "    \n",
    "corpus['lemm_text'] = lemma(corpus['clear'])\n",
    "\n",
    "corpus"
   ]
  },
  {
   "cell_type": "code",
   "execution_count": 9,
   "metadata": {},
   "outputs": [
    {
     "name": "stderr",
     "output_type": "stream",
     "text": [
      "[nltk_data] Downloading package stopwords to /home/jovyan/nltk_data...\n",
      "[nltk_data]   Package stopwords is already up-to-date!\n"
     ]
    }
   ],
   "source": [
    "nltk.download('stopwords')\n",
    "stop_words = set(stopwords.words(\"english\"))"
   ]
  },
  {
   "cell_type": "markdown",
   "metadata": {},
   "source": [
    "Напишем функцию, возвращающую словарь с частями речи"
   ]
  },
  {
   "cell_type": "code",
   "execution_count": 10,
   "metadata": {},
   "outputs": [],
   "source": [
    "def get_wordnet_pos(word):\n",
    "    tag = nltk.pos_tag([word])[0][1][0].upper()\n",
    "    tag_dict = {'J': wordnet.ADJ,\n",
    "               'N': wordnet.NOUN,\n",
    "               'V': wordnet.VERB,\n",
    "               'R': wordnet.ADV,}\n",
    "    return tag_dict.get(tag, wordnet.NOUN)"
   ]
  },
  {
   "cell_type": "markdown",
   "metadata": {},
   "source": [
    "Также напишем функцию, лемматизирующую текст с учетом pos_tag"
   ]
  },
  {
   "cell_type": "code",
   "execution_count": 11,
   "metadata": {},
   "outputs": [],
   "source": [
    "def get_word_text(corpus):\n",
    "    corpus_new = []\n",
    "    for sentence in corpus:\n",
    "        corpus_new.append(' '.join([m.lemmatize(w, get_wordnet_pos(w)) for w in nltk.word_tokenize(sentence) if not w in stop_words]))\n",
    "    return corpus_new"
   ]
  },
  {
   "cell_type": "code",
   "execution_count": 12,
   "metadata": {},
   "outputs": [
    {
     "name": "stderr",
     "output_type": "stream",
     "text": [
      "[nltk_data] Downloading package punkt to /home/jovyan/nltk_data...\n",
      "[nltk_data]   Package punkt is already up-to-date!\n",
      "[nltk_data] Downloading package wordnet to /home/jovyan/nltk_data...\n",
      "[nltk_data]   Package wordnet is already up-to-date!\n",
      "[nltk_data] Downloading package averaged_perceptron_tagger to\n",
      "[nltk_data]     /home/jovyan/nltk_data...\n",
      "[nltk_data]   Package averaged_perceptron_tagger is already up-to-\n",
      "[nltk_data]       date!\n"
     ]
    },
    {
     "name": "stdout",
     "output_type": "stream",
     "text": [
      "CPU times: user 11min 12s, sys: 45.9 s, total: 11min 58s\n",
      "Wall time: 12min 10s\n"
     ]
    }
   ],
   "source": [
    "%%time\n",
    "nltk.download('punkt')\n",
    "nltk.download('wordnet')\n",
    "nltk.download('averaged_perceptron_tagger')\n",
    "\n",
    "corpus['lemma_text'] = get_word_text(corpus['clear'])"
   ]
  },
  {
   "cell_type": "code",
   "execution_count": 13,
   "metadata": {},
   "outputs": [
    {
     "data": {
      "text/html": [
       "<div>\n",
       "<style scoped>\n",
       "    .dataframe tbody tr th:only-of-type {\n",
       "        vertical-align: middle;\n",
       "    }\n",
       "\n",
       "    .dataframe tbody tr th {\n",
       "        vertical-align: top;\n",
       "    }\n",
       "\n",
       "    .dataframe thead th {\n",
       "        text-align: right;\n",
       "    }\n",
       "</style>\n",
       "<table border=\"1\" class=\"dataframe\">\n",
       "  <thead>\n",
       "    <tr style=\"text-align: right;\">\n",
       "      <th></th>\n",
       "      <th>text</th>\n",
       "      <th>toxic</th>\n",
       "      <th>clear</th>\n",
       "      <th>lemm_text</th>\n",
       "      <th>lemma_text</th>\n",
       "    </tr>\n",
       "  </thead>\n",
       "  <tbody>\n",
       "    <tr>\n",
       "      <td>0</td>\n",
       "      <td>\"\\n\\nYour latest edit has again had to be remo...</td>\n",
       "      <td>0</td>\n",
       "      <td>Your latest edit has again had to be removed a...</td>\n",
       "      <td>Your latest edit ha again had to be removed an...</td>\n",
       "      <td>Your late edit remove various reason I already...</td>\n",
       "    </tr>\n",
       "    <tr>\n",
       "      <td>1</td>\n",
       "      <td>\"\\n\\nWorks for me. BaStun not BaTsun \"</td>\n",
       "      <td>0</td>\n",
       "      <td>Works for me BaStun not BaTsun</td>\n",
       "      <td>Works for me BaStun not BaTsun</td>\n",
       "      <td>Works BaStun BaTsun</td>\n",
       "    </tr>\n",
       "    <tr>\n",
       "      <td>2</td>\n",
       "      <td>List of newspapers in India by readership\\n\\nT...</td>\n",
       "      <td>0</td>\n",
       "      <td>List of newspapers in India by readership This...</td>\n",
       "      <td>List of newspaper in India by readership This ...</td>\n",
       "      <td>List newspaper India readership This page writ...</td>\n",
       "    </tr>\n",
       "    <tr>\n",
       "      <td>3</td>\n",
       "      <td>Happy New Years\\nCheers )</td>\n",
       "      <td>0</td>\n",
       "      <td>Happy New Years Cheers</td>\n",
       "      <td>Happy New Years Cheers</td>\n",
       "      <td>Happy New Years Cheers</td>\n",
       "    </tr>\n",
       "    <tr>\n",
       "      <td>4</td>\n",
       "      <td>Photos \\nSouthwestern’s official website has m...</td>\n",
       "      <td>0</td>\n",
       "      <td>Photos Southwestern s official website has man...</td>\n",
       "      <td>Photos Southwestern s official website ha many...</td>\n",
       "      <td>Photos Southwestern official website many phot...</td>\n",
       "    </tr>\n",
       "    <tr>\n",
       "      <td>5</td>\n",
       "      <td>How's this? It's a lot shorter, but it's more ...</td>\n",
       "      <td>0</td>\n",
       "      <td>How s this It s a lot shorter but it s more fo...</td>\n",
       "      <td>How s this It s a lot shorter but it s more fo...</td>\n",
       "      <td>How It lot shorter focus settlement rather hal...</td>\n",
       "    </tr>\n",
       "    <tr>\n",
       "      <td>6</td>\n",
       "      <td>Why did you remove skinwalker instead of movin...</td>\n",
       "      <td>0</td>\n",
       "      <td>Why did you remove skinwalker instead of movin...</td>\n",
       "      <td>Why did you remove skinwalker instead of movin...</td>\n",
       "      <td>Why remove skinwalker instead move new character</td>\n",
       "    </tr>\n",
       "    <tr>\n",
       "      <td>7</td>\n",
       "      <td>\"I repeat, the text was about a minority schoo...</td>\n",
       "      <td>0</td>\n",
       "      <td>I repeat the text was about a minority school ...</td>\n",
       "      <td>I repeat the text wa about a minority school t...</td>\n",
       "      <td>I repeat text minority school school every min...</td>\n",
       "    </tr>\n",
       "    <tr>\n",
       "      <td>8</td>\n",
       "      <td>bay pigs article \\n\\nhi i noticed that you wer...</td>\n",
       "      <td>1</td>\n",
       "      <td>bay pigs article hi i noticed that you were li...</td>\n",
       "      <td>bay pig article hi i noticed that you were lic...</td>\n",
       "      <td>bay pig article hi notice lick wikiadmins as o...</td>\n",
       "    </tr>\n",
       "    <tr>\n",
       "      <td>9</td>\n",
       "      <td>MusikAnimal is a liar, a disinformant and plag...</td>\n",
       "      <td>0</td>\n",
       "      <td>MusikAnimal is a liar a disinformant and plagu...</td>\n",
       "      <td>MusikAnimal is a liar a disinformant and plagu...</td>\n",
       "      <td>MusikAnimal liar disinformant plague WP Please...</td>\n",
       "    </tr>\n",
       "    <tr>\n",
       "      <td>10</td>\n",
       "      <td>\"\\nIf the \"\"administrator\"\" who abusively inde...</td>\n",
       "      <td>0</td>\n",
       "      <td>If the administrator who abusively indefinitel...</td>\n",
       "      <td>If the administrator who abusively indefinitel...</td>\n",
       "      <td>If administrator abusively indefinitely protec...</td>\n",
       "    </tr>\n",
       "    <tr>\n",
       "      <td>11</td>\n",
       "      <td>dam/pool 14\\n\\ndam/pool 15\\n\\ndam/pool 16\\n\\n1...</td>\n",
       "      <td>0</td>\n",
       "      <td>dam pool 14 dam pool 15 dam pool 16 17 18 19 2...</td>\n",
       "      <td>dam pool 14 dam pool 15 dam pool 16 17 18 19 2...</td>\n",
       "      <td>dam pool 14 dam pool 15 dam pool 16 17 18 19 2...</td>\n",
       "    </tr>\n",
       "    <tr>\n",
       "      <td>12</td>\n",
       "      <td>Revert from 12 Feb 2008\\nI've just reverted an...</td>\n",
       "      <td>0</td>\n",
       "      <td>Revert from 12 Feb 2008 I ve just reverted an ...</td>\n",
       "      <td>Revert from 12 Feb 2008 I ve just reverted an ...</td>\n",
       "      <td>Revert 12 Feb 2008 I revert edit reason give A...</td>\n",
       "    </tr>\n",
       "    <tr>\n",
       "      <td>13</td>\n",
       "      <td>Thankyou Sitush , your concern for me is touch...</td>\n",
       "      <td>0</td>\n",
       "      <td>Thankyou Sitush your concern for me is touchin...</td>\n",
       "      <td>Thankyou Sitush your concern for me is touchin...</td>\n",
       "      <td>Thankyou Sitush concern touch sorry indent irr...</td>\n",
       "    </tr>\n",
       "    <tr>\n",
       "      <td>14</td>\n",
       "      <td>\"\\n\\nYou've got it.  To find the number of lin...</td>\n",
       "      <td>0</td>\n",
       "      <td>You ve got it To find the number of lines acro...</td>\n",
       "      <td>You ve got it To find the number of line acros...</td>\n",
       "      <td>You get To find number line across entire widt...</td>\n",
       "    </tr>\n",
       "  </tbody>\n",
       "</table>\n",
       "</div>"
      ],
      "text/plain": [
       "                                                 text  toxic  \\\n",
       "0   \"\\n\\nYour latest edit has again had to be remo...      0   \n",
       "1              \"\\n\\nWorks for me. BaStun not BaTsun \"      0   \n",
       "2   List of newspapers in India by readership\\n\\nT...      0   \n",
       "3                           Happy New Years\\nCheers )      0   \n",
       "4   Photos \\nSouthwestern’s official website has m...      0   \n",
       "5   How's this? It's a lot shorter, but it's more ...      0   \n",
       "6   Why did you remove skinwalker instead of movin...      0   \n",
       "7   \"I repeat, the text was about a minority schoo...      0   \n",
       "8   bay pigs article \\n\\nhi i noticed that you wer...      1   \n",
       "9   MusikAnimal is a liar, a disinformant and plag...      0   \n",
       "10  \"\\nIf the \"\"administrator\"\" who abusively inde...      0   \n",
       "11  dam/pool 14\\n\\ndam/pool 15\\n\\ndam/pool 16\\n\\n1...      0   \n",
       "12  Revert from 12 Feb 2008\\nI've just reverted an...      0   \n",
       "13  Thankyou Sitush , your concern for me is touch...      0   \n",
       "14  \"\\n\\nYou've got it.  To find the number of lin...      0   \n",
       "\n",
       "                                                clear  \\\n",
       "0   Your latest edit has again had to be removed a...   \n",
       "1                      Works for me BaStun not BaTsun   \n",
       "2   List of newspapers in India by readership This...   \n",
       "3                              Happy New Years Cheers   \n",
       "4   Photos Southwestern s official website has man...   \n",
       "5   How s this It s a lot shorter but it s more fo...   \n",
       "6   Why did you remove skinwalker instead of movin...   \n",
       "7   I repeat the text was about a minority school ...   \n",
       "8   bay pigs article hi i noticed that you were li...   \n",
       "9   MusikAnimal is a liar a disinformant and plagu...   \n",
       "10  If the administrator who abusively indefinitel...   \n",
       "11  dam pool 14 dam pool 15 dam pool 16 17 18 19 2...   \n",
       "12  Revert from 12 Feb 2008 I ve just reverted an ...   \n",
       "13  Thankyou Sitush your concern for me is touchin...   \n",
       "14  You ve got it To find the number of lines acro...   \n",
       "\n",
       "                                            lemm_text  \\\n",
       "0   Your latest edit ha again had to be removed an...   \n",
       "1                      Works for me BaStun not BaTsun   \n",
       "2   List of newspaper in India by readership This ...   \n",
       "3                              Happy New Years Cheers   \n",
       "4   Photos Southwestern s official website ha many...   \n",
       "5   How s this It s a lot shorter but it s more fo...   \n",
       "6   Why did you remove skinwalker instead of movin...   \n",
       "7   I repeat the text wa about a minority school t...   \n",
       "8   bay pig article hi i noticed that you were lic...   \n",
       "9   MusikAnimal is a liar a disinformant and plagu...   \n",
       "10  If the administrator who abusively indefinitel...   \n",
       "11  dam pool 14 dam pool 15 dam pool 16 17 18 19 2...   \n",
       "12  Revert from 12 Feb 2008 I ve just reverted an ...   \n",
       "13  Thankyou Sitush your concern for me is touchin...   \n",
       "14  You ve got it To find the number of line acros...   \n",
       "\n",
       "                                           lemma_text  \n",
       "0   Your late edit remove various reason I already...  \n",
       "1                                 Works BaStun BaTsun  \n",
       "2   List newspaper India readership This page writ...  \n",
       "3                              Happy New Years Cheers  \n",
       "4   Photos Southwestern official website many phot...  \n",
       "5   How It lot shorter focus settlement rather hal...  \n",
       "6    Why remove skinwalker instead move new character  \n",
       "7   I repeat text minority school school every min...  \n",
       "8   bay pig article hi notice lick wikiadmins as o...  \n",
       "9   MusikAnimal liar disinformant plague WP Please...  \n",
       "10  If administrator abusively indefinitely protec...  \n",
       "11  dam pool 14 dam pool 15 dam pool 16 17 18 19 2...  \n",
       "12  Revert 12 Feb 2008 I revert edit reason give A...  \n",
       "13  Thankyou Sitush concern touch sorry indent irr...  \n",
       "14  You get To find number line across entire widt...  "
      ]
     },
     "execution_count": 13,
     "metadata": {},
     "output_type": "execute_result"
    }
   ],
   "source": [
    "corpus.head(15)"
   ]
  },
  {
   "cell_type": "markdown",
   "metadata": {},
   "source": [
    "Получили чистый и лемматизированный текст<br>\n",
    "Теперь разделим выборку на обучающую и тестовую с применением параметра \"stratify\"."
   ]
  },
  {
   "cell_type": "code",
   "execution_count": 14,
   "metadata": {},
   "outputs": [],
   "source": [
    "train, test = train_test_split(corpus, stratify = corpus['toxic'], test_size = 0.20, random_state = 12345)"
   ]
  },
  {
   "cell_type": "markdown",
   "metadata": {},
   "source": [
    "Далее рассчитаем TF-IDF. Не забудем, что функцию \"fit_transform\" нужно запускать только на обучающей выборке, чтобы в модели не были учтены частоты слов из тестовой выборки."
   ]
  },
  {
   "cell_type": "code",
   "execution_count": 15,
   "metadata": {
    "scrolled": false
   },
   "outputs": [
    {
     "name": "stdout",
     "output_type": "stream",
     "text": [
      "Размер обучающей выборки: (64000, 99505)\n",
      "Размер тестовой выборки: (16000, 99505)\n"
     ]
    }
   ],
   "source": [
    "train['lemma_text'] = train['lemma_text'].values.astype('U')#.toarray()\n",
    "test['lemma_text'] = test['lemma_text'].values.astype('U')#.toarray()\n",
    "\n",
    "count_tf_idf = TfidfVectorizer(stop_words=stop_words)\n",
    "tf_idf_train = count_tf_idf.fit(train['lemma_text'])\n",
    "tf_idf_train = count_tf_idf.transform(train['lemma_text'])\n",
    "tf_idf_test = count_tf_idf.transform(test['lemma_text'])\n",
    "# tf_idf_test = count_tf_idf.transform(test['lemm_text'].values.astype('U')).toarray()\n",
    "\n",
    "print('Размер обучающей выборки:', tf_idf_train.shape)\n",
    "print('Размер тестовой выборки:', tf_idf_test.shape)\n"
   ]
  },
  {
   "cell_type": "markdown",
   "metadata": {},
   "source": [
    "Перейдем к обучению."
   ]
  },
  {
   "cell_type": "markdown",
   "metadata": {},
   "source": [
    "## Обучение"
   ]
  },
  {
   "cell_type": "markdown",
   "metadata": {},
   "source": [
    "### Логистическая регрессия"
   ]
  },
  {
   "cell_type": "code",
   "execution_count": 16,
   "metadata": {},
   "outputs": [
    {
     "name": "stdout",
     "output_type": "stream",
     "text": [
      "F1-мера: 0.7380623792437208\n"
     ]
    }
   ],
   "source": [
    "model_linear = LogisticRegression(random_state = 123, class_weight = 'balanced')\n",
    "model_linear.fit(tf_idf_train, train['toxic'])\n",
    "prediction = model_linear.predict(tf_idf_test)\n",
    "print('F1-мера:', f1_score(prediction, test['toxic']))"
   ]
  },
  {
   "cell_type": "markdown",
   "metadata": {},
   "source": [
    "0.72 < 0.75... Едем дальше"
   ]
  },
  {
   "cell_type": "code",
   "execution_count": 17,
   "metadata": {},
   "outputs": [
    {
     "name": "stdout",
     "output_type": "stream",
     "text": [
      "CPU times: user 13min 58s, sys: 12min 21s, total: 26min 20s\n",
      "Wall time: 26min 21s\n"
     ]
    },
    {
     "data": {
      "text/plain": [
       "{'C': 14.453333333333335, 'class_weight': 'balanced'}"
      ]
     },
     "execution_count": 17,
     "metadata": {},
     "output_type": "execute_result"
    }
   ],
   "source": [
    "%%time\n",
    "\n",
    "parameters = {'C': np.linspace(0.01, 130, 10), 'class_weight': ['balanced']}\n",
    "\n",
    "grid_search = GridSearchCV(estimator = LogisticRegression(), param_grid = parameters, n_jobs = -1, cv = 5)\n",
    "\n",
    "grid_search.fit(tf_idf_train, train['toxic'])\n",
    "grid_search.best_params_"
   ]
  },
  {
   "cell_type": "code",
   "execution_count": 18,
   "metadata": {},
   "outputs": [
    {
     "name": "stdout",
     "output_type": "stream",
     "text": [
      "F1-мера: 0.7468317123489537\n"
     ]
    }
   ],
   "source": [
    "model_linear_01 = LogisticRegression(**grid_search.best_params_, random_state = 123)\n",
    "model_linear_01.fit(tf_idf_train, train['toxic'])\n",
    "pred_test = model_linear_01.predict(tf_idf_test)\n",
    "print('F1-мера:', f1_score(pred_test, test['toxic']))"
   ]
  },
  {
   "cell_type": "markdown",
   "metadata": {},
   "source": [
    "При подборе параметра регуляризации \"С\" результат близок. Возможно, он был бы достигнут при большем объеме сэмпла. Однако, продолжим"
   ]
  },
  {
   "cell_type": "code",
   "execution_count": 19,
   "metadata": {},
   "outputs": [
    {
     "name": "stdout",
     "output_type": "stream",
     "text": [
      "F1-мера: 0.8752624339390429 Оптимальный порог классификации: 0.6000000000000001\n",
      "CPU times: user 6.56 s, sys: 5.23 s, total: 11.8 s\n",
      "Wall time: 11.8 s\n"
     ]
    }
   ],
   "source": [
    "%%time\n",
    "\n",
    "model_linear = LogisticRegression(random_state = 123, class_weight = 'balanced')\n",
    "model_linear.fit(tf_idf_train, train['toxic'])\n",
    "probabilities_train = model_linear.predict_proba(tf_idf_train)\n",
    "probabilities_one_train = probabilities_train[:, 1]\n",
    "f1_best = 0\n",
    "best_threshold = 0\n",
    "for threshold in np.arange(0.5, 1, 0.02):\n",
    "    predicted_train = probabilities_one_train > threshold\n",
    "    f1 = f1_score(predicted_train, train['toxic'])\n",
    "    if f1 > f1_best:\n",
    "        f1_best = f1\n",
    "        best_threshold = threshold\n",
    "        \n",
    "print('F1-мера:', f1_best,'Оптимальный порог классификации:', best_threshold)"
   ]
  },
  {
   "cell_type": "markdown",
   "metadata": {},
   "source": [
    "Теперь попробуем на тестовых данных."
   ]
  },
  {
   "cell_type": "code",
   "execution_count": 20,
   "metadata": {},
   "outputs": [
    {
     "name": "stdout",
     "output_type": "stream",
     "text": [
      "F1-мера: 0.7543859649122806 | При пороге классификации: 0.62\n"
     ]
    }
   ],
   "source": [
    "model_linear = LogisticRegression(random_state = 123, class_weight = 'balanced')\n",
    "model_linear.fit(tf_idf_train, train['toxic'])\n",
    "probabilities_test = model_linear.predict_proba(tf_idf_test)\n",
    "probabilities_one_test = probabilities_test[:, 1]\n",
    "predicted_test = probabilities_one_test > best_threshold\n",
    "f1 = f1_score(predicted_test, test['toxic'])\n",
    "print('F1-мера:', f1,'| При пороге классификации: 0.60')"
   ]
  },
  {
   "cell_type": "markdown",
   "metadata": {},
   "source": [
    "**BINGO! Значение меры достигнуто. F1 > 0.75**"
   ]
  },
  {
   "cell_type": "markdown",
   "metadata": {},
   "source": [
    "### Дерево решений"
   ]
  },
  {
   "cell_type": "markdown",
   "metadata": {},
   "source": [
    "Для проведения перекрестной проверки создадим свой скорер F1"
   ]
  },
  {
   "cell_type": "code",
   "execution_count": 22,
   "metadata": {},
   "outputs": [],
   "source": [
    "f1 = make_scorer(f1_score)"
   ]
  },
  {
   "cell_type": "code",
   "execution_count": 23,
   "metadata": {},
   "outputs": [
    {
     "name": "stdout",
     "output_type": "stream",
     "text": [
      "F1-мера: 0.6934490734779982\n",
      "CPU times: user 11min 53s, sys: 0 ns, total: 11min 53s\n",
      "Wall time: 12min 15s\n"
     ]
    }
   ],
   "source": [
    "%%time\n",
    "\n",
    "model_tree = DecisionTreeClassifier(random_state = 12345)\n",
    "pred = cross_val_score(model_tree, tf_idf_train, train['toxic'], cv = 5, scoring = f1)\n",
    "print('F1-мера:', pred.mean())"
   ]
  },
  {
   "cell_type": "markdown",
   "metadata": {},
   "source": [
    "Дерево решений отрабатывает плохо."
   ]
  },
  {
   "cell_type": "markdown",
   "metadata": {},
   "source": [
    "Попробуем обучить дерево решений при помощи GridSearchCV"
   ]
  },
  {
   "cell_type": "code",
   "execution_count": 25,
   "metadata": {},
   "outputs": [
    {
     "data": {
      "text/plain": [
       "{'max_depth': 28}"
      ]
     },
     "execution_count": 25,
     "metadata": {},
     "output_type": "execute_result"
    }
   ],
   "source": [
    "model_tree = DecisionTreeClassifier(random_state = 1234)\n",
    "param = {'max_depth': range(1, 30)}\n",
    "\n",
    "grid_tree = GridSearchCV(model_tree, param, cv=5, scoring = f1, verbose = False)\n",
    "grid_tree.fit(tf_idf_train, train['toxic'])\n",
    "grid_tree.best_params_"
   ]
  },
  {
   "cell_type": "code",
   "execution_count": 26,
   "metadata": {},
   "outputs": [
    {
     "name": "stdout",
     "output_type": "stream",
     "text": [
      "F1-мера: 0.6602907421576129\n"
     ]
    }
   ],
   "source": [
    "model_tree = DecisionTreeClassifier(**grid_tree.best_params_, random_state = 123)\n",
    "model_tree.fit(tf_idf_train, train['toxic'])\n",
    "predict_test = model_tree.predict(tf_idf_test)\n",
    "print('F1-мера:', f1_score(predict_test, test['toxic']))"
   ]
  },
  {
   "cell_type": "markdown",
   "metadata": {},
   "source": [
    "Дерево решений по-прежнему отрабатывает плохо"
   ]
  },
  {
   "cell_type": "markdown",
   "metadata": {},
   "source": [
    "### Случайный лес"
   ]
  },
  {
   "cell_type": "code",
   "execution_count": 28,
   "metadata": {},
   "outputs": [
    {
     "name": "stdout",
     "output_type": "stream",
     "text": [
      "F1: 0.11142951630123196\n",
      "CPU times: user 59.6 s, sys: 0 ns, total: 59.6 s\n",
      "Wall time: 1min 1s\n"
     ]
    }
   ],
   "source": [
    "%%time\n",
    "\n",
    "model_forest = RandomForestClassifier(random_state = 1234)\n",
    "param = {'n_estimators': [1, 30, 3],\n",
    "         'max_depth': [2, 20, 2]}\n",
    "\n",
    "grid_forest = GridSearchCV(model_forest, param, cv=5, scoring = f1, verbose = False)\n",
    "grid_forest.fit(tf_idf_train, train['toxic'])\n",
    "f1 = grid_forest.best_score_\n",
    "print('F1:', f1)"
   ]
  },
  {
   "cell_type": "markdown",
   "metadata": {},
   "source": [
    "Мера значительно ниже уже полученных значений. Не будем запускать на тест"
   ]
  },
  {
   "cell_type": "markdown",
   "metadata": {},
   "source": [
    "### CatBoostClassifier"
   ]
  },
  {
   "cell_type": "code",
   "execution_count": 29,
   "metadata": {},
   "outputs": [
    {
     "name": "stdout",
     "output_type": "stream",
     "text": [
      "0:\tlearn: 0.3971188\ttotal: 3.41s\tremaining: 56m 47s\n",
      "50:\tlearn: 0.6625853\ttotal: 2m 24s\tremaining: 44m 45s\n",
      "100:\tlearn: 0.7148471\ttotal: 4m 51s\tremaining: 43m 17s\n",
      "150:\tlearn: 0.7492537\ttotal: 7m 16s\tremaining: 40m 52s\n",
      "200:\tlearn: 0.7609278\ttotal: 9m 39s\tremaining: 38m 21s\n",
      "250:\tlearn: 0.7751257\ttotal: 12m 3s\tremaining: 35m 57s\n",
      "300:\tlearn: 0.7898917\ttotal: 14m 26s\tremaining: 33m 32s\n",
      "350:\tlearn: 0.8002151\ttotal: 16m 50s\tremaining: 31m 7s\n",
      "400:\tlearn: 0.8058556\ttotal: 19m 14s\tremaining: 28m 44s\n",
      "450:\tlearn: 0.8091508\ttotal: 21m 37s\tremaining: 26m 19s\n",
      "500:\tlearn: 0.8126776\ttotal: 24m\tremaining: 23m 55s\n",
      "550:\tlearn: 0.8147622\ttotal: 26m 24s\tremaining: 21m 31s\n",
      "600:\tlearn: 0.8176023\ttotal: 28m 47s\tremaining: 19m 7s\n",
      "650:\tlearn: 0.8214947\ttotal: 31m 11s\tremaining: 16m 43s\n",
      "700:\tlearn: 0.8240790\ttotal: 33m 34s\tremaining: 14m 19s\n",
      "750:\tlearn: 0.8253744\ttotal: 35m 58s\tremaining: 11m 55s\n",
      "800:\tlearn: 0.8313719\ttotal: 38m 23s\tremaining: 9m 32s\n",
      "850:\tlearn: 0.8354475\ttotal: 40m 47s\tremaining: 7m 8s\n",
      "900:\tlearn: 0.8375426\ttotal: 43m 12s\tremaining: 4m 44s\n",
      "950:\tlearn: 0.8414358\ttotal: 45m 36s\tremaining: 2m 21s\n",
      "999:\tlearn: 0.8458532\ttotal: 47m 58s\tremaining: 0us\n",
      "F1-мера: 0.740608228980322\n",
      "CPU times: user 47min 36s, sys: 56.6 s, total: 48min 33s\n",
      "Wall time: 48min 42s\n"
     ]
    }
   ],
   "source": [
    "%%time\n",
    "text_features = ['lemma_text']\n",
    "\n",
    "model_cat_01 = CatBoostClassifier(verbose = 50, \n",
    "                                  loss_function='Logloss', \n",
    "                                  eval_metric = 'F1',\n",
    "                                  iterations=1000, \n",
    "                                  learning_rate=0.2,\n",
    "                                  random_seed = 0)\n",
    "model_cat_01.fit(tf_idf_train, train['toxic'])\n",
    "prediction = model_cat_01.predict(tf_idf_test)\n",
    "print(\"F1-мера:\", f1_score(prediction, test['toxic']))"
   ]
  },
  {
   "cell_type": "markdown",
   "metadata": {},
   "source": [
    "F1 = 0.74 - слишком низкий показатель для такого количества времени"
   ]
  },
  {
   "cell_type": "markdown",
   "metadata": {},
   "source": [
    "## Выводы"
   ]
  },
  {
   "cell_type": "markdown",
   "metadata": {},
   "source": [
    "Был проведен анализ данных, в течение которого было выяснено, что баланс классов сильно нарушен: 90% - отрицательных отзывов против 10% положительных.<br>\n",
    "Проведена очистка и лемматизация английских слов (в том числе при помощи \"pos_tag\")<br>\n",
    "В ходе обучения моделей, был получен наилучший результат F1-меры у модели логистической регрессии со сбалансированным весом классов и с измененным порогом классификации до 0,6. Результат был достигнут и составляет  0.754. "
   ]
  }
 ],
 "metadata": {
  "ExecuteTimeLog": [
   {
    "duration": 1224,
    "start_time": "2021-06-12T11:57:56.455Z"
   },
   {
    "duration": 904,
    "start_time": "2021-06-12T11:57:57.682Z"
   },
   {
    "duration": 25,
    "start_time": "2021-06-12T11:57:58.590Z"
   },
   {
    "duration": 295,
    "start_time": "2021-06-12T11:57:58.618Z"
   },
   {
    "duration": 17,
    "start_time": "2021-06-12T11:57:58.916Z"
   },
   {
    "duration": 4,
    "start_time": "2021-06-12T11:57:58.935Z"
   },
   {
    "duration": 1295,
    "start_time": "2021-06-12T12:20:13.199Z"
   },
   {
    "duration": 721,
    "start_time": "2021-06-12T12:20:14.496Z"
   },
   {
    "duration": 23,
    "start_time": "2021-06-12T12:20:15.220Z"
   },
   {
    "duration": 294,
    "start_time": "2021-06-12T12:20:15.246Z"
   },
   {
    "duration": 17,
    "start_time": "2021-06-12T12:20:15.543Z"
   },
   {
    "duration": 3517,
    "start_time": "2021-06-12T12:20:15.563Z"
   },
   {
    "duration": 1029,
    "start_time": "2021-06-12T12:20:18.054Z"
   },
   {
    "duration": 1284,
    "start_time": "2021-06-12T12:21:16.997Z"
   },
   {
    "duration": 748,
    "start_time": "2021-06-12T12:21:18.284Z"
   },
   {
    "duration": 24,
    "start_time": "2021-06-12T12:21:19.036Z"
   },
   {
    "duration": 306,
    "start_time": "2021-06-12T12:21:19.064Z"
   },
   {
    "duration": 27,
    "start_time": "2021-06-12T12:21:19.373Z"
   },
   {
    "duration": 3328,
    "start_time": "2021-06-12T12:21:19.402Z"
   },
   {
    "duration": 1053,
    "start_time": "2021-06-12T12:21:21.680Z"
   },
   {
    "duration": 1313,
    "start_time": "2021-06-12T12:27:41.843Z"
   },
   {
    "duration": 772,
    "start_time": "2021-06-12T12:27:43.159Z"
   },
   {
    "duration": 22,
    "start_time": "2021-06-12T12:27:43.934Z"
   },
   {
    "duration": 306,
    "start_time": "2021-06-12T12:27:43.959Z"
   },
   {
    "duration": 15,
    "start_time": "2021-06-12T12:27:44.268Z"
   },
   {
    "duration": 2768,
    "start_time": "2021-06-12T12:27:44.286Z"
   },
   {
    "duration": 6,
    "start_time": "2021-06-12T12:27:47.056Z"
   },
   {
    "duration": 10,
    "start_time": "2021-06-12T12:27:47.065Z"
   },
   {
    "duration": 1308,
    "start_time": "2021-06-12T12:29:43.873Z"
   },
   {
    "duration": 758,
    "start_time": "2021-06-12T12:29:45.184Z"
   },
   {
    "duration": 22,
    "start_time": "2021-06-12T12:29:45.948Z"
   },
   {
    "duration": 302,
    "start_time": "2021-06-12T12:29:45.973Z"
   },
   {
    "duration": 27,
    "start_time": "2021-06-12T12:29:46.278Z"
   },
   {
    "duration": 2709,
    "start_time": "2021-06-12T12:29:46.308Z"
   },
   {
    "duration": 6,
    "start_time": "2021-06-12T12:29:49.021Z"
   },
   {
    "duration": 1067,
    "start_time": "2021-06-12T12:29:48.651Z"
   },
   {
    "duration": 1057,
    "start_time": "2021-06-12T12:29:48.663Z"
   },
   {
    "duration": 252,
    "start_time": "2021-06-12T12:29:54.017Z"
   },
   {
    "duration": 1351,
    "start_time": "2021-06-12T12:33:06.557Z"
   },
   {
    "duration": 784,
    "start_time": "2021-06-12T12:33:07.911Z"
   },
   {
    "duration": 23,
    "start_time": "2021-06-12T12:33:08.698Z"
   },
   {
    "duration": 330,
    "start_time": "2021-06-12T12:33:08.723Z"
   },
   {
    "duration": 16,
    "start_time": "2021-06-12T12:33:09.055Z"
   },
   {
    "duration": 2964,
    "start_time": "2021-06-12T12:33:09.074Z"
   },
   {
    "duration": 8,
    "start_time": "2021-06-12T12:33:12.041Z"
   },
   {
    "duration": 300065,
    "start_time": "2021-06-12T12:33:12.052Z"
   },
   {
    "duration": 4,
    "start_time": "2021-06-12T12:38:12.120Z"
   },
   {
    "duration": 15,
    "start_time": "2021-06-12T12:38:25.511Z"
   },
   {
    "duration": 6,
    "start_time": "2021-06-12T12:38:44.338Z"
   },
   {
    "duration": 34418,
    "start_time": "2021-06-12T12:39:14.532Z"
   },
   {
    "duration": 4,
    "start_time": "2021-06-12T12:40:00.836Z"
   },
   {
    "duration": 30772,
    "start_time": "2021-06-12T12:40:11.145Z"
   },
   {
    "duration": 52,
    "start_time": "2021-06-12T12:40:41.951Z"
   },
   {
    "duration": 1315,
    "start_time": "2021-06-12T12:42:55.290Z"
   },
   {
    "duration": 817,
    "start_time": "2021-06-12T12:42:56.608Z"
   },
   {
    "duration": 21,
    "start_time": "2021-06-12T12:42:57.428Z"
   },
   {
    "duration": 295,
    "start_time": "2021-06-12T12:42:57.452Z"
   },
   {
    "duration": 12,
    "start_time": "2021-06-12T12:42:57.749Z"
   },
   {
    "duration": 2765,
    "start_time": "2021-06-12T12:42:57.764Z"
   },
   {
    "duration": 13,
    "start_time": "2021-06-12T12:43:00.532Z"
   },
   {
    "duration": 6549,
    "start_time": "2021-06-12T12:43:00.548Z"
   },
   {
    "duration": 1039,
    "start_time": "2021-06-12T12:43:06.062Z"
   },
   {
    "duration": 1288,
    "start_time": "2021-06-12T12:45:04.450Z"
   },
   {
    "duration": 786,
    "start_time": "2021-06-12T12:45:05.741Z"
   },
   {
    "duration": 22,
    "start_time": "2021-06-12T12:45:06.533Z"
   },
   {
    "duration": 317,
    "start_time": "2021-06-12T12:45:06.558Z"
   },
   {
    "duration": 24,
    "start_time": "2021-06-12T12:45:06.877Z"
   },
   {
    "duration": 2772,
    "start_time": "2021-06-12T12:45:06.904Z"
   },
   {
    "duration": 20,
    "start_time": "2021-06-12T12:45:09.680Z"
   },
   {
    "duration": 31301,
    "start_time": "2021-06-12T12:45:09.703Z"
   },
   {
    "duration": 3,
    "start_time": "2021-06-12T12:45:41.025Z"
   },
   {
    "duration": 1260,
    "start_time": "2021-06-12T12:46:50.431Z"
   },
   {
    "duration": 764,
    "start_time": "2021-06-12T12:46:51.693Z"
   },
   {
    "duration": 22,
    "start_time": "2021-06-12T12:46:52.460Z"
   },
   {
    "duration": 292,
    "start_time": "2021-06-12T12:46:52.500Z"
   },
   {
    "duration": 20,
    "start_time": "2021-06-12T12:46:52.794Z"
   },
   {
    "duration": 2762,
    "start_time": "2021-06-12T12:46:52.816Z"
   },
   {
    "duration": 7,
    "start_time": "2021-06-12T12:46:55.581Z"
   },
   {
    "duration": 7645,
    "start_time": "2021-06-12T12:46:55.601Z"
   },
   {
    "duration": 1044,
    "start_time": "2021-06-12T12:47:02.205Z"
   },
   {
    "duration": 1388,
    "start_time": "2021-06-12T12:51:05.594Z"
   },
   {
    "duration": 786,
    "start_time": "2021-06-12T12:51:06.985Z"
   },
   {
    "duration": 38,
    "start_time": "2021-06-12T12:51:07.774Z"
   },
   {
    "duration": 291,
    "start_time": "2021-06-12T12:51:07.815Z"
   },
   {
    "duration": 17,
    "start_time": "2021-06-12T12:51:08.109Z"
   },
   {
    "duration": 42,
    "start_time": "2021-06-12T12:51:08.128Z"
   },
   {
    "duration": 7,
    "start_time": "2021-06-12T12:51:08.201Z"
   },
   {
    "duration": 6439,
    "start_time": "2021-06-12T12:51:08.212Z"
   },
   {
    "duration": 1053,
    "start_time": "2021-06-12T12:51:13.601Z"
   },
   {
    "duration": 1415,
    "start_time": "2021-06-12T12:52:57.494Z"
   },
   {
    "duration": 866,
    "start_time": "2021-06-12T12:52:58.912Z"
   },
   {
    "duration": 28,
    "start_time": "2021-06-12T12:52:59.781Z"
   },
   {
    "duration": 320,
    "start_time": "2021-06-12T12:52:59.813Z"
   },
   {
    "duration": 16,
    "start_time": "2021-06-12T12:53:00.136Z"
   },
   {
    "duration": 2116,
    "start_time": "2021-06-12T12:53:00.154Z"
   },
   {
    "duration": 4,
    "start_time": "2021-06-12T12:53:02.272Z"
   },
   {
    "duration": 5,
    "start_time": "2021-06-12T12:53:02.302Z"
   },
   {
    "duration": 6870,
    "start_time": "2021-06-12T12:53:02.309Z"
   },
   {
    "duration": 1064,
    "start_time": "2021-06-12T12:53:08.119Z"
   },
   {
    "duration": 1729,
    "start_time": "2021-06-12T12:54:07.217Z"
   },
   {
    "duration": 1094,
    "start_time": "2021-06-12T12:54:08.949Z"
   },
   {
    "duration": 32,
    "start_time": "2021-06-12T12:54:10.046Z"
   },
   {
    "duration": 396,
    "start_time": "2021-06-12T12:54:10.081Z"
   },
   {
    "duration": 25,
    "start_time": "2021-06-12T12:54:10.480Z"
   },
   {
    "duration": 7,
    "start_time": "2021-06-12T12:54:10.508Z"
   },
   {
    "duration": 4,
    "start_time": "2021-06-12T12:54:10.518Z"
   },
   {
    "duration": 5,
    "start_time": "2021-06-12T12:54:10.527Z"
   },
   {
    "duration": 6801,
    "start_time": "2021-06-12T12:54:10.535Z"
   },
   {
    "duration": 1061,
    "start_time": "2021-06-12T12:54:16.278Z"
   },
   {
    "duration": 2798,
    "start_time": "2021-06-12T12:54:48.161Z"
   },
   {
    "duration": 330,
    "start_time": "2021-06-12T12:56:14.499Z"
   },
   {
    "duration": 1242,
    "start_time": "2021-06-12T13:01:12.647Z"
   },
   {
    "duration": 772,
    "start_time": "2021-06-12T13:01:13.891Z"
   },
   {
    "duration": 37,
    "start_time": "2021-06-12T13:01:14.667Z"
   },
   {
    "duration": 307,
    "start_time": "2021-06-12T13:01:14.708Z"
   },
   {
    "duration": 18,
    "start_time": "2021-06-12T13:01:15.018Z"
   },
   {
    "duration": 2887,
    "start_time": "2021-06-12T13:01:15.039Z"
   },
   {
    "duration": 9,
    "start_time": "2021-06-12T13:01:17.929Z"
   },
   {
    "duration": 774,
    "start_time": "2021-06-12T13:01:17.941Z"
   },
   {
    "duration": 1085,
    "start_time": "2021-06-12T13:01:17.633Z"
   },
   {
    "duration": 1444,
    "start_time": "2021-06-12T13:01:52.148Z"
   },
   {
    "duration": 1312,
    "start_time": "2021-06-12T13:03:38.587Z"
   },
   {
    "duration": 761,
    "start_time": "2021-06-12T13:03:39.902Z"
   },
   {
    "duration": 34,
    "start_time": "2021-06-12T13:03:40.666Z"
   },
   {
    "duration": 321,
    "start_time": "2021-06-12T13:03:40.703Z"
   },
   {
    "duration": 15,
    "start_time": "2021-06-12T13:03:41.027Z"
   },
   {
    "duration": 2845,
    "start_time": "2021-06-12T13:03:41.044Z"
   },
   {
    "duration": 10,
    "start_time": "2021-06-12T13:03:43.891Z"
   },
   {
    "duration": 672,
    "start_time": "2021-06-12T13:03:43.904Z"
   },
   {
    "duration": 1079,
    "start_time": "2021-06-12T13:03:43.501Z"
   },
   {
    "duration": 1013,
    "start_time": "2021-06-12T13:03:54.470Z"
   },
   {
    "duration": 1523,
    "start_time": "2021-06-12T13:05:19.364Z"
   },
   {
    "duration": 1625,
    "start_time": "2021-06-12T13:07:10.065Z"
   },
   {
    "duration": 1111,
    "start_time": "2021-06-12T13:07:11.694Z"
   },
   {
    "duration": 32,
    "start_time": "2021-06-12T13:07:12.809Z"
   },
   {
    "duration": 432,
    "start_time": "2021-06-12T13:07:12.843Z"
   },
   {
    "duration": 15,
    "start_time": "2021-06-12T13:07:13.278Z"
   },
   {
    "duration": 2848,
    "start_time": "2021-06-12T13:07:13.300Z"
   },
   {
    "duration": 7,
    "start_time": "2021-06-12T13:07:16.151Z"
   },
   {
    "duration": 323254,
    "start_time": "2021-06-12T13:07:16.162Z"
   },
   {
    "duration": 4,
    "start_time": "2021-06-12T13:12:39.419Z"
   },
   {
    "duration": 8,
    "start_time": "2021-06-12T13:13:14.986Z"
   },
   {
    "duration": 326109,
    "start_time": "2021-06-12T13:13:57.020Z"
   },
   {
    "duration": 1253,
    "start_time": "2021-06-12T13:28:18.431Z"
   },
   {
    "duration": 754,
    "start_time": "2021-06-12T13:28:19.687Z"
   },
   {
    "duration": 22,
    "start_time": "2021-06-12T13:28:20.444Z"
   },
   {
    "duration": 304,
    "start_time": "2021-06-12T13:28:20.469Z"
   },
   {
    "duration": 25,
    "start_time": "2021-06-12T13:28:20.775Z"
   },
   {
    "duration": 2890,
    "start_time": "2021-06-12T13:28:20.803Z"
   },
   {
    "duration": 5,
    "start_time": "2021-06-12T13:28:23.700Z"
   },
   {
    "duration": 323985,
    "start_time": "2021-06-12T13:28:23.710Z"
   },
   {
    "duration": 6518,
    "start_time": "2021-06-12T13:33:47.702Z"
   },
   {
    "duration": 1074,
    "start_time": "2021-06-12T13:33:53.149Z"
   },
   {
    "duration": 1242,
    "start_time": "2021-06-13T10:44:19.858Z"
   },
   {
    "duration": 736,
    "start_time": "2021-06-13T10:44:21.103Z"
   },
   {
    "duration": 22,
    "start_time": "2021-06-13T10:44:21.842Z"
   },
   {
    "duration": 298,
    "start_time": "2021-06-13T10:44:21.867Z"
   },
   {
    "duration": 16,
    "start_time": "2021-06-13T10:44:22.168Z"
   },
   {
    "duration": 2763,
    "start_time": "2021-06-13T10:44:22.187Z"
   },
   {
    "duration": 10,
    "start_time": "2021-06-13T10:44:24.953Z"
   },
   {
    "duration": 290094,
    "start_time": "2021-06-13T10:44:24.966Z"
   },
   {
    "duration": 8,
    "start_time": "2021-06-13T10:49:15.063Z"
   },
   {
    "duration": 5,
    "start_time": "2021-06-13T10:49:15.074Z"
   },
   {
    "duration": 1291,
    "start_time": "2021-06-13T11:40:53.800Z"
   },
   {
    "duration": 722,
    "start_time": "2021-06-13T11:40:55.094Z"
   },
   {
    "duration": 24,
    "start_time": "2021-06-13T11:40:55.820Z"
   },
   {
    "duration": 304,
    "start_time": "2021-06-13T11:40:55.847Z"
   },
   {
    "duration": 14,
    "start_time": "2021-06-13T11:40:56.154Z"
   },
   {
    "duration": 2789,
    "start_time": "2021-06-13T11:40:56.171Z"
   },
   {
    "duration": 6,
    "start_time": "2021-06-13T11:40:58.963Z"
   },
   {
    "duration": 91,
    "start_time": "2021-06-13T11:40:58.972Z"
   },
   {
    "duration": -127,
    "start_time": "2021-06-13T11:40:59.193Z"
   },
   {
    "duration": 1470,
    "start_time": "2021-06-13T12:35:42.151Z"
   },
   {
    "duration": 762,
    "start_time": "2021-06-13T12:35:43.624Z"
   },
   {
    "duration": 28,
    "start_time": "2021-06-13T12:35:44.389Z"
   },
   {
    "duration": 313,
    "start_time": "2021-06-13T12:35:44.420Z"
   },
   {
    "duration": 19,
    "start_time": "2021-06-13T12:35:44.736Z"
   },
   {
    "duration": 2866,
    "start_time": "2021-06-13T12:35:44.758Z"
   },
   {
    "duration": 5,
    "start_time": "2021-06-13T12:35:47.628Z"
   },
   {
    "duration": 837,
    "start_time": "2021-06-13T12:35:47.637Z"
   },
   {
    "duration": 109,
    "start_time": "2021-06-13T12:35:48.368Z"
   },
   {
    "duration": 106,
    "start_time": "2021-06-13T12:35:48.373Z"
   },
   {
    "duration": 100,
    "start_time": "2021-06-13T12:35:48.380Z"
   },
   {
    "duration": 1442,
    "start_time": "2021-06-13T12:36:19.546Z"
   },
   {
    "duration": 755,
    "start_time": "2021-06-13T12:36:20.991Z"
   },
   {
    "duration": 23,
    "start_time": "2021-06-13T12:36:21.749Z"
   },
   {
    "duration": 300,
    "start_time": "2021-06-13T12:36:21.775Z"
   },
   {
    "duration": 24,
    "start_time": "2021-06-13T12:36:22.077Z"
   },
   {
    "duration": 2748,
    "start_time": "2021-06-13T12:36:22.103Z"
   },
   {
    "duration": 7,
    "start_time": "2021-06-13T12:36:24.854Z"
   },
   {
    "duration": 8037,
    "start_time": "2021-06-13T12:36:24.864Z"
   },
   {
    "duration": 101,
    "start_time": "2021-06-13T12:36:32.802Z"
   },
   {
    "duration": 98,
    "start_time": "2021-06-13T12:36:32.807Z"
   },
   {
    "duration": 84,
    "start_time": "2021-06-13T12:36:32.822Z"
   },
   {
    "duration": 6414,
    "start_time": "2021-06-13T12:36:58.603Z"
   },
   {
    "duration": 7,
    "start_time": "2021-06-13T12:37:18.288Z"
   },
   {
    "duration": 7,
    "start_time": "2021-06-13T12:37:37.011Z"
   },
   {
    "duration": 6,
    "start_time": "2021-06-13T12:38:08.983Z"
   },
   {
    "duration": 247,
    "start_time": "2021-06-13T12:39:58.491Z"
   },
   {
    "duration": 6,
    "start_time": "2021-06-13T12:40:01.631Z"
   },
   {
    "duration": 1464,
    "start_time": "2021-06-13T12:40:06.704Z"
   },
   {
    "duration": 735,
    "start_time": "2021-06-13T12:40:08.171Z"
   },
   {
    "duration": 23,
    "start_time": "2021-06-13T12:40:08.909Z"
   },
   {
    "duration": 293,
    "start_time": "2021-06-13T12:40:08.934Z"
   },
   {
    "duration": 16,
    "start_time": "2021-06-13T12:40:09.230Z"
   },
   {
    "duration": 55,
    "start_time": "2021-06-13T12:40:09.248Z"
   },
   {
    "duration": 10,
    "start_time": "2021-06-13T12:40:09.305Z"
   },
   {
    "duration": 386,
    "start_time": "2021-06-13T12:40:22.778Z"
   },
   {
    "duration": 1484,
    "start_time": "2021-06-13T12:40:33.103Z"
   },
   {
    "duration": 773,
    "start_time": "2021-06-13T12:40:34.590Z"
   },
   {
    "duration": 35,
    "start_time": "2021-06-13T12:40:35.367Z"
   },
   {
    "duration": 297,
    "start_time": "2021-06-13T12:40:35.405Z"
   },
   {
    "duration": 14,
    "start_time": "2021-06-13T12:40:35.705Z"
   },
   {
    "duration": 43,
    "start_time": "2021-06-13T12:40:35.722Z"
   },
   {
    "duration": 33,
    "start_time": "2021-06-13T12:40:35.767Z"
   },
   {
    "duration": 310,
    "start_time": "2021-06-13T12:41:54.714Z"
   },
   {
    "duration": 286,
    "start_time": "2021-06-13T12:42:01.273Z"
   },
   {
    "duration": 1497,
    "start_time": "2021-06-13T12:43:32.771Z"
   },
   {
    "duration": 753,
    "start_time": "2021-06-13T12:43:34.271Z"
   },
   {
    "duration": 22,
    "start_time": "2021-06-13T12:43:35.027Z"
   },
   {
    "duration": 300,
    "start_time": "2021-06-13T12:43:35.052Z"
   },
   {
    "duration": 15,
    "start_time": "2021-06-13T12:43:35.355Z"
   },
   {
    "duration": 53,
    "start_time": "2021-06-13T12:43:35.373Z"
   },
   {
    "duration": 11,
    "start_time": "2021-06-13T12:43:35.429Z"
   },
   {
    "duration": 1490,
    "start_time": "2021-06-13T12:46:21.895Z"
   },
   {
    "duration": 750,
    "start_time": "2021-06-13T12:46:23.388Z"
   },
   {
    "duration": 23,
    "start_time": "2021-06-13T12:46:24.141Z"
   },
   {
    "duration": 309,
    "start_time": "2021-06-13T12:46:24.167Z"
   },
   {
    "duration": 31,
    "start_time": "2021-06-13T12:46:24.479Z"
   },
   {
    "duration": 42,
    "start_time": "2021-06-13T12:46:24.513Z"
   },
   {
    "duration": 916,
    "start_time": "2021-06-13T12:46:24.558Z"
   },
   {
    "duration": 329,
    "start_time": "2021-06-13T12:46:51.380Z"
   },
   {
    "duration": 1452,
    "start_time": "2021-06-13T12:46:56.224Z"
   },
   {
    "duration": 773,
    "start_time": "2021-06-13T12:46:57.679Z"
   },
   {
    "duration": 23,
    "start_time": "2021-06-13T12:46:58.455Z"
   },
   {
    "duration": 307,
    "start_time": "2021-06-13T12:46:58.482Z"
   },
   {
    "duration": 21,
    "start_time": "2021-06-13T12:46:58.792Z"
   },
   {
    "duration": 6297,
    "start_time": "2021-06-13T12:46:58.815Z"
   },
   {
    "duration": 119,
    "start_time": "2021-06-13T12:47:04.996Z"
   },
   {
    "duration": 118,
    "start_time": "2021-06-13T12:47:04.998Z"
   },
   {
    "duration": 117,
    "start_time": "2021-06-13T12:47:05.000Z"
   },
   {
    "duration": 117,
    "start_time": "2021-06-13T12:47:05.002Z"
   },
   {
    "duration": 116,
    "start_time": "2021-06-13T12:47:05.004Z"
   },
   {
    "duration": 6239,
    "start_time": "2021-06-13T12:47:19.410Z"
   },
   {
    "duration": 10,
    "start_time": "2021-06-13T12:47:48.616Z"
   },
   {
    "duration": 7,
    "start_time": "2021-06-13T12:47:56.867Z"
   },
   {
    "duration": 6,
    "start_time": "2021-06-13T12:48:00.760Z"
   },
   {
    "duration": 6101,
    "start_time": "2021-06-13T12:48:10.837Z"
   },
   {
    "duration": 7,
    "start_time": "2021-06-13T12:48:19.557Z"
   },
   {
    "duration": 33,
    "start_time": "2021-06-13T12:48:46.657Z"
   },
   {
    "duration": 128,
    "start_time": "2021-06-13T12:49:03.200Z"
   },
   {
    "duration": 6323,
    "start_time": "2021-06-13T12:49:06.716Z"
   },
   {
    "duration": 7,
    "start_time": "2021-06-13T12:49:33.640Z"
   },
   {
    "duration": 274,
    "start_time": "2021-06-13T12:49:43.443Z"
   },
   {
    "duration": 1433,
    "start_time": "2021-06-13T12:49:48.949Z"
   },
   {
    "duration": 757,
    "start_time": "2021-06-13T12:49:50.384Z"
   },
   {
    "duration": 23,
    "start_time": "2021-06-13T12:49:51.144Z"
   },
   {
    "duration": 302,
    "start_time": "2021-06-13T12:49:51.169Z"
   },
   {
    "duration": 14,
    "start_time": "2021-06-13T12:49:51.474Z"
   },
   {
    "duration": 7,
    "start_time": "2021-06-13T12:49:51.501Z"
   },
   {
    "duration": 43,
    "start_time": "2021-06-13T12:49:51.510Z"
   },
   {
    "duration": 934,
    "start_time": "2021-06-13T12:49:51.556Z"
   },
   {
    "duration": 1511,
    "start_time": "2021-06-13T12:50:04.683Z"
   },
   {
    "duration": 745,
    "start_time": "2021-06-13T12:50:06.197Z"
   },
   {
    "duration": 22,
    "start_time": "2021-06-13T12:50:06.945Z"
   },
   {
    "duration": 299,
    "start_time": "2021-06-13T12:50:06.970Z"
   },
   {
    "duration": 37,
    "start_time": "2021-06-13T12:50:07.272Z"
   },
   {
    "duration": 7,
    "start_time": "2021-06-13T12:50:07.312Z"
   },
   {
    "duration": 44,
    "start_time": "2021-06-13T12:50:07.322Z"
   },
   {
    "duration": 937,
    "start_time": "2021-06-13T12:50:07.370Z"
   },
   {
    "duration": 1527,
    "start_time": "2021-06-13T12:51:06.075Z"
   },
   {
    "duration": 727,
    "start_time": "2021-06-13T12:51:07.605Z"
   },
   {
    "duration": 22,
    "start_time": "2021-06-13T12:51:08.335Z"
   },
   {
    "duration": 298,
    "start_time": "2021-06-13T12:51:08.360Z"
   },
   {
    "duration": 15,
    "start_time": "2021-06-13T12:51:08.660Z"
   },
   {
    "duration": 6,
    "start_time": "2021-06-13T12:51:08.677Z"
   },
   {
    "duration": 43,
    "start_time": "2021-06-13T12:51:08.701Z"
   },
   {
    "duration": 85,
    "start_time": "2021-06-13T12:51:08.748Z"
   },
   {
    "duration": 124,
    "start_time": "2021-06-13T12:51:08.711Z"
   },
   {
    "duration": 120,
    "start_time": "2021-06-13T12:51:08.717Z"
   },
   {
    "duration": 116,
    "start_time": "2021-06-13T12:51:08.722Z"
   },
   {
    "duration": 1470,
    "start_time": "2021-06-13T12:53:26.118Z"
   },
   {
    "duration": 763,
    "start_time": "2021-06-13T12:53:27.591Z"
   },
   {
    "duration": 27,
    "start_time": "2021-06-13T12:53:28.358Z"
   },
   {
    "duration": 285,
    "start_time": "2021-06-13T12:53:28.400Z"
   },
   {
    "duration": 17,
    "start_time": "2021-06-13T12:53:28.688Z"
   },
   {
    "duration": 38,
    "start_time": "2021-06-13T12:53:28.707Z"
   },
   {
    "duration": 84,
    "start_time": "2021-06-13T12:53:28.747Z"
   },
   {
    "duration": 140,
    "start_time": "2021-06-13T12:53:28.693Z"
   },
   {
    "duration": 136,
    "start_time": "2021-06-13T12:53:28.699Z"
   },
   {
    "duration": 131,
    "start_time": "2021-06-13T12:53:28.706Z"
   },
   {
    "duration": 7046,
    "start_time": "2021-06-13T12:53:43.277Z"
   },
   {
    "duration": 1513,
    "start_time": "2021-06-13T12:55:26.426Z"
   },
   {
    "duration": 741,
    "start_time": "2021-06-13T12:55:27.943Z"
   },
   {
    "duration": 32,
    "start_time": "2021-06-13T12:55:28.686Z"
   },
   {
    "duration": 299,
    "start_time": "2021-06-13T12:55:28.721Z"
   },
   {
    "duration": 16,
    "start_time": "2021-06-13T12:55:29.022Z"
   },
   {
    "duration": 39,
    "start_time": "2021-06-13T12:55:29.040Z"
   },
   {
    "duration": 927,
    "start_time": "2021-06-13T12:55:29.102Z"
   },
   {
    "duration": 1433,
    "start_time": "2021-06-13T12:56:20.756Z"
   },
   {
    "duration": 735,
    "start_time": "2021-06-13T12:56:22.192Z"
   },
   {
    "duration": 21,
    "start_time": "2021-06-13T12:56:22.930Z"
   },
   {
    "duration": 294,
    "start_time": "2021-06-13T12:56:22.954Z"
   },
   {
    "duration": 15,
    "start_time": "2021-06-13T12:56:23.251Z"
   },
   {
    "duration": 10,
    "start_time": "2021-06-13T12:56:23.268Z"
   },
   {
    "duration": 6330,
    "start_time": "2021-06-13T12:56:23.281Z"
   },
   {
    "duration": 130,
    "start_time": "2021-06-13T12:56:29.484Z"
   },
   {
    "duration": 126,
    "start_time": "2021-06-13T12:56:29.490Z"
   },
   {
    "duration": 124,
    "start_time": "2021-06-13T12:56:29.493Z"
   },
   {
    "duration": 517,
    "start_time": "2021-06-13T12:56:40.530Z"
   },
   {
    "duration": 250,
    "start_time": "2021-06-13T12:57:13.062Z"
   },
   {
    "duration": 38,
    "start_time": "2021-06-13T12:57:17.884Z"
   },
   {
    "duration": 35,
    "start_time": "2021-06-13T12:57:19.978Z"
   },
   {
    "duration": 5,
    "start_time": "2021-06-13T12:57:30.733Z"
   },
   {
    "duration": 30656,
    "start_time": "2021-06-13T12:57:57.822Z"
   },
   {
    "duration": 31072,
    "start_time": "2021-06-13T12:58:51.484Z"
   },
   {
    "duration": 7118,
    "start_time": "2021-06-13T12:59:48.259Z"
   },
   {
    "duration": 1497,
    "start_time": "2021-06-13T13:01:02.697Z"
   },
   {
    "duration": 739,
    "start_time": "2021-06-13T13:01:04.197Z"
   },
   {
    "duration": 26,
    "start_time": "2021-06-13T13:01:04.939Z"
   },
   {
    "duration": 305,
    "start_time": "2021-06-13T13:01:04.968Z"
   },
   {
    "duration": 14,
    "start_time": "2021-06-13T13:01:05.276Z"
   },
   {
    "duration": 44,
    "start_time": "2021-06-13T13:01:05.301Z"
   },
   {
    "duration": 1519,
    "start_time": "2021-06-13T13:03:33.881Z"
   },
   {
    "duration": 744,
    "start_time": "2021-06-13T13:03:35.403Z"
   },
   {
    "duration": 23,
    "start_time": "2021-06-13T13:03:36.150Z"
   },
   {
    "duration": 314,
    "start_time": "2021-06-13T13:03:36.175Z"
   },
   {
    "duration": 21,
    "start_time": "2021-06-13T13:03:36.492Z"
   },
   {
    "duration": 43,
    "start_time": "2021-06-13T13:03:36.515Z"
   },
   {
    "duration": 390,
    "start_time": "2021-06-13T13:03:36.561Z"
   },
   {
    "duration": 123,
    "start_time": "2021-06-13T13:03:36.831Z"
   },
   {
    "duration": 103,
    "start_time": "2021-06-13T13:03:36.852Z"
   },
   {
    "duration": 99,
    "start_time": "2021-06-13T13:03:36.858Z"
   },
   {
    "duration": 93,
    "start_time": "2021-06-13T13:03:36.865Z"
   },
   {
    "duration": 243,
    "start_time": "2021-06-13T13:04:25.972Z"
   },
   {
    "duration": 1498,
    "start_time": "2021-06-13T13:05:42.183Z"
   },
   {
    "duration": 733,
    "start_time": "2021-06-13T13:05:43.684Z"
   },
   {
    "duration": 22,
    "start_time": "2021-06-13T13:05:44.420Z"
   },
   {
    "duration": 301,
    "start_time": "2021-06-13T13:05:44.445Z"
   },
   {
    "duration": 15,
    "start_time": "2021-06-13T13:05:44.749Z"
   },
   {
    "duration": 65,
    "start_time": "2021-06-13T13:05:44.766Z"
   },
   {
    "duration": 1486,
    "start_time": "2021-06-13T13:09:32.688Z"
   },
   {
    "duration": 745,
    "start_time": "2021-06-13T13:09:34.177Z"
   },
   {
    "duration": 24,
    "start_time": "2021-06-13T13:09:34.926Z"
   },
   {
    "duration": 306,
    "start_time": "2021-06-13T13:09:34.954Z"
   },
   {
    "duration": 15,
    "start_time": "2021-06-13T13:09:35.263Z"
   },
   {
    "duration": 6429,
    "start_time": "2021-06-13T13:09:35.281Z"
   },
   {
    "duration": 142,
    "start_time": "2021-06-13T13:09:41.572Z"
   },
   {
    "duration": 134,
    "start_time": "2021-06-13T13:09:41.581Z"
   },
   {
    "duration": 133,
    "start_time": "2021-06-13T13:09:41.584Z"
   },
   {
    "duration": 130,
    "start_time": "2021-06-13T13:09:41.588Z"
   },
   {
    "duration": 128,
    "start_time": "2021-06-13T13:09:41.592Z"
   },
   {
    "duration": 14,
    "start_time": "2021-06-13T13:11:13.231Z"
   },
   {
    "duration": 1494,
    "start_time": "2021-06-13T13:11:43.086Z"
   },
   {
    "duration": 759,
    "start_time": "2021-06-13T13:11:44.582Z"
   },
   {
    "duration": 26,
    "start_time": "2021-06-13T13:11:45.344Z"
   },
   {
    "duration": 308,
    "start_time": "2021-06-13T13:11:45.373Z"
   },
   {
    "duration": 28,
    "start_time": "2021-06-13T13:11:45.685Z"
   },
   {
    "duration": 47,
    "start_time": "2021-06-13T13:11:45.715Z"
   },
   {
    "duration": 85,
    "start_time": "2021-06-13T13:11:45.764Z"
   },
   {
    "duration": 168,
    "start_time": "2021-06-13T13:11:45.684Z"
   },
   {
    "duration": 167,
    "start_time": "2021-06-13T13:11:45.686Z"
   },
   {
    "duration": 165,
    "start_time": "2021-06-13T13:11:45.689Z"
   },
   {
    "duration": 7876,
    "start_time": "2021-06-13T13:11:54.876Z"
   },
   {
    "duration": 7332,
    "start_time": "2021-06-13T13:12:18.475Z"
   },
   {
    "duration": 1492,
    "start_time": "2021-06-13T13:14:23.289Z"
   },
   {
    "duration": 750,
    "start_time": "2021-06-13T13:14:24.784Z"
   },
   {
    "duration": 22,
    "start_time": "2021-06-13T13:14:25.537Z"
   },
   {
    "duration": 300,
    "start_time": "2021-06-13T13:14:25.563Z"
   },
   {
    "duration": 18,
    "start_time": "2021-06-13T13:14:25.866Z"
   },
   {
    "duration": 51,
    "start_time": "2021-06-13T13:14:25.901Z"
   },
   {
    "duration": 977,
    "start_time": "2021-06-13T13:14:25.954Z"
   },
   {
    "duration": 325,
    "start_time": "2021-06-13T13:17:19.172Z"
   },
   {
    "duration": 1552,
    "start_time": "2021-06-13T13:17:41.657Z"
   },
   {
    "duration": 740,
    "start_time": "2021-06-13T13:17:43.212Z"
   },
   {
    "duration": 23,
    "start_time": "2021-06-13T13:17:43.955Z"
   },
   {
    "duration": 301,
    "start_time": "2021-06-13T13:17:43.980Z"
   },
   {
    "duration": 19,
    "start_time": "2021-06-13T13:17:44.283Z"
   },
   {
    "duration": 34,
    "start_time": "2021-06-13T13:17:44.304Z"
   },
   {
    "duration": 411,
    "start_time": "2021-06-13T13:17:44.341Z"
   },
   {
    "duration": 148,
    "start_time": "2021-06-13T13:17:44.607Z"
   },
   {
    "duration": 135,
    "start_time": "2021-06-13T13:17:44.621Z"
   },
   {
    "duration": 134,
    "start_time": "2021-06-13T13:17:44.624Z"
   },
   {
    "duration": 1265,
    "start_time": "2021-06-13T13:17:51.463Z"
   },
   {
    "duration": 35,
    "start_time": "2021-06-13T13:18:23.175Z"
   },
   {
    "duration": 8,
    "start_time": "2021-06-13T13:18:43.122Z"
   },
   {
    "duration": 316,
    "start_time": "2021-06-13T13:21:45.254Z"
   },
   {
    "duration": 1449,
    "start_time": "2021-06-13T13:23:11.129Z"
   },
   {
    "duration": 744,
    "start_time": "2021-06-13T13:23:12.580Z"
   },
   {
    "duration": 22,
    "start_time": "2021-06-13T13:23:13.327Z"
   },
   {
    "duration": 293,
    "start_time": "2021-06-13T13:23:13.351Z"
   },
   {
    "duration": 17,
    "start_time": "2021-06-13T13:23:13.647Z"
   },
   {
    "duration": 72,
    "start_time": "2021-06-13T13:23:13.666Z"
   },
   {
    "duration": 1474,
    "start_time": "2021-06-13T13:25:03.505Z"
   },
   {
    "duration": 833,
    "start_time": "2021-06-13T13:25:04.982Z"
   },
   {
    "duration": 24,
    "start_time": "2021-06-13T13:25:05.818Z"
   },
   {
    "duration": 311,
    "start_time": "2021-06-13T13:25:05.844Z"
   },
   {
    "duration": 15,
    "start_time": "2021-06-13T13:25:06.158Z"
   },
   {
    "duration": 70,
    "start_time": "2021-06-13T13:25:06.176Z"
   },
   {
    "duration": 1445,
    "start_time": "2021-06-13T13:27:27.845Z"
   },
   {
    "duration": 755,
    "start_time": "2021-06-13T13:27:29.293Z"
   },
   {
    "duration": 22,
    "start_time": "2021-06-13T13:27:30.051Z"
   },
   {
    "duration": 395,
    "start_time": "2021-06-13T13:27:30.076Z"
   },
   {
    "duration": 27,
    "start_time": "2021-06-13T13:27:30.473Z"
   },
   {
    "duration": 43,
    "start_time": "2021-06-13T13:27:30.502Z"
   },
   {
    "duration": 1010,
    "start_time": "2021-06-13T13:27:30.547Z"
   },
   {
    "duration": 342,
    "start_time": "2021-06-13T13:28:32.492Z"
   },
   {
    "duration": 260,
    "start_time": "2021-06-13T13:28:46.177Z"
   },
   {
    "duration": 1504,
    "start_time": "2021-06-13T13:28:59.388Z"
   },
   {
    "duration": 769,
    "start_time": "2021-06-13T13:29:00.895Z"
   },
   {
    "duration": 32,
    "start_time": "2021-06-13T13:29:01.668Z"
   },
   {
    "duration": 293,
    "start_time": "2021-06-13T13:29:01.703Z"
   },
   {
    "duration": 15,
    "start_time": "2021-06-13T13:29:01.998Z"
   },
   {
    "duration": 42,
    "start_time": "2021-06-13T13:29:02.016Z"
   },
   {
    "duration": 1034,
    "start_time": "2021-06-13T13:29:02.060Z"
   },
   {
    "duration": 986,
    "start_time": "2021-06-13T13:29:03.102Z"
   },
   {
    "duration": 1451,
    "start_time": "2021-06-13T13:31:01.645Z"
   },
   {
    "duration": 760,
    "start_time": "2021-06-13T13:31:03.098Z"
   },
   {
    "duration": 43,
    "start_time": "2021-06-13T13:31:03.861Z"
   },
   {
    "duration": 304,
    "start_time": "2021-06-13T13:31:03.908Z"
   },
   {
    "duration": 16,
    "start_time": "2021-06-13T13:31:04.215Z"
   },
   {
    "duration": 2716,
    "start_time": "2021-06-13T13:31:04.233Z"
   },
   {
    "duration": 1084,
    "start_time": "2021-06-13T13:31:06.951Z"
   },
   {
    "duration": 1113,
    "start_time": "2021-06-13T13:31:08.038Z"
   },
   {
    "duration": 1573,
    "start_time": "2021-06-13T13:32:07.925Z"
   },
   {
    "duration": 760,
    "start_time": "2021-06-13T13:32:09.501Z"
   },
   {
    "duration": 40,
    "start_time": "2021-06-13T13:32:10.267Z"
   },
   {
    "duration": 295,
    "start_time": "2021-06-13T13:32:10.310Z"
   },
   {
    "duration": 15,
    "start_time": "2021-06-13T13:32:10.608Z"
   },
   {
    "duration": 5643,
    "start_time": "2021-06-13T13:32:10.626Z"
   },
   {
    "duration": 934,
    "start_time": "2021-06-13T13:32:16.274Z"
   },
   {
    "duration": 1001,
    "start_time": "2021-06-13T13:32:17.212Z"
   },
   {
    "duration": 1462,
    "start_time": "2021-06-13T13:37:58.252Z"
   },
   {
    "duration": 761,
    "start_time": "2021-06-13T13:37:59.716Z"
   },
   {
    "duration": 28,
    "start_time": "2021-06-13T13:38:00.480Z"
   },
   {
    "duration": 293,
    "start_time": "2021-06-13T13:38:00.512Z"
   },
   {
    "duration": 15,
    "start_time": "2021-06-13T13:38:00.808Z"
   },
   {
    "duration": 51,
    "start_time": "2021-06-13T13:38:00.826Z"
   },
   {
    "duration": 2004,
    "start_time": "2021-06-13T13:38:00.880Z"
   },
   {
    "duration": 54,
    "start_time": "2021-06-13T13:38:02.888Z"
   },
   {
    "duration": 1462,
    "start_time": "2021-06-13T13:39:24.895Z"
   },
   {
    "duration": 742,
    "start_time": "2021-06-13T13:39:26.360Z"
   },
   {
    "duration": 24,
    "start_time": "2021-06-13T13:39:27.105Z"
   },
   {
    "duration": 299,
    "start_time": "2021-06-13T13:39:27.132Z"
   },
   {
    "duration": 15,
    "start_time": "2021-06-13T13:39:27.434Z"
   },
   {
    "duration": 61,
    "start_time": "2021-06-13T13:39:27.451Z"
   },
   {
    "duration": 2028,
    "start_time": "2021-06-13T13:39:27.515Z"
   },
   {
    "duration": 57,
    "start_time": "2021-06-13T13:39:29.546Z"
   },
   {
    "duration": 1513,
    "start_time": "2021-06-13T13:41:37.495Z"
   },
   {
    "duration": 732,
    "start_time": "2021-06-13T13:41:39.011Z"
   },
   {
    "duration": 24,
    "start_time": "2021-06-13T13:41:39.746Z"
   },
   {
    "duration": 311,
    "start_time": "2021-06-13T13:41:39.773Z"
   },
   {
    "duration": 25,
    "start_time": "2021-06-13T13:41:40.087Z"
   },
   {
    "duration": 41,
    "start_time": "2021-06-13T13:41:40.115Z"
   },
   {
    "duration": 1530,
    "start_time": "2021-06-13T13:54:00.001Z"
   },
   {
    "duration": 773,
    "start_time": "2021-06-13T13:54:01.534Z"
   },
   {
    "duration": 25,
    "start_time": "2021-06-13T13:54:02.310Z"
   },
   {
    "duration": 318,
    "start_time": "2021-06-13T13:54:02.339Z"
   },
   {
    "duration": 18,
    "start_time": "2021-06-13T13:54:02.661Z"
   },
   {
    "duration": 2761,
    "start_time": "2021-06-13T13:54:02.682Z"
   },
   {
    "duration": 1445,
    "start_time": "2021-06-13T13:56:04.058Z"
   },
   {
    "duration": 759,
    "start_time": "2021-06-13T13:56:05.506Z"
   },
   {
    "duration": 43,
    "start_time": "2021-06-13T13:56:06.272Z"
   },
   {
    "duration": 321,
    "start_time": "2021-06-13T13:56:06.318Z"
   },
   {
    "duration": 15,
    "start_time": "2021-06-13T13:56:06.641Z"
   },
   {
    "duration": 2953,
    "start_time": "2021-06-13T13:56:06.658Z"
   },
   {
    "duration": 1439,
    "start_time": "2021-06-13T13:57:07.161Z"
   },
   {
    "duration": 734,
    "start_time": "2021-06-13T13:57:08.603Z"
   },
   {
    "duration": 23,
    "start_time": "2021-06-13T13:57:09.340Z"
   },
   {
    "duration": 301,
    "start_time": "2021-06-13T13:57:09.366Z"
   },
   {
    "duration": 16,
    "start_time": "2021-06-13T13:57:09.669Z"
   },
   {
    "duration": 2785,
    "start_time": "2021-06-13T13:57:09.687Z"
   },
   {
    "duration": 1170,
    "start_time": "2021-06-13T13:57:12.474Z"
   },
   {
    "duration": 320,
    "start_time": "2021-06-13T13:57:36.766Z"
   },
   {
    "duration": 1455,
    "start_time": "2021-06-13T13:58:20.381Z"
   },
   {
    "duration": 756,
    "start_time": "2021-06-13T13:58:21.838Z"
   },
   {
    "duration": 22,
    "start_time": "2021-06-13T13:58:22.601Z"
   },
   {
    "duration": 310,
    "start_time": "2021-06-13T13:58:22.625Z"
   },
   {
    "duration": 15,
    "start_time": "2021-06-13T13:58:22.937Z"
   },
   {
    "duration": 2777,
    "start_time": "2021-06-13T13:58:22.954Z"
   },
   {
    "duration": 1192,
    "start_time": "2021-06-13T13:58:25.734Z"
   },
   {
    "duration": 8,
    "start_time": "2021-06-13T13:58:26.929Z"
   },
   {
    "duration": 1859,
    "start_time": "2021-06-13T13:59:08.167Z"
   },
   {
    "duration": 754,
    "start_time": "2021-06-13T13:59:10.028Z"
   },
   {
    "duration": 28,
    "start_time": "2021-06-13T13:59:10.785Z"
   },
   {
    "duration": 301,
    "start_time": "2021-06-13T13:59:10.816Z"
   },
   {
    "duration": 15,
    "start_time": "2021-06-13T13:59:11.119Z"
   },
   {
    "duration": 2842,
    "start_time": "2021-06-13T13:59:11.137Z"
   },
   {
    "duration": 1149,
    "start_time": "2021-06-13T13:59:13.982Z"
   },
   {
    "duration": 16,
    "start_time": "2021-06-13T13:59:15.134Z"
   },
   {
    "duration": 1432,
    "start_time": "2021-06-13T14:01:43.427Z"
   },
   {
    "duration": 733,
    "start_time": "2021-06-13T14:01:44.862Z"
   },
   {
    "duration": 22,
    "start_time": "2021-06-13T14:01:45.598Z"
   },
   {
    "duration": 307,
    "start_time": "2021-06-13T14:01:45.624Z"
   },
   {
    "duration": 15,
    "start_time": "2021-06-13T14:01:45.934Z"
   },
   {
    "duration": 2888,
    "start_time": "2021-06-13T14:01:45.952Z"
   },
   {
    "duration": 1448,
    "start_time": "2021-06-13T14:26:22.263Z"
   },
   {
    "duration": 739,
    "start_time": "2021-06-13T14:26:23.713Z"
   },
   {
    "duration": 42,
    "start_time": "2021-06-13T14:26:24.460Z"
   },
   {
    "duration": 302,
    "start_time": "2021-06-13T14:26:24.504Z"
   },
   {
    "duration": 15,
    "start_time": "2021-06-13T14:26:24.808Z"
   },
   {
    "duration": 2,
    "start_time": "2021-06-13T14:26:24.826Z"
   },
   {
    "duration": 410,
    "start_time": "2021-06-13T14:26:24.832Z"
   },
   {
    "duration": 188,
    "start_time": "2021-06-13T14:26:25.057Z"
   },
   {
    "duration": 185,
    "start_time": "2021-06-13T14:26:25.061Z"
   },
   {
    "duration": 183,
    "start_time": "2021-06-13T14:26:25.065Z"
   },
   {
    "duration": 182,
    "start_time": "2021-06-13T14:26:25.067Z"
   },
   {
    "duration": 182,
    "start_time": "2021-06-13T14:26:25.069Z"
   },
   {
    "duration": 2574,
    "start_time": "2021-06-13T14:26:53.707Z"
   },
   {
    "duration": 271,
    "start_time": "2021-06-13T14:44:29.472Z"
   },
   {
    "duration": 248,
    "start_time": "2021-06-13T14:44:31.976Z"
   },
   {
    "duration": 1677,
    "start_time": "2021-06-13T14:47:02.535Z"
   },
   {
    "duration": 735,
    "start_time": "2021-06-13T14:47:04.215Z"
   },
   {
    "duration": 22,
    "start_time": "2021-06-13T14:47:04.952Z"
   },
   {
    "duration": 305,
    "start_time": "2021-06-13T14:47:04.977Z"
   },
   {
    "duration": 26,
    "start_time": "2021-06-13T14:47:05.284Z"
   },
   {
    "duration": 4,
    "start_time": "2021-06-13T14:47:05.312Z"
   },
   {
    "duration": 2708,
    "start_time": "2021-06-13T14:47:05.319Z"
   },
   {
    "duration": 49,
    "start_time": "2021-06-13T14:47:08.030Z"
   },
   {
    "duration": 3131,
    "start_time": "2021-06-13T14:47:08.082Z"
   },
   {
    "duration": 193,
    "start_time": "2021-06-13T14:47:11.023Z"
   },
   {
    "duration": 191,
    "start_time": "2021-06-13T14:47:11.027Z"
   },
   {
    "duration": 190,
    "start_time": "2021-06-13T14:47:11.029Z"
   },
   {
    "duration": 1508,
    "start_time": "2021-06-13T14:49:08.601Z"
   },
   {
    "duration": 741,
    "start_time": "2021-06-13T14:49:10.112Z"
   },
   {
    "duration": 22,
    "start_time": "2021-06-13T14:49:10.856Z"
   },
   {
    "duration": 296,
    "start_time": "2021-06-13T14:49:10.881Z"
   },
   {
    "duration": 22,
    "start_time": "2021-06-13T14:49:11.180Z"
   },
   {
    "duration": 3,
    "start_time": "2021-06-13T14:49:11.205Z"
   },
   {
    "duration": 2672,
    "start_time": "2021-06-13T14:49:11.210Z"
   },
   {
    "duration": 3,
    "start_time": "2021-06-13T14:49:13.885Z"
   },
   {
    "duration": 1502,
    "start_time": "2021-06-13T14:49:37.495Z"
   },
   {
    "duration": 731,
    "start_time": "2021-06-13T14:49:38.999Z"
   },
   {
    "duration": 24,
    "start_time": "2021-06-13T14:49:39.734Z"
   },
   {
    "duration": 306,
    "start_time": "2021-06-13T14:49:39.762Z"
   },
   {
    "duration": 31,
    "start_time": "2021-06-13T14:49:40.071Z"
   },
   {
    "duration": 4,
    "start_time": "2021-06-13T14:49:40.104Z"
   },
   {
    "duration": 2615,
    "start_time": "2021-06-13T14:49:40.112Z"
   },
   {
    "duration": 4,
    "start_time": "2021-06-13T14:49:42.731Z"
   },
   {
    "duration": 1454,
    "start_time": "2021-06-13T16:22:38.960Z"
   },
   {
    "duration": 747,
    "start_time": "2021-06-13T16:22:40.416Z"
   },
   {
    "duration": 36,
    "start_time": "2021-06-13T16:22:41.166Z"
   },
   {
    "duration": 310,
    "start_time": "2021-06-13T16:22:41.205Z"
   },
   {
    "duration": 18,
    "start_time": "2021-06-13T16:22:41.517Z"
   },
   {
    "duration": 4,
    "start_time": "2021-06-13T16:22:41.537Z"
   },
   {
    "duration": 2729,
    "start_time": "2021-06-13T16:22:41.544Z"
   },
   {
    "duration": 55,
    "start_time": "2021-06-13T16:22:44.276Z"
   },
   {
    "duration": 3011,
    "start_time": "2021-06-13T16:22:44.333Z"
   },
   {
    "duration": 156,
    "start_time": "2021-06-13T16:22:47.346Z"
   },
   {
    "duration": 6253,
    "start_time": "2021-06-13T16:22:47.504Z"
   },
   {
    "duration": 276,
    "start_time": "2021-06-13T16:22:53.484Z"
   },
   {
    "duration": 1471,
    "start_time": "2021-06-13T16:26:02.457Z"
   },
   {
    "duration": 747,
    "start_time": "2021-06-13T16:26:03.930Z"
   },
   {
    "duration": 27,
    "start_time": "2021-06-13T16:26:04.680Z"
   },
   {
    "duration": 294,
    "start_time": "2021-06-13T16:26:04.710Z"
   },
   {
    "duration": 16,
    "start_time": "2021-06-13T16:26:05.006Z"
   },
   {
    "duration": 3,
    "start_time": "2021-06-13T16:26:05.024Z"
   },
   {
    "duration": 2690,
    "start_time": "2021-06-13T16:26:05.029Z"
   },
   {
    "duration": 42,
    "start_time": "2021-06-13T16:26:07.722Z"
   },
   {
    "duration": 6217,
    "start_time": "2021-06-13T16:26:07.766Z"
   },
   {
    "duration": 100,
    "start_time": "2021-06-13T16:26:13.986Z"
   },
   {
    "duration": 6794,
    "start_time": "2021-06-13T16:26:14.089Z"
   },
   {
    "duration": 244,
    "start_time": "2021-06-13T16:26:20.642Z"
   },
   {
    "duration": 1484,
    "start_time": "2021-06-13T16:28:05.628Z"
   },
   {
    "duration": 735,
    "start_time": "2021-06-13T16:28:07.115Z"
   },
   {
    "duration": 23,
    "start_time": "2021-06-13T16:28:07.852Z"
   },
   {
    "duration": 289,
    "start_time": "2021-06-13T16:28:07.877Z"
   },
   {
    "duration": 16,
    "start_time": "2021-06-13T16:28:08.168Z"
   },
   {
    "duration": 15,
    "start_time": "2021-06-13T16:28:08.186Z"
   },
   {
    "duration": 2608,
    "start_time": "2021-06-13T16:28:08.203Z"
   },
   {
    "duration": 42,
    "start_time": "2021-06-13T16:28:10.814Z"
   },
   {
    "duration": 1495,
    "start_time": "2021-06-13T16:29:24.517Z"
   },
   {
    "duration": 797,
    "start_time": "2021-06-13T16:29:26.015Z"
   },
   {
    "duration": 23,
    "start_time": "2021-06-13T16:29:26.815Z"
   },
   {
    "duration": 300,
    "start_time": "2021-06-13T16:29:26.840Z"
   },
   {
    "duration": 17,
    "start_time": "2021-06-13T16:29:27.142Z"
   },
   {
    "duration": 3,
    "start_time": "2021-06-13T16:29:27.161Z"
   },
   {
    "duration": 2659,
    "start_time": "2021-06-13T16:29:27.166Z"
   },
   {
    "duration": 41,
    "start_time": "2021-06-13T16:29:29.827Z"
   },
   {
    "duration": 1486,
    "start_time": "2021-06-13T16:33:35.917Z"
   },
   {
    "duration": 767,
    "start_time": "2021-06-13T16:33:37.405Z"
   },
   {
    "duration": 33,
    "start_time": "2021-06-13T16:33:38.175Z"
   },
   {
    "duration": 304,
    "start_time": "2021-06-13T16:33:38.211Z"
   },
   {
    "duration": 16,
    "start_time": "2021-06-13T16:33:38.518Z"
   },
   {
    "duration": 3,
    "start_time": "2021-06-13T16:33:38.536Z"
   },
   {
    "duration": 2639,
    "start_time": "2021-06-13T16:33:38.542Z"
   },
   {
    "duration": 48,
    "start_time": "2021-06-13T16:33:41.185Z"
   },
   {
    "duration": 9132,
    "start_time": "2021-06-13T16:33:41.236Z"
   },
   {
    "duration": 174,
    "start_time": "2021-06-13T16:33:50.371Z"
   },
   {
    "duration": 6842,
    "start_time": "2021-06-13T16:33:50.548Z"
   },
   {
    "duration": 234,
    "start_time": "2021-06-13T16:33:57.159Z"
   },
   {
    "duration": 1497,
    "start_time": "2021-06-13T16:34:25.914Z"
   },
   {
    "duration": 802,
    "start_time": "2021-06-13T16:34:27.414Z"
   },
   {
    "duration": 22,
    "start_time": "2021-06-13T16:34:28.219Z"
   },
   {
    "duration": 303,
    "start_time": "2021-06-13T16:34:28.244Z"
   },
   {
    "duration": 15,
    "start_time": "2021-06-13T16:34:28.549Z"
   },
   {
    "duration": 3,
    "start_time": "2021-06-13T16:34:28.566Z"
   },
   {
    "duration": 2642,
    "start_time": "2021-06-13T16:34:28.572Z"
   },
   {
    "duration": 43,
    "start_time": "2021-06-13T16:34:31.217Z"
   },
   {
    "duration": 9320,
    "start_time": "2021-06-13T16:34:31.263Z"
   },
   {
    "duration": 19,
    "start_time": "2021-06-13T16:34:40.586Z"
   },
   {
    "duration": 174,
    "start_time": "2021-06-13T16:34:40.608Z"
   },
   {
    "duration": 7542,
    "start_time": "2021-06-13T16:34:40.785Z"
   },
   {
    "duration": -6735,
    "start_time": "2021-06-13T16:34:55.065Z"
   },
   {
    "duration": 1545,
    "start_time": "2021-06-13T16:39:41.489Z"
   },
   {
    "duration": 749,
    "start_time": "2021-06-13T16:39:43.036Z"
   },
   {
    "duration": 28,
    "start_time": "2021-06-13T16:39:43.788Z"
   },
   {
    "duration": 294,
    "start_time": "2021-06-13T16:39:43.819Z"
   },
   {
    "duration": 17,
    "start_time": "2021-06-13T16:39:44.116Z"
   },
   {
    "duration": 4,
    "start_time": "2021-06-13T16:39:44.136Z"
   },
   {
    "duration": 2682,
    "start_time": "2021-06-13T16:39:44.143Z"
   },
   {
    "duration": 41,
    "start_time": "2021-06-13T16:39:46.829Z"
   },
   {
    "duration": 1843950,
    "start_time": "2021-06-13T16:39:46.872Z"
   },
   {
    "duration": 16,
    "start_time": "2021-06-13T17:10:30.825Z"
   },
   {
    "duration": 817,
    "start_time": "2021-06-13T17:10:30.843Z"
   },
   {
    "duration": 3530,
    "start_time": "2021-06-13T17:48:17.794Z"
   },
   {
    "duration": 1419,
    "start_time": "2021-06-13T17:49:49.050Z"
   },
   {
    "duration": 1483,
    "start_time": "2021-06-13T18:00:42.447Z"
   },
   {
    "duration": 813,
    "start_time": "2021-06-13T18:00:43.933Z"
   },
   {
    "duration": 22,
    "start_time": "2021-06-13T18:00:44.749Z"
   },
   {
    "duration": 307,
    "start_time": "2021-06-13T18:00:44.775Z"
   },
   {
    "duration": 17,
    "start_time": "2021-06-13T18:00:45.085Z"
   },
   {
    "duration": 8,
    "start_time": "2021-06-13T18:00:45.105Z"
   },
   {
    "duration": 2670,
    "start_time": "2021-06-13T18:00:45.116Z"
   },
   {
    "duration": 49,
    "start_time": "2021-06-13T18:00:47.789Z"
   },
   {
    "duration": 2,
    "start_time": "2021-06-13T18:00:47.842Z"
   },
   {
    "duration": 3362,
    "start_time": "2021-06-13T18:00:47.847Z"
   },
   {
    "duration": 233,
    "start_time": "2021-06-13T18:00:51.211Z"
   },
   {
    "duration": 5,
    "start_time": "2021-06-13T18:00:51.446Z"
   },
   {
    "duration": 20,
    "start_time": "2021-06-13T18:00:51.453Z"
   },
   {
    "duration": 645,
    "start_time": "2021-06-13T18:00:51.476Z"
   },
   {
    "duration": 10,
    "start_time": "2021-06-13T18:00:52.123Z"
   },
   {
    "duration": 313,
    "start_time": "2021-06-13T18:00:52.135Z"
   },
   {
    "duration": 299,
    "start_time": "2021-06-13T18:00:52.151Z"
   },
   {
    "duration": 295,
    "start_time": "2021-06-13T18:00:52.157Z"
   },
   {
    "duration": 1503,
    "start_time": "2021-06-13T18:02:25.430Z"
   },
   {
    "duration": 745,
    "start_time": "2021-06-13T18:02:26.936Z"
   },
   {
    "duration": 27,
    "start_time": "2021-06-13T18:02:27.684Z"
   },
   {
    "duration": 312,
    "start_time": "2021-06-13T18:02:27.714Z"
   },
   {
    "duration": 15,
    "start_time": "2021-06-13T18:02:28.030Z"
   },
   {
    "duration": 6,
    "start_time": "2021-06-13T18:02:28.048Z"
   },
   {
    "duration": 2625,
    "start_time": "2021-06-13T18:02:28.057Z"
   },
   {
    "duration": 54,
    "start_time": "2021-06-13T18:02:30.686Z"
   },
   {
    "duration": 3,
    "start_time": "2021-06-13T18:02:30.743Z"
   },
   {
    "duration": 3466,
    "start_time": "2021-06-13T18:02:30.748Z"
   },
   {
    "duration": 261,
    "start_time": "2021-06-13T18:02:34.216Z"
   },
   {
    "duration": 5,
    "start_time": "2021-06-13T18:02:34.480Z"
   },
   {
    "duration": 7,
    "start_time": "2021-06-13T18:02:34.487Z"
   },
   {
    "duration": 1086,
    "start_time": "2021-06-13T18:02:34.496Z"
   },
   {
    "duration": 10,
    "start_time": "2021-06-13T18:02:35.585Z"
   },
   {
    "duration": 289,
    "start_time": "2021-06-13T18:02:35.597Z"
   },
   {
    "duration": 332,
    "start_time": "2021-06-13T18:02:35.558Z"
   },
   {
    "duration": 328,
    "start_time": "2021-06-13T18:02:35.564Z"
   },
   {
    "duration": 1394,
    "start_time": "2021-06-13T18:03:38.839Z"
   },
   {
    "duration": 738,
    "start_time": "2021-06-13T18:03:40.235Z"
   },
   {
    "duration": 26,
    "start_time": "2021-06-13T18:03:40.976Z"
   },
   {
    "duration": 313,
    "start_time": "2021-06-13T18:03:41.005Z"
   },
   {
    "duration": 19,
    "start_time": "2021-06-13T18:03:41.321Z"
   },
   {
    "duration": 4,
    "start_time": "2021-06-13T18:03:41.342Z"
   },
   {
    "duration": 2827,
    "start_time": "2021-06-13T18:03:41.349Z"
   },
   {
    "duration": 51,
    "start_time": "2021-06-13T18:03:44.180Z"
   },
   {
    "duration": 2,
    "start_time": "2021-06-13T18:03:44.234Z"
   },
   {
    "duration": 3541,
    "start_time": "2021-06-13T18:03:44.239Z"
   },
   {
    "duration": 260,
    "start_time": "2021-06-13T18:03:47.783Z"
   },
   {
    "duration": 5,
    "start_time": "2021-06-13T18:03:48.045Z"
   },
   {
    "duration": 12,
    "start_time": "2021-06-13T18:03:48.052Z"
   },
   {
    "duration": 1855,
    "start_time": "2021-06-13T18:03:48.067Z"
   },
   {
    "duration": 10,
    "start_time": "2021-06-13T18:03:49.924Z"
   },
   {
    "duration": 292,
    "start_time": "2021-06-13T18:03:49.937Z"
   },
   {
    "duration": 317,
    "start_time": "2021-06-13T18:03:49.915Z"
   },
   {
    "duration": 313,
    "start_time": "2021-06-13T18:03:49.921Z"
   },
   {
    "duration": 1423,
    "start_time": "2021-06-13T18:07:33.246Z"
   },
   {
    "duration": 763,
    "start_time": "2021-06-13T18:07:34.671Z"
   },
   {
    "duration": 25,
    "start_time": "2021-06-13T18:07:35.438Z"
   },
   {
    "duration": 338,
    "start_time": "2021-06-13T18:07:35.466Z"
   },
   {
    "duration": 16,
    "start_time": "2021-06-13T18:07:35.807Z"
   },
   {
    "duration": 4,
    "start_time": "2021-06-13T18:07:35.826Z"
   },
   {
    "duration": 2678,
    "start_time": "2021-06-13T18:07:35.832Z"
   },
   {
    "duration": 43,
    "start_time": "2021-06-13T18:07:38.514Z"
   },
   {
    "duration": 5,
    "start_time": "2021-06-13T18:07:38.560Z"
   },
   {
    "duration": 3498,
    "start_time": "2021-06-13T18:07:38.568Z"
   },
   {
    "duration": 286,
    "start_time": "2021-06-13T18:07:42.069Z"
   },
   {
    "duration": 7,
    "start_time": "2021-06-13T18:07:42.359Z"
   },
   {
    "duration": 9,
    "start_time": "2021-06-13T18:07:42.370Z"
   },
   {
    "duration": 1481,
    "start_time": "2021-06-13T18:35:58.561Z"
   },
   {
    "duration": 767,
    "start_time": "2021-06-13T18:36:00.045Z"
   },
   {
    "duration": 22,
    "start_time": "2021-06-13T18:36:00.816Z"
   },
   {
    "duration": 318,
    "start_time": "2021-06-13T18:36:00.841Z"
   },
   {
    "duration": 16,
    "start_time": "2021-06-13T18:36:01.161Z"
   },
   {
    "duration": 5,
    "start_time": "2021-06-13T18:36:01.179Z"
   },
   {
    "duration": 2736,
    "start_time": "2021-06-13T18:36:01.202Z"
   },
   {
    "duration": 46,
    "start_time": "2021-06-13T18:36:03.940Z"
   },
   {
    "duration": 3,
    "start_time": "2021-06-13T18:36:04.003Z"
   },
   {
    "duration": 3601,
    "start_time": "2021-06-13T18:36:04.009Z"
   },
   {
    "duration": 238,
    "start_time": "2021-06-13T18:36:07.613Z"
   },
   {
    "duration": 4,
    "start_time": "2021-06-13T18:36:07.854Z"
   },
   {
    "duration": 6,
    "start_time": "2021-06-13T18:36:07.861Z"
   },
   {
    "duration": 23139,
    "start_time": "2021-06-13T18:36:07.869Z"
   },
   {
    "duration": 15,
    "start_time": "2021-06-13T18:36:31.011Z"
   },
   {
    "duration": 12,
    "start_time": "2021-06-13T18:36:31.029Z"
   },
   {
    "duration": 447,
    "start_time": "2021-06-13T18:36:31.044Z"
   },
   {
    "duration": 333,
    "start_time": "2021-06-13T18:36:31.161Z"
   },
   {
    "duration": 330,
    "start_time": "2021-06-13T18:36:31.166Z"
   },
   {
    "duration": 342,
    "start_time": "2021-06-13T18:37:55.052Z"
   },
   {
    "duration": 484,
    "start_time": "2021-06-13T18:39:04.584Z"
   },
   {
    "duration": 1512,
    "start_time": "2021-06-13T18:40:29.817Z"
   },
   {
    "duration": 757,
    "start_time": "2021-06-13T18:40:31.332Z"
   },
   {
    "duration": 26,
    "start_time": "2021-06-13T18:40:32.092Z"
   },
   {
    "duration": 303,
    "start_time": "2021-06-13T18:40:32.121Z"
   },
   {
    "duration": 16,
    "start_time": "2021-06-13T18:40:32.426Z"
   },
   {
    "duration": 3,
    "start_time": "2021-06-13T18:40:32.444Z"
   },
   {
    "duration": 2595,
    "start_time": "2021-06-13T18:40:32.449Z"
   },
   {
    "duration": 61,
    "start_time": "2021-06-13T18:40:35.049Z"
   },
   {
    "duration": 4,
    "start_time": "2021-06-13T18:40:35.113Z"
   },
   {
    "duration": 3647,
    "start_time": "2021-06-13T18:40:35.120Z"
   },
   {
    "duration": 241,
    "start_time": "2021-06-13T18:40:38.769Z"
   },
   {
    "duration": 5,
    "start_time": "2021-06-13T18:40:39.012Z"
   },
   {
    "duration": 113,
    "start_time": "2021-06-13T18:40:39.019Z"
   },
   {
    "duration": 333,
    "start_time": "2021-06-13T18:40:38.802Z"
   },
   {
    "duration": 327,
    "start_time": "2021-06-13T18:40:38.809Z"
   },
   {
    "duration": 325,
    "start_time": "2021-06-13T18:40:38.813Z"
   },
   {
    "duration": 323,
    "start_time": "2021-06-13T18:40:38.816Z"
   },
   {
    "duration": 322,
    "start_time": "2021-06-13T18:40:38.818Z"
   },
   {
    "duration": 321,
    "start_time": "2021-06-13T18:40:38.821Z"
   },
   {
    "duration": 95,
    "start_time": "2021-06-13T18:42:31.634Z"
   },
   {
    "duration": 92,
    "start_time": "2021-06-13T18:44:30.449Z"
   },
   {
    "duration": 85,
    "start_time": "2021-06-13T18:44:41.893Z"
   },
   {
    "duration": 83,
    "start_time": "2021-06-13T18:45:00.529Z"
   },
   {
    "duration": 95,
    "start_time": "2021-06-13T18:45:10.572Z"
   },
   {
    "duration": 87,
    "start_time": "2021-06-13T18:45:22.241Z"
   },
   {
    "duration": 105,
    "start_time": "2021-06-13T18:46:21.280Z"
   },
   {
    "duration": 93,
    "start_time": "2021-06-13T18:53:34.149Z"
   },
   {
    "duration": 88,
    "start_time": "2021-06-13T18:54:03.961Z"
   },
   {
    "duration": 90,
    "start_time": "2021-06-13T18:54:23.409Z"
   },
   {
    "duration": 99,
    "start_time": "2021-06-13T18:54:43.246Z"
   },
   {
    "duration": 83,
    "start_time": "2021-06-13T18:54:55.151Z"
   },
   {
    "duration": 81,
    "start_time": "2021-06-13T18:55:04.825Z"
   },
   {
    "duration": 98,
    "start_time": "2021-06-13T18:55:15.193Z"
   },
   {
    "duration": 116,
    "start_time": "2021-06-13T18:55:24.103Z"
   },
   {
    "duration": 94,
    "start_time": "2021-06-13T18:55:42.336Z"
   },
   {
    "duration": 94,
    "start_time": "2021-06-13T18:56:22.520Z"
   },
   {
    "duration": 89,
    "start_time": "2021-06-13T18:56:28.202Z"
   },
   {
    "duration": 91,
    "start_time": "2021-06-13T18:56:35.755Z"
   },
   {
    "duration": 80,
    "start_time": "2021-06-13T18:56:39.499Z"
   },
   {
    "duration": 84,
    "start_time": "2021-06-13T18:56:45.796Z"
   },
   {
    "duration": 397,
    "start_time": "2021-06-13T18:57:55.258Z"
   },
   {
    "duration": 86,
    "start_time": "2021-06-13T18:58:32.533Z"
   },
   {
    "duration": 94,
    "start_time": "2021-06-13T18:58:37.362Z"
   },
   {
    "duration": 81,
    "start_time": "2021-06-13T19:02:12.023Z"
   },
   {
    "duration": 93,
    "start_time": "2021-06-13T19:02:27.402Z"
   },
   {
    "duration": 104,
    "start_time": "2021-06-13T19:02:44.553Z"
   },
   {
    "duration": 1588,
    "start_time": "2021-06-13T19:06:00.692Z"
   },
   {
    "duration": 772,
    "start_time": "2021-06-13T19:06:02.283Z"
   },
   {
    "duration": 22,
    "start_time": "2021-06-13T19:06:03.058Z"
   },
   {
    "duration": 310,
    "start_time": "2021-06-13T19:06:03.083Z"
   },
   {
    "duration": 17,
    "start_time": "2021-06-13T19:06:03.395Z"
   },
   {
    "duration": 3,
    "start_time": "2021-06-13T19:06:03.415Z"
   },
   {
    "duration": 2663,
    "start_time": "2021-06-13T19:06:03.420Z"
   },
   {
    "duration": 55,
    "start_time": "2021-06-13T19:06:06.086Z"
   },
   {
    "duration": 3,
    "start_time": "2021-06-13T19:06:06.143Z"
   },
   {
    "duration": 3475,
    "start_time": "2021-06-13T19:06:06.149Z"
   },
   {
    "duration": 296,
    "start_time": "2021-06-13T19:06:09.626Z"
   },
   {
    "duration": 4,
    "start_time": "2021-06-13T19:06:09.925Z"
   },
   {
    "duration": 12,
    "start_time": "2021-06-13T19:06:09.932Z"
   },
   {
    "duration": 23913,
    "start_time": "2021-06-13T19:06:09.947Z"
   },
   {
    "duration": 14,
    "start_time": "2021-06-13T19:06:33.863Z"
   },
   {
    "duration": 28,
    "start_time": "2021-06-13T19:06:33.879Z"
   },
   {
    "duration": 501,
    "start_time": "2021-06-13T19:06:33.909Z"
   },
   {
    "duration": 338,
    "start_time": "2021-06-13T19:06:34.075Z"
   },
   {
    "duration": 333,
    "start_time": "2021-06-13T19:06:34.081Z"
   },
   {
    "duration": 1518,
    "start_time": "2021-06-13T19:07:19.426Z"
   },
   {
    "duration": 768,
    "start_time": "2021-06-13T19:07:20.946Z"
   },
   {
    "duration": 21,
    "start_time": "2021-06-13T19:07:21.717Z"
   },
   {
    "duration": 301,
    "start_time": "2021-06-13T19:07:21.741Z"
   },
   {
    "duration": 15,
    "start_time": "2021-06-13T19:07:22.044Z"
   },
   {
    "duration": 3,
    "start_time": "2021-06-13T19:07:22.061Z"
   },
   {
    "duration": 2682,
    "start_time": "2021-06-13T19:07:22.066Z"
   },
   {
    "duration": 62,
    "start_time": "2021-06-13T19:07:24.751Z"
   },
   {
    "duration": 3,
    "start_time": "2021-06-13T19:07:24.816Z"
   },
   {
    "duration": 3497,
    "start_time": "2021-06-13T19:07:24.821Z"
   },
   {
    "duration": 253,
    "start_time": "2021-06-13T19:07:28.320Z"
   },
   {
    "duration": 4,
    "start_time": "2021-06-13T19:07:28.576Z"
   },
   {
    "duration": 9,
    "start_time": "2021-06-13T19:07:28.583Z"
   },
   {
    "duration": 23784,
    "start_time": "2021-06-13T19:07:28.595Z"
   },
   {
    "duration": 23,
    "start_time": "2021-06-13T19:07:52.381Z"
   },
   {
    "duration": 11,
    "start_time": "2021-06-13T19:07:52.406Z"
   },
   {
    "duration": 504,
    "start_time": "2021-06-13T19:07:52.420Z"
   },
   {
    "duration": 350,
    "start_time": "2021-06-13T19:07:52.577Z"
   },
   {
    "duration": 347,
    "start_time": "2021-06-13T19:07:52.582Z"
   },
   {
    "duration": 94,
    "start_time": "2021-06-13T19:10:39.117Z"
   },
   {
    "duration": 86,
    "start_time": "2021-06-13T19:10:44.537Z"
   },
   {
    "duration": 88,
    "start_time": "2021-06-13T19:10:55.355Z"
   },
   {
    "duration": 5,
    "start_time": "2021-06-13T19:12:16.869Z"
   },
   {
    "duration": 2056,
    "start_time": "2021-06-13T19:12:24.485Z"
   },
   {
    "duration": 1085,
    "start_time": "2021-06-13T19:12:26.545Z"
   },
   {
    "duration": 31,
    "start_time": "2021-06-13T19:12:27.634Z"
   },
   {
    "duration": 412,
    "start_time": "2021-06-13T19:12:27.669Z"
   },
   {
    "duration": 26,
    "start_time": "2021-06-13T19:12:28.084Z"
   },
   {
    "duration": 3,
    "start_time": "2021-06-13T19:12:28.113Z"
   },
   {
    "duration": 2676,
    "start_time": "2021-06-13T19:12:28.119Z"
   },
   {
    "duration": 45,
    "start_time": "2021-06-13T19:12:30.804Z"
   },
   {
    "duration": 3,
    "start_time": "2021-06-13T19:12:30.853Z"
   },
   {
    "duration": 3534,
    "start_time": "2021-06-13T19:12:30.859Z"
   },
   {
    "duration": 234,
    "start_time": "2021-06-13T19:12:34.400Z"
   },
   {
    "duration": 5,
    "start_time": "2021-06-13T19:12:34.636Z"
   },
   {
    "duration": 11,
    "start_time": "2021-06-13T19:12:34.643Z"
   },
   {
    "duration": 16701,
    "start_time": "2021-06-13T19:12:34.656Z"
   },
   {
    "duration": 16,
    "start_time": "2021-06-13T19:12:51.359Z"
   },
   {
    "duration": 30,
    "start_time": "2021-06-13T19:12:51.378Z"
   },
   {
    "duration": 474,
    "start_time": "2021-06-13T19:12:51.411Z"
   },
   {
    "duration": 355,
    "start_time": "2021-06-13T19:12:51.533Z"
   },
   {
    "duration": 353,
    "start_time": "2021-06-13T19:12:51.537Z"
   },
   {
    "duration": 1526,
    "start_time": "2021-06-13T19:14:44.103Z"
   },
   {
    "duration": 763,
    "start_time": "2021-06-13T19:14:45.632Z"
   },
   {
    "duration": 21,
    "start_time": "2021-06-13T19:14:46.398Z"
   },
   {
    "duration": 299,
    "start_time": "2021-06-13T19:14:46.422Z"
   },
   {
    "duration": 15,
    "start_time": "2021-06-13T19:14:46.724Z"
   },
   {
    "duration": 3,
    "start_time": "2021-06-13T19:14:46.742Z"
   },
   {
    "duration": 2754,
    "start_time": "2021-06-13T19:14:46.748Z"
   },
   {
    "duration": 40,
    "start_time": "2021-06-13T19:14:49.506Z"
   },
   {
    "duration": 4,
    "start_time": "2021-06-13T19:14:49.549Z"
   },
   {
    "duration": 3509,
    "start_time": "2021-06-13T19:14:49.555Z"
   },
   {
    "duration": 231,
    "start_time": "2021-06-13T19:14:53.066Z"
   },
   {
    "duration": 5,
    "start_time": "2021-06-13T19:14:53.301Z"
   },
   {
    "duration": 8,
    "start_time": "2021-06-13T19:14:53.310Z"
   },
   {
    "duration": 16566,
    "start_time": "2021-06-13T19:14:53.321Z"
   },
   {
    "duration": 19,
    "start_time": "2021-06-13T19:15:09.890Z"
   },
   {
    "duration": 11,
    "start_time": "2021-06-13T19:15:09.911Z"
   },
   {
    "duration": 525,
    "start_time": "2021-06-13T19:15:09.925Z"
   },
   {
    "duration": 349,
    "start_time": "2021-06-13T19:15:10.104Z"
   },
   {
    "duration": 344,
    "start_time": "2021-06-13T19:15:10.110Z"
   },
   {
    "duration": 1550,
    "start_time": "2021-06-13T19:16:17.866Z"
   },
   {
    "duration": 746,
    "start_time": "2021-06-13T19:16:19.419Z"
   },
   {
    "duration": 34,
    "start_time": "2021-06-13T19:16:20.168Z"
   },
   {
    "duration": 298,
    "start_time": "2021-06-13T19:16:20.204Z"
   },
   {
    "duration": 15,
    "start_time": "2021-06-13T19:16:20.505Z"
   },
   {
    "duration": 3,
    "start_time": "2021-06-13T19:16:20.522Z"
   },
   {
    "duration": 2727,
    "start_time": "2021-06-13T19:16:20.528Z"
   },
   {
    "duration": 60,
    "start_time": "2021-06-13T19:16:23.259Z"
   },
   {
    "duration": 3,
    "start_time": "2021-06-13T19:16:23.321Z"
   },
   {
    "duration": 3476,
    "start_time": "2021-06-13T19:16:23.327Z"
   },
   {
    "duration": 221,
    "start_time": "2021-06-13T19:16:26.806Z"
   },
   {
    "duration": 4,
    "start_time": "2021-06-13T19:16:27.030Z"
   },
   {
    "duration": 8,
    "start_time": "2021-06-13T19:16:27.037Z"
   },
   {
    "duration": 23615,
    "start_time": "2021-06-13T19:16:27.047Z"
   },
   {
    "duration": 15,
    "start_time": "2021-06-13T19:16:50.664Z"
   },
   {
    "duration": 10,
    "start_time": "2021-06-13T19:16:50.700Z"
   },
   {
    "duration": 560,
    "start_time": "2021-06-13T19:16:50.712Z"
   },
   {
    "duration": 364,
    "start_time": "2021-06-13T19:16:50.911Z"
   },
   {
    "duration": 357,
    "start_time": "2021-06-13T19:16:50.919Z"
   },
   {
    "duration": 1500,
    "start_time": "2021-06-13T19:17:39.436Z"
   },
   {
    "duration": 841,
    "start_time": "2021-06-13T19:17:40.938Z"
   },
   {
    "duration": 27,
    "start_time": "2021-06-13T19:17:41.781Z"
   },
   {
    "duration": 289,
    "start_time": "2021-06-13T19:17:41.811Z"
   },
   {
    "duration": 15,
    "start_time": "2021-06-13T19:17:42.102Z"
   },
   {
    "duration": 3,
    "start_time": "2021-06-13T19:17:42.120Z"
   },
   {
    "duration": 2686,
    "start_time": "2021-06-13T19:17:42.125Z"
   },
   {
    "duration": 43,
    "start_time": "2021-06-13T19:17:44.817Z"
   },
   {
    "duration": 4,
    "start_time": "2021-06-13T19:17:44.863Z"
   },
   {
    "duration": 3548,
    "start_time": "2021-06-13T19:17:44.870Z"
   },
   {
    "duration": 276,
    "start_time": "2021-06-13T19:17:48.421Z"
   },
   {
    "duration": 6,
    "start_time": "2021-06-13T19:17:48.700Z"
   },
   {
    "duration": 8,
    "start_time": "2021-06-13T19:17:48.709Z"
   },
   {
    "duration": 16357,
    "start_time": "2021-06-13T19:17:48.720Z"
   },
   {
    "duration": 23,
    "start_time": "2021-06-13T19:18:05.079Z"
   },
   {
    "duration": 11,
    "start_time": "2021-06-13T19:18:05.105Z"
   },
   {
    "duration": 255,
    "start_time": "2021-06-13T19:18:05.118Z"
   },
   {
    "duration": 481,
    "start_time": "2021-06-13T19:18:05.375Z"
   },
   {
    "duration": 314,
    "start_time": "2021-06-13T19:18:05.544Z"
   },
   {
    "duration": 22,
    "start_time": "2021-06-13T20:11:57.606Z"
   },
   {
    "duration": 1478,
    "start_time": "2021-06-13T20:12:39.396Z"
   },
   {
    "duration": 754,
    "start_time": "2021-06-13T20:12:40.877Z"
   },
   {
    "duration": 21,
    "start_time": "2021-06-13T20:12:41.637Z"
   },
   {
    "duration": 296,
    "start_time": "2021-06-13T20:12:41.660Z"
   },
   {
    "duration": 15,
    "start_time": "2021-06-13T20:12:41.958Z"
   },
   {
    "duration": 3,
    "start_time": "2021-06-13T20:12:41.975Z"
   },
   {
    "duration": 2703,
    "start_time": "2021-06-13T20:12:41.982Z"
   },
   {
    "duration": 57,
    "start_time": "2021-06-13T20:12:44.687Z"
   },
   {
    "duration": 3,
    "start_time": "2021-06-13T20:12:44.746Z"
   },
   {
    "duration": 21120,
    "start_time": "2021-06-13T20:12:44.752Z"
   },
   {
    "duration": 254,
    "start_time": "2021-06-13T20:13:05.875Z"
   },
   {
    "duration": 6,
    "start_time": "2021-06-13T20:13:06.132Z"
   },
   {
    "duration": 14,
    "start_time": "2021-06-13T20:13:06.141Z"
   },
   {
    "duration": 216144,
    "start_time": "2021-06-13T20:13:06.158Z"
   },
   {
    "duration": 16,
    "start_time": "2021-06-13T20:16:42.305Z"
   },
   {
    "duration": 34,
    "start_time": "2021-06-13T20:16:42.325Z"
   },
   {
    "duration": 3214,
    "start_time": "2021-06-13T20:16:42.361Z"
   },
   {
    "duration": 4025,
    "start_time": "2021-06-13T20:16:45.579Z"
   },
   {
    "duration": 4,
    "start_time": "2021-06-13T20:16:49.607Z"
   },
   {
    "duration": 4585,
    "start_time": "2021-06-13T20:22:42.725Z"
   },
   {
    "duration": 9,
    "start_time": "2021-06-13T20:25:06.380Z"
   },
   {
    "duration": 9,
    "start_time": "2021-06-13T20:25:11.668Z"
   },
   {
    "duration": 20001,
    "start_time": "2021-06-13T20:25:17.550Z"
   },
   {
    "duration": 20712,
    "start_time": "2021-06-13T20:28:04.519Z"
   },
   {
    "duration": 20725,
    "start_time": "2021-06-13T20:29:10.190Z"
   },
   {
    "duration": 20845,
    "start_time": "2021-06-13T20:29:52.732Z"
   },
   {
    "duration": 23249,
    "start_time": "2021-06-13T20:31:57.958Z"
   },
   {
    "duration": 23269,
    "start_time": "2021-06-13T20:32:58.624Z"
   },
   {
    "duration": 44056,
    "start_time": "2021-06-13T20:34:24.764Z"
   },
   {
    "duration": 4748,
    "start_time": "2021-06-13T20:35:09.956Z"
   },
   {
    "duration": 3,
    "start_time": "2021-06-13T20:38:20.947Z"
   },
   {
    "duration": 108,
    "start_time": "2021-06-13T20:40:26.100Z"
   },
   {
    "duration": 401,
    "start_time": "2021-06-13T20:40:39.448Z"
   },
   {
    "duration": 1492,
    "start_time": "2021-06-13T20:43:38.362Z"
   },
   {
    "duration": 767,
    "start_time": "2021-06-13T20:43:39.857Z"
   },
   {
    "duration": 21,
    "start_time": "2021-06-13T20:43:40.627Z"
   },
   {
    "duration": 296,
    "start_time": "2021-06-13T20:43:40.651Z"
   },
   {
    "duration": 16,
    "start_time": "2021-06-13T20:43:40.949Z"
   },
   {
    "duration": 2802,
    "start_time": "2021-06-13T20:43:40.967Z"
   },
   {
    "duration": 59,
    "start_time": "2021-06-13T20:43:43.772Z"
   },
   {
    "duration": 22257,
    "start_time": "2021-06-13T20:43:43.835Z"
   },
   {
    "duration": 264,
    "start_time": "2021-06-13T20:44:06.095Z"
   },
   {
    "duration": 5,
    "start_time": "2021-06-13T20:44:06.361Z"
   },
   {
    "duration": 11,
    "start_time": "2021-06-13T20:44:06.369Z"
   },
   {
    "duration": 228972,
    "start_time": "2021-06-13T20:44:06.383Z"
   },
   {
    "duration": 15,
    "start_time": "2021-06-13T20:47:55.358Z"
   },
   {
    "duration": 51,
    "start_time": "2021-06-13T20:47:55.375Z"
   },
   {
    "duration": 3433,
    "start_time": "2021-06-13T20:47:55.429Z"
   },
   {
    "duration": 5162,
    "start_time": "2021-06-13T20:47:58.864Z"
   },
   {
    "duration": 46034,
    "start_time": "2021-06-13T20:48:04.102Z"
   },
   {
    "duration": 24030,
    "start_time": "2021-06-13T20:48:50.139Z"
   },
   {
    "duration": 423,
    "start_time": "2021-06-13T20:49:14.172Z"
   },
   {
    "duration": 133187,
    "start_time": "2021-06-13T20:49:30.318Z"
   },
   {
    "duration": 57407,
    "start_time": "2021-06-13T20:52:42.108Z"
   },
   {
    "duration": 45960,
    "start_time": "2021-06-13T20:54:34.474Z"
   },
   {
    "duration": 27239,
    "start_time": "2021-06-13T20:55:26.804Z"
   },
   {
    "duration": 216,
    "start_time": "2021-06-13T20:56:57.259Z"
   },
   {
    "duration": 1537,
    "start_time": "2021-06-13T21:01:16.797Z"
   },
   {
    "duration": 753,
    "start_time": "2021-06-13T21:01:18.337Z"
   },
   {
    "duration": 28,
    "start_time": "2021-06-13T21:01:19.093Z"
   },
   {
    "duration": 296,
    "start_time": "2021-06-13T21:01:19.125Z"
   },
   {
    "duration": 16,
    "start_time": "2021-06-13T21:01:19.423Z"
   },
   {
    "duration": 2788,
    "start_time": "2021-06-13T21:01:19.441Z"
   },
   {
    "duration": 47,
    "start_time": "2021-06-13T21:01:22.232Z"
   },
   {
    "duration": 22090,
    "start_time": "2021-06-13T21:01:22.283Z"
   },
   {
    "duration": 239,
    "start_time": "2021-06-13T21:01:44.376Z"
   },
   {
    "duration": 4,
    "start_time": "2021-06-13T21:01:44.618Z"
   },
   {
    "duration": 8,
    "start_time": "2021-06-13T21:01:44.625Z"
   },
   {
    "duration": 226077,
    "start_time": "2021-06-13T21:01:44.636Z"
   },
   {
    "duration": 16,
    "start_time": "2021-06-13T21:05:30.715Z"
   },
   {
    "duration": 37,
    "start_time": "2021-06-13T21:05:30.734Z"
   },
   {
    "duration": 3469,
    "start_time": "2021-06-13T21:05:30.774Z"
   },
   {
    "duration": 4669,
    "start_time": "2021-06-13T21:05:34.246Z"
   },
   {
    "duration": 46312,
    "start_time": "2021-06-13T21:05:38.918Z"
   },
   {
    "duration": 27857,
    "start_time": "2021-06-13T21:06:25.233Z"
   },
   {
    "duration": 632641,
    "start_time": "2021-06-13T21:06:53.092Z"
   },
   {
    "duration": 6,
    "start_time": "2021-06-13T21:18:05.923Z"
   },
   {
    "duration": 411,
    "start_time": "2021-06-13T21:18:52.929Z"
   },
   {
    "duration": 524,
    "start_time": "2021-06-13T21:18:59.654Z"
   },
   {
    "duration": 1692,
    "start_time": "2021-06-14T09:23:12.978Z"
   },
   {
    "duration": 780,
    "start_time": "2021-06-14T09:23:14.673Z"
   },
   {
    "duration": 25,
    "start_time": "2021-06-14T09:23:15.457Z"
   },
   {
    "duration": 325,
    "start_time": "2021-06-14T09:23:15.486Z"
   },
   {
    "duration": 16,
    "start_time": "2021-06-14T09:23:15.813Z"
   },
   {
    "duration": 2898,
    "start_time": "2021-06-14T09:23:15.832Z"
   },
   {
    "duration": 49,
    "start_time": "2021-06-14T09:23:18.732Z"
   },
   {
    "duration": 22946,
    "start_time": "2021-06-14T09:23:18.786Z"
   },
   {
    "duration": 117,
    "start_time": "2021-06-14T09:23:41.736Z"
   },
   {
    "duration": 4,
    "start_time": "2021-06-14T09:23:41.856Z"
   },
   {
    "duration": 19,
    "start_time": "2021-06-14T09:23:41.863Z"
   },
   {
    "duration": 231025,
    "start_time": "2021-06-14T09:23:41.884Z"
   },
   {
    "duration": 16,
    "start_time": "2021-06-14T09:27:32.911Z"
   },
   {
    "duration": 43,
    "start_time": "2021-06-14T09:27:32.930Z"
   },
   {
    "duration": 3425,
    "start_time": "2021-06-14T09:27:32.976Z"
   },
   {
    "duration": 5114,
    "start_time": "2021-06-14T09:27:36.407Z"
   },
   {
    "duration": 4585,
    "start_time": "2021-06-14T09:27:41.524Z"
   },
   {
    "duration": -252692,
    "start_time": "2021-06-14T09:31:58.803Z"
   },
   {
    "duration": -252694,
    "start_time": "2021-06-14T09:31:58.807Z"
   },
   {
    "duration": -252696,
    "start_time": "2021-06-14T09:31:58.810Z"
   },
   {
    "duration": 4538,
    "start_time": "2021-06-14T09:57:50.665Z"
   },
   {
    "duration": 4345,
    "start_time": "2021-06-14T09:59:07.260Z"
   },
   {
    "duration": 377,
    "start_time": "2021-06-14T10:01:32.799Z"
   },
   {
    "duration": 11,
    "start_time": "2021-06-14T10:01:48.345Z"
   },
   {
    "duration": 4606,
    "start_time": "2021-06-14T10:01:56.510Z"
   },
   {
    "duration": 4951,
    "start_time": "2021-06-14T10:02:19.157Z"
   },
   {
    "duration": 4900,
    "start_time": "2021-06-14T10:02:27.819Z"
   },
   {
    "duration": 4370,
    "start_time": "2021-06-14T10:02:41.151Z"
   },
   {
    "duration": 4677,
    "start_time": "2021-06-14T10:03:22.319Z"
   },
   {
    "duration": 4170,
    "start_time": "2021-06-14T10:03:33.248Z"
   },
   {
    "duration": 4447,
    "start_time": "2021-06-14T10:03:39.768Z"
   },
   {
    "duration": 3961,
    "start_time": "2021-06-14T10:03:56.550Z"
   },
   {
    "duration": 4652,
    "start_time": "2021-06-14T10:04:11.367Z"
   },
   {
    "duration": 4377,
    "start_time": "2021-06-14T10:04:25.342Z"
   },
   {
    "duration": 4423,
    "start_time": "2021-06-14T10:04:36.797Z"
   },
   {
    "duration": 4543,
    "start_time": "2021-06-14T10:06:02.273Z"
   },
   {
    "duration": 4740,
    "start_time": "2021-06-14T10:06:12.570Z"
   },
   {
    "duration": 4647,
    "start_time": "2021-06-14T10:06:22.068Z"
   },
   {
    "duration": 5350,
    "start_time": "2021-06-14T10:06:30.272Z"
   },
   {
    "duration": 4907,
    "start_time": "2021-06-14T10:06:39.707Z"
   },
   {
    "duration": 5152,
    "start_time": "2021-06-14T10:06:48.968Z"
   },
   {
    "duration": 4739,
    "start_time": "2021-06-14T10:06:58.484Z"
   },
   {
    "duration": 4995,
    "start_time": "2021-06-14T10:07:27.821Z"
   },
   {
    "duration": 48425,
    "start_time": "2021-06-14T10:10:43.104Z"
   },
   {
    "duration": 13,
    "start_time": "2021-06-14T10:12:32.863Z"
   },
   {
    "duration": 1635,
    "start_time": "2021-06-14T12:21:27.397Z"
   },
   {
    "duration": 753,
    "start_time": "2021-06-14T12:21:29.035Z"
   },
   {
    "duration": 29,
    "start_time": "2021-06-14T12:21:29.792Z"
   },
   {
    "duration": 307,
    "start_time": "2021-06-14T12:21:29.825Z"
   },
   {
    "duration": 15,
    "start_time": "2021-06-14T12:21:30.135Z"
   },
   {
    "duration": 2836,
    "start_time": "2021-06-14T12:21:30.152Z"
   },
   {
    "duration": 61,
    "start_time": "2021-06-14T12:21:32.990Z"
   },
   {
    "duration": 22764,
    "start_time": "2021-06-14T12:21:33.054Z"
   },
   {
    "duration": 162,
    "start_time": "2021-06-14T12:21:55.821Z"
   },
   {
    "duration": 5,
    "start_time": "2021-06-14T12:21:55.986Z"
   },
   {
    "duration": 8,
    "start_time": "2021-06-14T12:21:55.995Z"
   },
   {
    "duration": 230285,
    "start_time": "2021-06-14T12:21:56.005Z"
   },
   {
    "duration": 23,
    "start_time": "2021-06-14T12:25:46.293Z"
   },
   {
    "duration": 34,
    "start_time": "2021-06-14T12:25:46.318Z"
   },
   {
    "duration": 3339,
    "start_time": "2021-06-14T12:25:46.354Z"
   },
   {
    "duration": 4721,
    "start_time": "2021-06-14T12:25:49.695Z"
   },
   {
    "duration": 5222,
    "start_time": "2021-06-14T12:25:54.419Z"
   },
   {
    "duration": 5375,
    "start_time": "2021-06-14T12:25:59.643Z"
   },
   {
    "duration": 5,
    "start_time": "2021-06-14T12:26:05.021Z"
   },
   {
    "duration": 189,
    "start_time": "2021-06-14T12:26:05.029Z"
   },
   {
    "duration": 128,
    "start_time": "2021-06-14T12:26:05.093Z"
   },
   {
    "duration": 116,
    "start_time": "2021-06-14T12:26:05.106Z"
   },
   {
    "duration": 497,
    "start_time": "2021-06-14T12:38:50.894Z"
   },
   {
    "duration": 3,
    "start_time": "2021-06-14T12:39:03.014Z"
   },
   {
    "duration": 124394,
    "start_time": "2021-06-14T12:41:23.354Z"
   },
   {
    "duration": 32907,
    "start_time": "2021-06-14T12:43:46.357Z"
   },
   {
    "duration": 125626,
    "start_time": "2021-06-14T12:44:51.196Z"
   },
   {
    "duration": 9796,
    "start_time": "2021-06-14T12:50:53.205Z"
   },
   {
    "duration": 10202,
    "start_time": "2021-06-14T12:51:34.348Z"
   },
   {
    "duration": 271,
    "start_time": "2021-06-14T12:52:00.626Z"
   },
   {
    "duration": 297,
    "start_time": "2021-06-14T12:52:36.562Z"
   },
   {
    "duration": 289,
    "start_time": "2021-06-14T13:25:34.939Z"
   },
   {
    "duration": 335,
    "start_time": "2021-06-14T13:26:47.224Z"
   },
   {
    "duration": 242,
    "start_time": "2021-06-14T13:28:19.976Z"
   },
   {
    "duration": 1648,
    "start_time": "2021-06-14T13:28:34.050Z"
   },
   {
    "duration": 788,
    "start_time": "2021-06-14T13:28:35.701Z"
   },
   {
    "duration": 28,
    "start_time": "2021-06-14T13:28:36.492Z"
   },
   {
    "duration": 315,
    "start_time": "2021-06-14T13:28:36.522Z"
   },
   {
    "duration": 15,
    "start_time": "2021-06-14T13:28:36.839Z"
   },
   {
    "duration": 2914,
    "start_time": "2021-06-14T13:28:36.856Z"
   },
   {
    "duration": 63,
    "start_time": "2021-06-14T13:28:39.772Z"
   },
   {
    "duration": 23185,
    "start_time": "2021-06-14T13:28:39.840Z"
   },
   {
    "duration": 130,
    "start_time": "2021-06-14T13:29:03.029Z"
   },
   {
    "duration": 5,
    "start_time": "2021-06-14T13:29:03.161Z"
   },
   {
    "duration": 9,
    "start_time": "2021-06-14T13:29:03.168Z"
   },
   {
    "duration": 227028,
    "start_time": "2021-06-14T13:29:03.180Z"
   },
   {
    "duration": 16,
    "start_time": "2021-06-14T13:32:50.211Z"
   },
   {
    "duration": 40,
    "start_time": "2021-06-14T13:32:50.230Z"
   },
   {
    "duration": 3622,
    "start_time": "2021-06-14T13:32:50.273Z"
   },
   {
    "duration": 4821,
    "start_time": "2021-06-14T13:32:53.897Z"
   },
   {
    "duration": 5081,
    "start_time": "2021-06-14T13:32:58.721Z"
   },
   {
    "duration": 5015,
    "start_time": "2021-06-14T13:33:03.805Z"
   },
   {
    "duration": 3,
    "start_time": "2021-06-14T13:33:08.823Z"
   },
   {
    "duration": 7,
    "start_time": "2021-06-14T13:33:08.828Z"
   },
   {
    "duration": 127579,
    "start_time": "2021-06-14T13:33:08.837Z"
   },
   {
    "duration": 4,
    "start_time": "2021-06-14T13:35:16.419Z"
   },
   {
    "duration": 9637,
    "start_time": "2021-06-14T13:35:16.428Z"
   },
   {
    "duration": 367944,
    "start_time": "2021-06-14T13:35:26.067Z"
   },
   {
    "duration": 352,
    "start_time": "2021-06-14T13:41:34.013Z"
   },
   {
    "duration": 313,
    "start_time": "2021-06-14T13:41:55.627Z"
   },
   {
    "duration": 324388,
    "start_time": "2021-06-14T13:47:41.726Z"
   },
   {
    "duration": 398,
    "start_time": "2021-06-14T13:59:33.337Z"
   },
   {
    "duration": 26412,
    "start_time": "2021-06-14T13:59:39.098Z"
   },
   {
    "duration": 8100,
    "start_time": "2021-06-14T14:01:33.609Z"
   },
   {
    "duration": 27072,
    "start_time": "2021-06-14T14:01:47.255Z"
   },
   {
    "duration": 189,
    "start_time": "2021-06-14T14:02:22.393Z"
   },
   {
    "duration": 18574,
    "start_time": "2021-06-14T14:02:36.045Z"
   },
   {
    "duration": 17537,
    "start_time": "2021-06-14T14:03:01.684Z"
   },
   {
    "duration": 16914,
    "start_time": "2021-06-14T14:03:27.008Z"
   },
   {
    "duration": 366,
    "start_time": "2021-06-14T14:06:48.790Z"
   },
   {
    "duration": 429,
    "start_time": "2021-06-14T14:09:40.070Z"
   },
   {
    "duration": 3,
    "start_time": "2021-06-14T14:10:01.947Z"
   },
   {
    "duration": 369,
    "start_time": "2021-06-14T14:10:52.325Z"
   },
   {
    "duration": 415,
    "start_time": "2021-06-14T14:11:16.480Z"
   },
   {
    "duration": 356,
    "start_time": "2021-06-14T14:11:55.603Z"
   },
   {
    "duration": 359,
    "start_time": "2021-06-14T14:12:11.393Z"
   },
   {
    "duration": 1752,
    "start_time": "2021-06-14T14:17:29.146Z"
   },
   {
    "duration": 797,
    "start_time": "2021-06-14T14:17:30.901Z"
   },
   {
    "duration": 28,
    "start_time": "2021-06-14T14:17:31.701Z"
   },
   {
    "duration": 312,
    "start_time": "2021-06-14T14:17:31.732Z"
   },
   {
    "duration": 15,
    "start_time": "2021-06-14T14:17:32.046Z"
   },
   {
    "duration": 2847,
    "start_time": "2021-06-14T14:17:32.064Z"
   },
   {
    "duration": 60,
    "start_time": "2021-06-14T14:17:34.914Z"
   },
   {
    "duration": 44166,
    "start_time": "2021-06-14T14:17:34.978Z"
   },
   {
    "duration": 114,
    "start_time": "2021-06-14T14:18:19.148Z"
   },
   {
    "duration": 5,
    "start_time": "2021-06-14T14:18:19.264Z"
   },
   {
    "duration": 9,
    "start_time": "2021-06-14T14:18:19.271Z"
   },
   {
    "duration": 455140,
    "start_time": "2021-06-14T14:18:19.282Z"
   },
   {
    "duration": 16,
    "start_time": "2021-06-14T14:25:54.424Z"
   },
   {
    "duration": 90,
    "start_time": "2021-06-14T14:25:54.442Z"
   },
   {
    "duration": 6709,
    "start_time": "2021-06-14T14:25:54.535Z"
   },
   {
    "duration": 10389,
    "start_time": "2021-06-14T14:26:01.246Z"
   },
   {
    "duration": 748890,
    "start_time": "2021-06-14T14:26:11.638Z"
   },
   {
    "duration": 34600,
    "start_time": "2021-06-14T14:38:40.530Z"
   },
   {
    "duration": 10456,
    "start_time": "2021-06-14T14:39:15.133Z"
   },
   {
    "duration": 10733,
    "start_time": "2021-06-14T14:39:25.592Z"
   },
   {
    "duration": 3,
    "start_time": "2021-06-14T14:39:36.328Z"
   },
   {
    "duration": 7,
    "start_time": "2021-06-14T14:39:36.333Z"
   },
   {
    "duration": 320917,
    "start_time": "2021-06-14T14:39:36.345Z"
   },
   {
    "duration": 3,
    "start_time": "2021-06-14T14:44:57.264Z"
   },
   {
    "duration": 11,
    "start_time": "2021-06-14T14:44:57.270Z"
   },
   {
    "duration": 20089,
    "start_time": "2021-06-14T14:44:57.284Z"
   },
   {
    "duration": 224870,
    "start_time": "2021-06-14T14:45:17.376Z"
   },
   {
    "duration": 286842,
    "start_time": "2021-06-14T14:51:27.314Z"
   },
   {
    "duration": 117553,
    "start_time": "2021-06-14T14:58:15.637Z"
   },
   {
    "duration": 45972,
    "start_time": "2021-06-14T15:03:20.154Z"
   },
   {
    "duration": 1661,
    "start_time": "2021-06-14T15:06:10.386Z"
   },
   {
    "duration": 800,
    "start_time": "2021-06-14T15:06:12.050Z"
   },
   {
    "duration": 23,
    "start_time": "2021-06-14T15:06:12.853Z"
   },
   {
    "duration": 311,
    "start_time": "2021-06-14T15:06:12.879Z"
   },
   {
    "duration": 20,
    "start_time": "2021-06-14T15:06:13.192Z"
   },
   {
    "duration": 2782,
    "start_time": "2021-06-14T15:06:13.215Z"
   },
   {
    "duration": 67,
    "start_time": "2021-06-14T15:06:15.999Z"
   },
   {
    "duration": 45053,
    "start_time": "2021-06-14T15:06:16.069Z"
   },
   {
    "duration": 144,
    "start_time": "2021-06-14T15:07:01.125Z"
   },
   {
    "duration": 6,
    "start_time": "2021-06-14T15:07:01.272Z"
   },
   {
    "duration": 24,
    "start_time": "2021-06-14T15:07:01.281Z"
   },
   {
    "duration": 457819,
    "start_time": "2021-06-14T15:07:01.308Z"
   },
   {
    "duration": 16,
    "start_time": "2021-06-14T15:14:39.129Z"
   },
   {
    "duration": 96,
    "start_time": "2021-06-14T15:14:39.148Z"
   },
   {
    "duration": 36764,
    "start_time": "2021-06-14T15:14:39.248Z"
   },
   {
    "duration": 11175,
    "start_time": "2021-06-14T15:15:16.014Z"
   },
   {
    "duration": 743070,
    "start_time": "2021-06-14T15:15:27.192Z"
   },
   {
    "duration": 4713,
    "start_time": "2021-06-14T15:27:50.265Z"
   },
   {
    "duration": 11339,
    "start_time": "2021-06-14T15:27:54.980Z"
   },
   {
    "duration": 10742,
    "start_time": "2021-06-14T15:28:06.322Z"
   },
   {
    "duration": 3,
    "start_time": "2021-06-14T15:28:17.066Z"
   },
   {
    "duration": 6,
    "start_time": "2021-06-14T15:28:17.071Z"
   },
   {
    "duration": 1714,
    "start_time": "2021-06-14T15:57:50.026Z"
   },
   {
    "duration": 793,
    "start_time": "2021-06-14T15:57:51.742Z"
   },
   {
    "duration": 23,
    "start_time": "2021-06-14T15:57:52.538Z"
   },
   {
    "duration": 326,
    "start_time": "2021-06-14T15:57:52.564Z"
   },
   {
    "duration": 24,
    "start_time": "2021-06-14T15:57:52.893Z"
   },
   {
    "duration": 2807,
    "start_time": "2021-06-14T15:57:52.920Z"
   },
   {
    "duration": 64,
    "start_time": "2021-06-14T15:57:55.729Z"
   },
   {
    "duration": 467860,
    "start_time": "2021-06-14T15:58:40.338Z"
   },
   {
    "duration": 21,
    "start_time": "2021-06-14T16:06:28.201Z"
   },
   {
    "duration": 85,
    "start_time": "2021-06-14T16:06:28.224Z"
   },
   {
    "duration": 7041,
    "start_time": "2021-06-14T16:06:28.311Z"
   },
   {
    "duration": 10679,
    "start_time": "2021-06-14T16:06:35.354Z"
   },
   {
    "duration": 2294,
    "start_time": "2021-06-14T17:03:47.649Z"
   },
   {
    "duration": 1162,
    "start_time": "2021-06-14T17:03:49.946Z"
   },
   {
    "duration": 33,
    "start_time": "2021-06-14T17:03:51.112Z"
   },
   {
    "duration": 322,
    "start_time": "2021-06-14T17:03:51.148Z"
   },
   {
    "duration": 16,
    "start_time": "2021-06-14T17:03:51.472Z"
   },
   {
    "duration": 2786,
    "start_time": "2021-06-14T17:03:51.491Z"
   },
   {
    "duration": 72,
    "start_time": "2021-06-14T17:03:54.279Z"
   },
   {
    "duration": 43884,
    "start_time": "2021-06-14T17:03:54.354Z"
   },
   {
    "duration": 112,
    "start_time": "2021-06-14T17:04:38.241Z"
   },
   {
    "duration": 5,
    "start_time": "2021-06-14T17:04:38.355Z"
   },
   {
    "duration": 17,
    "start_time": "2021-06-14T17:04:38.362Z"
   },
   {
    "duration": 1634,
    "start_time": "2021-06-14T17:05:42.902Z"
   },
   {
    "duration": 793,
    "start_time": "2021-06-14T17:05:44.538Z"
   },
   {
    "duration": 25,
    "start_time": "2021-06-14T17:05:45.335Z"
   },
   {
    "duration": 327,
    "start_time": "2021-06-14T17:05:45.364Z"
   },
   {
    "duration": 28,
    "start_time": "2021-06-14T17:05:45.694Z"
   },
   {
    "duration": 2851,
    "start_time": "2021-06-14T17:05:45.725Z"
   },
   {
    "duration": 66,
    "start_time": "2021-06-14T17:05:48.579Z"
   },
   {
    "duration": 31640,
    "start_time": "2021-06-14T17:05:48.650Z"
   },
   {
    "duration": 117,
    "start_time": "2021-06-14T17:06:20.293Z"
   },
   {
    "duration": 4,
    "start_time": "2021-06-14T17:06:20.412Z"
   },
   {
    "duration": 16,
    "start_time": "2021-06-14T17:06:20.419Z"
   },
   {
    "duration": 324738,
    "start_time": "2021-06-14T17:06:20.439Z"
   },
   {
    "duration": 15,
    "start_time": "2021-06-14T17:11:45.179Z"
   },
   {
    "duration": 89,
    "start_time": "2021-06-14T17:11:45.197Z"
   },
   {
    "duration": 7390,
    "start_time": "2021-06-14T17:11:45.289Z"
   },
   {
    "duration": 9952,
    "start_time": "2021-06-14T17:11:52.682Z"
   },
   {
    "duration": 1510594,
    "start_time": "2021-06-14T17:12:02.636Z"
   },
   {
    "duration": 33401,
    "start_time": "2021-06-14T17:37:13.233Z"
   },
   {
    "duration": 10240,
    "start_time": "2021-06-14T17:37:46.636Z"
   },
   {
    "duration": 8660,
    "start_time": "2021-06-14T17:37:56.878Z"
   },
   {
    "duration": 3,
    "start_time": "2021-06-14T17:38:05.541Z"
   },
   {
    "duration": 9,
    "start_time": "2021-06-14T17:38:05.546Z"
   },
   {
    "duration": 174754,
    "start_time": "2021-06-14T17:38:05.559Z"
   },
   {
    "duration": 3,
    "start_time": "2021-06-14T17:41:00.316Z"
   },
   {
    "duration": 23,
    "start_time": "2021-06-14T17:41:00.322Z"
   },
   {
    "duration": 4071096,
    "start_time": "2021-06-14T17:41:00.347Z"
   },
   {
    "duration": 280,
    "start_time": "2021-06-14T18:48:51.446Z"
   },
   {
    "duration": 109,
    "start_time": "2021-06-14T18:49:32.717Z"
   },
   {
    "duration": 170846,
    "start_time": "2021-06-14T18:49:40.364Z"
   },
   {
    "duration": 241,
    "start_time": "2021-06-14T18:53:22.958Z"
   },
   {
    "duration": 308,
    "start_time": "2021-06-14T18:53:41.787Z"
   },
   {
    "duration": 341,
    "start_time": "2021-06-14T18:54:33.925Z"
   },
   {
    "duration": 230,
    "start_time": "2021-06-14T18:56:37.529Z"
   },
   {
    "duration": 229,
    "start_time": "2021-06-14T18:57:39.183Z"
   },
   {
    "duration": 279,
    "start_time": "2021-06-14T18:57:43.677Z"
   },
   {
    "duration": 5861,
    "start_time": "2021-06-14T18:58:25.075Z"
   },
   {
    "duration": 1651,
    "start_time": "2021-06-14T19:06:48.970Z"
   },
   {
    "duration": 758,
    "start_time": "2021-06-14T19:06:50.623Z"
   },
   {
    "duration": 33,
    "start_time": "2021-06-14T19:06:51.384Z"
   },
   {
    "duration": 305,
    "start_time": "2021-06-14T19:06:51.420Z"
   },
   {
    "duration": 15,
    "start_time": "2021-06-14T19:06:51.728Z"
   },
   {
    "duration": 2892,
    "start_time": "2021-06-14T19:06:51.745Z"
   },
   {
    "duration": 69,
    "start_time": "2021-06-14T19:06:54.639Z"
   },
   {
    "duration": 31397,
    "start_time": "2021-06-14T19:06:54.711Z"
   },
   {
    "duration": 141,
    "start_time": "2021-06-14T19:07:26.112Z"
   },
   {
    "duration": 5,
    "start_time": "2021-06-14T19:07:26.256Z"
   },
   {
    "duration": 9,
    "start_time": "2021-06-14T19:07:26.264Z"
   },
   {
    "duration": 331877,
    "start_time": "2021-06-14T19:07:26.275Z"
   },
   {
    "duration": 15,
    "start_time": "2021-06-14T19:12:58.154Z"
   },
   {
    "duration": 77,
    "start_time": "2021-06-14T19:12:58.171Z"
   },
   {
    "duration": 4698,
    "start_time": "2021-06-14T19:12:58.250Z"
   },
   {
    "duration": 1596,
    "start_time": "2021-06-14T19:13:11.752Z"
   },
   {
    "duration": 794,
    "start_time": "2021-06-14T19:13:13.351Z"
   },
   {
    "duration": 24,
    "start_time": "2021-06-14T19:13:14.148Z"
   },
   {
    "duration": 322,
    "start_time": "2021-06-14T19:13:14.175Z"
   },
   {
    "duration": 24,
    "start_time": "2021-06-14T19:13:14.500Z"
   },
   {
    "duration": 4775,
    "start_time": "2021-06-14T19:13:14.527Z"
   },
   {
    "duration": 57,
    "start_time": "2021-06-14T19:13:19.308Z"
   },
   {
    "duration": 6867,
    "start_time": "2021-06-14T19:13:19.368Z"
   },
   {
    "duration": 122,
    "start_time": "2021-06-14T19:13:26.239Z"
   },
   {
    "duration": 6,
    "start_time": "2021-06-14T19:13:26.366Z"
   },
   {
    "duration": 13,
    "start_time": "2021-06-14T19:13:26.375Z"
   },
   {
    "duration": 2151,
    "start_time": "2021-06-14T19:13:36.859Z"
   },
   {
    "duration": 1190,
    "start_time": "2021-06-14T19:13:39.014Z"
   },
   {
    "duration": 32,
    "start_time": "2021-06-14T19:13:40.210Z"
   },
   {
    "duration": 442,
    "start_time": "2021-06-14T19:13:40.245Z"
   },
   {
    "duration": 24,
    "start_time": "2021-06-14T19:13:40.690Z"
   },
   {
    "duration": 4751,
    "start_time": "2021-06-14T19:13:40.718Z"
   },
   {
    "duration": 76,
    "start_time": "2021-06-14T19:13:45.472Z"
   },
   {
    "duration": 43325,
    "start_time": "2021-06-14T19:13:45.553Z"
   },
   {
    "duration": 142,
    "start_time": "2021-06-14T19:14:28.882Z"
   },
   {
    "duration": 6,
    "start_time": "2021-06-14T19:14:29.026Z"
   },
   {
    "duration": 7,
    "start_time": "2021-06-14T19:14:29.035Z"
   },
   {
    "duration": 431399,
    "start_time": "2021-06-14T19:14:29.044Z"
   },
   {
    "duration": 15,
    "start_time": "2021-06-14T19:21:40.445Z"
   },
   {
    "duration": 66,
    "start_time": "2021-06-14T19:21:40.463Z"
   },
   {
    "duration": 3936,
    "start_time": "2021-06-14T19:21:40.532Z"
   },
   {
    "duration": 8347,
    "start_time": "2021-06-14T19:21:44.470Z"
   },
   {
    "duration": 1248405,
    "start_time": "2021-06-14T19:21:52.819Z"
   },
   {
    "duration": 28792,
    "start_time": "2021-06-14T19:42:41.227Z"
   },
   {
    "duration": 246,
    "start_time": "2021-06-14T19:43:10.022Z"
   },
   {
    "duration": 9,
    "start_time": "2021-06-14T19:43:10.271Z"
   },
   {
    "duration": 25,
    "start_time": "2021-06-14T19:43:10.283Z"
   },
   {
    "duration": 5,
    "start_time": "2021-06-14T19:43:10.311Z"
   },
   {
    "duration": 177881,
    "start_time": "2021-06-14T19:43:10.321Z"
   },
   {
    "duration": 2,
    "start_time": "2021-06-14T19:46:08.210Z"
   },
   {
    "duration": 183790,
    "start_time": "2021-06-14T19:46:08.215Z"
   },
   {
    "duration": 2274,
    "start_time": "2021-06-14T19:49:12.009Z"
   },
   {
    "duration": 3,
    "start_time": "2021-06-14T19:49:14.285Z"
   },
   {
    "duration": 20269,
    "start_time": "2021-06-14T19:49:14.291Z"
   },
   {
    "duration": 293949,
    "start_time": "2021-06-14T19:49:34.562Z"
   },
   {
    "duration": 12,
    "start_time": "2021-06-14T19:58:28.436Z"
   },
   {
    "duration": 11,
    "start_time": "2021-06-14T19:58:51.155Z"
   },
   {
    "duration": 11,
    "start_time": "2021-06-14T19:58:54.775Z"
   },
   {
    "duration": 12,
    "start_time": "2021-06-14T19:58:59.545Z"
   },
   {
    "duration": 11,
    "start_time": "2021-06-14T19:59:02.014Z"
   },
   {
    "duration": 10,
    "start_time": "2021-06-14T19:59:05.856Z"
   },
   {
    "duration": 11,
    "start_time": "2021-06-14T19:59:09.186Z"
   },
   {
    "duration": 10,
    "start_time": "2021-06-14T19:59:13.707Z"
   },
   {
    "duration": 15,
    "start_time": "2021-06-14T19:59:17.264Z"
   },
   {
    "duration": 10,
    "start_time": "2021-06-14T19:59:20.767Z"
   },
   {
    "duration": 11,
    "start_time": "2021-06-14T19:59:24.066Z"
   },
   {
    "duration": 11,
    "start_time": "2021-06-14T19:59:27.284Z"
   },
   {
    "duration": 10,
    "start_time": "2021-06-14T19:59:29.517Z"
   },
   {
    "duration": 11,
    "start_time": "2021-06-14T19:59:32.696Z"
   },
   {
    "duration": 10,
    "start_time": "2021-06-14T19:59:36.506Z"
   },
   {
    "duration": 10,
    "start_time": "2021-06-14T19:59:43.225Z"
   },
   {
    "duration": 11,
    "start_time": "2021-06-14T19:59:46.995Z"
   },
   {
    "duration": 10,
    "start_time": "2021-06-14T19:59:49.305Z"
   },
   {
    "duration": 11,
    "start_time": "2021-06-14T19:59:57.743Z"
   },
   {
    "duration": 12,
    "start_time": "2021-06-14T20:00:00.936Z"
   },
   {
    "duration": 11,
    "start_time": "2021-06-14T20:00:06.556Z"
   },
   {
    "duration": 10,
    "start_time": "2021-06-14T20:00:08.858Z"
   },
   {
    "duration": 10,
    "start_time": "2021-06-14T20:00:11.506Z"
   },
   {
    "duration": 11,
    "start_time": "2021-06-14T20:00:15.245Z"
   },
   {
    "duration": 11,
    "start_time": "2021-06-14T20:00:17.026Z"
   },
   {
    "duration": 11,
    "start_time": "2021-06-14T20:00:20.606Z"
   },
   {
    "duration": 10,
    "start_time": "2021-06-14T20:00:22.845Z"
   },
   {
    "duration": 12,
    "start_time": "2021-06-14T20:00:26.904Z"
   },
   {
    "duration": 10,
    "start_time": "2021-06-14T20:00:29.539Z"
   },
   {
    "duration": 10,
    "start_time": "2021-06-14T20:00:31.869Z"
   },
   {
    "duration": 9,
    "start_time": "2021-06-14T20:00:34.336Z"
   },
   {
    "duration": 11,
    "start_time": "2021-06-14T20:00:36.466Z"
   },
   {
    "duration": 11,
    "start_time": "2021-06-14T20:00:38.614Z"
   },
   {
    "duration": 11,
    "start_time": "2021-06-14T20:00:41.416Z"
   },
   {
    "duration": 10,
    "start_time": "2021-06-14T20:00:43.387Z"
   },
   {
    "duration": 11,
    "start_time": "2021-06-14T20:00:45.915Z"
   },
   {
    "duration": 10,
    "start_time": "2021-06-14T20:00:50.086Z"
   },
   {
    "duration": 11,
    "start_time": "2021-06-14T20:00:51.734Z"
   },
   {
    "duration": 10,
    "start_time": "2021-06-14T20:00:53.765Z"
   },
   {
    "duration": 10,
    "start_time": "2021-06-14T20:00:57.464Z"
   },
   {
    "duration": 11,
    "start_time": "2021-06-14T20:01:00.868Z"
   },
   {
    "duration": 11,
    "start_time": "2021-06-14T20:01:04.143Z"
   },
   {
    "duration": 10,
    "start_time": "2021-06-14T20:01:13.007Z"
   },
   {
    "duration": 11,
    "start_time": "2021-06-14T20:01:21.346Z"
   },
   {
    "duration": 511,
    "start_time": "2021-06-14T20:02:38.515Z"
   },
   {
    "duration": 1778,
    "start_time": "2021-06-14T20:04:48.966Z"
   },
   {
    "duration": 782,
    "start_time": "2021-06-14T20:04:50.747Z"
   },
   {
    "duration": 22,
    "start_time": "2021-06-14T20:04:51.532Z"
   },
   {
    "duration": 317,
    "start_time": "2021-06-14T20:04:51.557Z"
   },
   {
    "duration": 15,
    "start_time": "2021-06-14T20:04:51.876Z"
   },
   {
    "duration": 2794,
    "start_time": "2021-06-14T20:04:51.893Z"
   },
   {
    "duration": 104,
    "start_time": "2021-06-14T20:04:54.689Z"
   },
   {
    "duration": 125959,
    "start_time": "2021-06-14T20:04:54.796Z"
   },
   {
    "duration": 122,
    "start_time": "2021-06-14T20:07:00.759Z"
   },
   {
    "duration": 4,
    "start_time": "2021-06-14T20:07:00.884Z"
   },
   {
    "duration": 10,
    "start_time": "2021-06-14T20:07:00.890Z"
   },
   {
    "duration": 1370419,
    "start_time": "2021-06-14T20:07:00.902Z"
   },
   {
    "duration": 16,
    "start_time": "2021-06-14T20:29:51.324Z"
   },
   {
    "duration": 232,
    "start_time": "2021-06-14T20:29:51.342Z"
   },
   {
    "duration": 1617,
    "start_time": "2021-06-14T20:33:19.030Z"
   },
   {
    "duration": 782,
    "start_time": "2021-06-14T20:33:20.650Z"
   },
   {
    "duration": 23,
    "start_time": "2021-06-14T20:33:21.434Z"
   },
   {
    "duration": 314,
    "start_time": "2021-06-14T20:33:21.459Z"
   },
   {
    "duration": 14,
    "start_time": "2021-06-14T20:33:21.775Z"
   },
   {
    "duration": 2878,
    "start_time": "2021-06-14T20:33:21.792Z"
   },
   {
    "duration": 82,
    "start_time": "2021-06-14T20:33:24.673Z"
   },
   {
    "duration": 70606,
    "start_time": "2021-06-14T20:33:24.759Z"
   },
   {
    "duration": 161,
    "start_time": "2021-06-14T20:34:35.370Z"
   },
   {
    "duration": 4,
    "start_time": "2021-06-14T20:34:35.534Z"
   },
   {
    "duration": 9,
    "start_time": "2021-06-14T20:34:35.541Z"
   },
   {
    "duration": 730607,
    "start_time": "2021-06-14T20:34:35.552Z"
   },
   {
    "duration": 17,
    "start_time": "2021-06-14T20:46:46.162Z"
   },
   {
    "duration": 141,
    "start_time": "2021-06-14T20:46:46.182Z"
   },
   {
    "duration": 11011,
    "start_time": "2021-06-14T20:46:46.326Z"
   },
   {
    "duration": 11306,
    "start_time": "2021-06-14T20:46:57.340Z"
   },
   {
    "duration": 1581892,
    "start_time": "2021-06-14T20:47:08.649Z"
   },
   {
    "duration": 24407,
    "start_time": "2021-06-14T21:13:30.543Z"
   },
   {
    "duration": 11829,
    "start_time": "2021-06-14T21:13:54.952Z"
   },
   {
    "duration": 11272,
    "start_time": "2021-06-14T21:14:06.783Z"
   },
   {
    "duration": 4,
    "start_time": "2021-06-14T21:14:18.057Z"
   },
   {
    "duration": 13,
    "start_time": "2021-06-14T21:14:18.064Z"
   },
   {
    "duration": 735350,
    "start_time": "2021-06-14T21:14:18.081Z"
   },
   {
    "duration": 3,
    "start_time": "2021-06-14T21:26:33.434Z"
   },
   {
    "duration": 1423433,
    "start_time": "2021-06-14T21:26:33.439Z"
   },
   {
    "duration": 17057,
    "start_time": "2021-06-14T21:50:16.875Z"
   },
   {
    "duration": 5,
    "start_time": "2021-06-14T21:50:33.934Z"
   },
   {
    "duration": 61159,
    "start_time": "2021-06-14T21:50:33.941Z"
   },
   {
    "duration": 2922529,
    "start_time": "2021-06-14T21:51:35.102Z"
   }
  ],
  "kernelspec": {
   "display_name": "Python 3",
   "language": "python",
   "name": "python3"
  },
  "language_info": {
   "codemirror_mode": {
    "name": "ipython",
    "version": 3
   },
   "file_extension": ".py",
   "mimetype": "text/x-python",
   "name": "python",
   "nbconvert_exporter": "python",
   "pygments_lexer": "ipython3",
   "version": "3.7.10"
  },
  "toc": {
   "base_numbering": 1,
   "nav_menu": {},
   "number_sections": true,
   "sideBar": true,
   "skip_h1_title": true,
   "title_cell": "Содержание",
   "title_sidebar": "Contents",
   "toc_cell": true,
   "toc_position": {
    "height": "calc(100% - 180px)",
    "left": "10px",
    "top": "150px",
    "width": "302.391px"
   },
   "toc_section_display": true,
   "toc_window_display": true
  }
 },
 "nbformat": 4,
 "nbformat_minor": 2
}
